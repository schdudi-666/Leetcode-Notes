{
 "cells": [
  {
   "cell_type": "markdown",
   "id": "73eface1-e4f6-448c-b683-7a49c57b3b55",
   "metadata": {},
   "source": [
    "# 除本身之外的积"
   ]
  },
  {
   "cell_type": "markdown",
   "id": "0d992b7f-fa11-4c96-b4bd-79fdd3410e48",
   "metadata": {},
   "source": [
    "### 思路"
   ]
  },
  {
   "cell_type": "markdown",
   "id": "a4811db4-1d68-473c-bc90-2a31bfc242ed",
   "metadata": {},
   "source": [
    "本体的核心思路是用前缀积和后缀积的思想 先正方向遍历数组 得到除本身之外 左边所有数的积 再从反方向遍历 补充右边的积"
   ]
  },
  {
   "cell_type": "markdown",
   "id": "01707527-f60d-4719-848c-b1b19912b957",
   "metadata": {},
   "source": [
    "### 代码"
   ]
  },
  {
   "cell_type": "code",
   "execution_count": 7,
   "id": "d49c4328-de75-4314-bbe9-9b4425c71e99",
   "metadata": {},
   "outputs": [
    {
     "name": "stdin",
     "output_type": "stream",
     "text": [
      " 1, 2, 8, 10\n"
     ]
    },
    {
     "name": "stdout",
     "output_type": "stream",
     "text": [
      "[160, 80, 20, 16]\n"
     ]
    }
   ],
   "source": [
    "class Solution:\n",
    "    def productExceptSelf(self, nums):\n",
    "        result = []\n",
    "        leftproduct = 1\n",
    "        for i in range(len(nums)):\n",
    "            result.append(leftproduct)\n",
    "            leftproduct *= nums[i]\n",
    "        rightproduct = 1\n",
    "        for j in range(len(result)-1, -1, -1):\n",
    "            result[j] *= rightproduct\n",
    "            rightproduct *= nums[j]\n",
    "        return result\n",
    "# input\n",
    "nums = input()\n",
    "\n",
    "nums = [int(x.strip())for x in nums.split(',')]\n",
    "solution = Solution()\n",
    "print(solution.productExceptSelf(nums))"
   ]
  },
  {
   "cell_type": "markdown",
   "id": "450beae1-8a79-48fe-90a9-7659ecd24190",
   "metadata": {},
   "source": [
    "### 类似题目（42. 接雨水）"
   ]
  },
  {
   "cell_type": "markdown",
   "id": "7f82b9d0-ba65-4615-86e2-e919b41ff6c5",
   "metadata": {},
   "source": [
    "### 思路"
   ]
  },
  {
   "cell_type": "markdown",
   "id": "0db0b3c5-1cfd-489d-9bd8-77f4fb00b51a",
   "metadata": {},
   "source": [
    "本题的核心思路依旧使用前缀和后缀方式 比如[3, 0, 0, 4]这个数组 第一次遍历找出左边最大的 [0, 3, 3, 3] 第二次遍历找出右边最大的 [4, 4, 4, 0] 最后使用左边的和右边的最小值减去当前值 小于0则默认0 最后把数组中结果相加即可"
   ]
  },
  {
   "cell_type": "code",
   "execution_count": 15,
   "id": "e619aa53-0ffa-4591-8b37-8acf57616793",
   "metadata": {},
   "outputs": [
    {
     "name": "stdin",
     "output_type": "stream",
     "text": [
      " 3, 0, 0, 4\n"
     ]
    },
    {
     "name": "stdout",
     "output_type": "stream",
     "text": [
      "6\n"
     ]
    }
   ],
   "source": [
    "class Solution:\n",
    "    def trap(self, height):\n",
    "        leftmax = []\n",
    "        lefthighest = 0\n",
    "        for i in range(len(height)):\n",
    "            leftmax.append(lefthighest)\n",
    "            lefthighest = max(height[i], lefthighest)\n",
    "        righthighest = 0\n",
    "        rightmax = [0] * len(height)\n",
    "        for j in range(len(height)-1, -1, -1):\n",
    "            rightmax[j] = righthighest\n",
    "            righthighest = max(height[j], righthighest)\n",
    "        water = []\n",
    "        for i in range(len(height)):\n",
    "            water.append(max(min(rightmax[i], leftmax[i])-height[i],0))\n",
    "        return sum(water)\n",
    "\n",
    "height = input()\n",
    "\n",
    "height = [int(x.strip())for x in height.split(',')]\n",
    "solution = Solution()\n",
    "print(solution.trap(height))"
   ]
  },
  {
   "cell_type": "markdown",
   "id": "1270c054-309e-4c3e-bc8d-2f25837a98c2",
   "metadata": {},
   "source": [
    "另一种思路是用双指针的思想把空间变成O(1)"
   ]
  },
  {
   "cell_type": "code",
   "execution_count": 18,
   "id": "f376a62e-e320-4728-affc-c0f6e6253009",
   "metadata": {},
   "outputs": [
    {
     "name": "stdin",
     "output_type": "stream",
     "text": [
      " 3, 0, 0, 4\n"
     ]
    },
    {
     "name": "stdout",
     "output_type": "stream",
     "text": [
      "6\n"
     ]
    }
   ],
   "source": [
    "class Solution:\n",
    "    def trapx(self, height):\n",
    "        leftmax = 0\n",
    "        rightmax = 0\n",
    "        left = 0\n",
    "        right = len(height) - 1\n",
    "        water = 0\n",
    "        while left <= right:\n",
    "            leftmax = max(leftmax, height[left])\n",
    "            rightmax = max(rightmax, height[right])\n",
    "            if leftmax <= rightmax:\n",
    "                water += leftmax - height[left]\n",
    "                left += 1\n",
    "            else:\n",
    "                water += rightmax - height[right]\n",
    "                right -= 1\n",
    "        return water\n",
    "\n",
    "height = input()\n",
    "\n",
    "height = [int(x.strip())for x in height.split(',')]\n",
    "solution = Solution()\n",
    "print(solution.trapx(height))"
   ]
  }
 ],
 "metadata": {
  "kernelspec": {
   "display_name": "Python [conda env:base] *",
   "language": "python",
   "name": "conda-base-py"
  },
  "language_info": {
   "codemirror_mode": {
    "name": "ipython",
    "version": 3
   },
   "file_extension": ".py",
   "mimetype": "text/x-python",
   "name": "python",
   "nbconvert_exporter": "python",
   "pygments_lexer": "ipython3",
   "version": "3.12.3"
  }
 },
 "nbformat": 4,
 "nbformat_minor": 5
}
