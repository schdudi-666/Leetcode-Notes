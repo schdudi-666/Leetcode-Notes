{
 "cells": [
  {
   "cell_type": "markdown",
   "id": "49f157eb-8f25-4b89-95b4-84e26ed7df77",
   "metadata": {},
   "source": [
    "# 找出所有数组中消失的数"
   ]
  },
  {
   "cell_type": "markdown",
   "id": "ce9a7d8c-3745-42f9-ac26-d8acfa7bb90c",
   "metadata": {},
   "source": [
    "### 思路"
   ]
  },
  {
   "cell_type": "markdown",
   "id": "1482d7a3-c493-4715-a5fb-b5d62d82c790",
   "metadata": {},
   "source": [
    "核心思路是用负号标记消失的数字 第一次遍历时加负号 第二次遍历时把不为负数的位置下标+1返回"
   ]
  },
  {
   "cell_type": "markdown",
   "id": "6e796fc8-3773-4440-89b6-41ad2383822c",
   "metadata": {},
   "source": [
    "### 代码"
   ]
  },
  {
   "cell_type": "code",
   "execution_count": 5,
   "id": "2d23ec2b-1742-41d7-b639-841fcbf59baa",
   "metadata": {},
   "outputs": [
    {
     "name": "stdin",
     "output_type": "stream",
     "text": [
      " 1, 2, 3, 3, 3, 6\n"
     ]
    },
    {
     "name": "stdout",
     "output_type": "stream",
     "text": [
      "[4, 5]\n"
     ]
    }
   ],
   "source": [
    "class Solution:\n",
    "    def findDisappearedNumbers(self, nums):\n",
    "        for i, num in enumerate(nums):\n",
    "            nums[abs(num)-1] = -abs(nums[abs(num)-1])\n",
    "        res = []\n",
    "        for i in range(len(nums)):\n",
    "            if nums[i] > 0:\n",
    "                res.append(i+1)\n",
    "        return res\n",
    "\n",
    "nums = input()\n",
    "\n",
    "nums = [int(x.strip()) for x in nums.split(',')]\n",
    "solution = Solution()\n",
    "print(solution.findDisappearedNumbers(nums))"
   ]
  },
  {
   "cell_type": "markdown",
   "id": "1b773e90-bee3-4a24-9d98-7805e5f1733d",
   "metadata": {},
   "source": [
    "### 类似题目（442. 找出数组中的重复项）"
   ]
  },
  {
   "cell_type": "markdown",
   "id": "2db64c83-2258-4bfb-9d05-c33a6d2faca6",
   "metadata": {},
   "source": [
    "### 思路"
   ]
  },
  {
   "cell_type": "markdown",
   "id": "3683dfb2-3a53-4880-bff1-ceffb0eae88b",
   "metadata": {},
   "source": [
    "核心思路是一样的 只不过如果遇到目标数已经是负数时 记录下来即可"
   ]
  },
  {
   "cell_type": "markdown",
   "id": "fb0c938b-1017-4c79-9804-2116849268b8",
   "metadata": {},
   "source": [
    "### 代码"
   ]
  },
  {
   "cell_type": "code",
   "execution_count": 11,
   "id": "fdeea5f4-0361-4b43-a958-0342c640c78b",
   "metadata": {},
   "outputs": [
    {
     "name": "stdin",
     "output_type": "stream",
     "text": [
      " 4, 3, 2, 7, 8, 2, 3, 1\n"
     ]
    },
    {
     "name": "stdout",
     "output_type": "stream",
     "text": [
      "[2, 3]\n"
     ]
    }
   ],
   "source": [
    "class Solution:\n",
    "    def findDuplicates(self, nums):\n",
    "        res = []\n",
    "        for i, num in enumerate(nums):\n",
    "            target_index = abs(num) - 1\n",
    "            if nums[target_index] < 0:\n",
    "                res.append(abs(num))\n",
    "            else:\n",
    "                nums[target_index] = -abs(nums[target_index])\n",
    "        return res\n",
    "\n",
    "nums = input()\n",
    "\n",
    "nums = [int(x.strip()) for x in nums.split(',')]\n",
    "solution = Solution()\n",
    "print(solution.findDuplicates(nums))"
   ]
  }
 ],
 "metadata": {
  "kernelspec": {
   "display_name": "Python [conda env:base] *",
   "language": "python",
   "name": "conda-base-py"
  },
  "language_info": {
   "codemirror_mode": {
    "name": "ipython",
    "version": 3
   },
   "file_extension": ".py",
   "mimetype": "text/x-python",
   "name": "python",
   "nbconvert_exporter": "python",
   "pygments_lexer": "ipython3",
   "version": "3.12.3"
  }
 },
 "nbformat": 4,
 "nbformat_minor": 5
}
