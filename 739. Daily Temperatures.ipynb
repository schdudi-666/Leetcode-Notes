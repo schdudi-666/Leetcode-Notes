{
 "cells": [
  {
   "cell_type": "markdown",
   "id": "2b2228ec-3b8f-4f0c-8390-9a5caa43f7e9",
   "metadata": {},
   "source": [
    "# 每日温度"
   ]
  },
  {
   "cell_type": "markdown",
   "id": "266fa57a-c076-4e22-9a40-e231206290ab",
   "metadata": {},
   "source": [
    "### 思路"
   ]
  },
  {
   "cell_type": "markdown",
   "id": "86fe3adf-d580-48a6-aa1c-560ac095ac6e",
   "metadata": {},
   "source": [
    "本题的思路使用一个栈来记录待处理的索引下标 以及一个预先设置好的列表来填充结果 思路类似496题的下一个最大元素"
   ]
  },
  {
   "cell_type": "markdown",
   "id": "d4096374-b7e4-4a2f-8738-f8413bbbe7c5",
   "metadata": {},
   "source": [
    "### 代码"
   ]
  },
  {
   "cell_type": "code",
   "execution_count": 7,
   "id": "5f3fe977-a088-4cc0-945d-a3a480d85651",
   "metadata": {},
   "outputs": [
    {
     "name": "stdin",
     "output_type": "stream",
     "text": [
      " 10, 20, 30, 60, 50, 40, 100\n"
     ]
    },
    {
     "name": "stdout",
     "output_type": "stream",
     "text": [
      "[1, 1, 1, 3, 2, 1, 0]\n"
     ]
    }
   ],
   "source": [
    "class Solution:\n",
    "    def dailyTemperatures(self, temperatures):\n",
    "        stack = []\n",
    "        res = [0] * len(temperatures)\n",
    "        for i, t in enumerate(temperatures):\n",
    "            while stack and temperatures[stack[-1]] < t:\n",
    "                res[stack[-1]] = i - stack[-1]\n",
    "                stack.pop()\n",
    "            stack.append(i)\n",
    "        return res\n",
    "\n",
    "t = input()\n",
    "t = [int(x.strip()) for x in t.split(',')]\n",
    "print(Solution().dailyTemperatures(t))"
   ]
  },
  {
   "cell_type": "markdown",
   "id": "d0af706a-f54f-45c4-a357-cb590f165453",
   "metadata": {},
   "source": [
    "### 类似题目（901. 在线股票价格跨度）"
   ]
  },
  {
   "cell_type": "markdown",
   "id": "d747c5c6-e659-48da-b1df-db6c47ced74a",
   "metadata": {},
   "source": [
    "### 思路"
   ]
  },
  {
   "cell_type": "markdown",
   "id": "d97cc85c-7dd6-4110-91d0-876ef45219f9",
   "metadata": {},
   "source": [
    "本题依旧采用单调栈的思想 只不过是在栈中一次性压入两个数据 价格和跨度"
   ]
  },
  {
   "cell_type": "markdown",
   "id": "7de98e28-002b-4bf4-bd6a-54e79fe32d44",
   "metadata": {},
   "source": [
    "### 代码"
   ]
  },
  {
   "cell_type": "code",
   "execution_count": 13,
   "id": "e5d8cb8e-3b26-4048-9ce8-61e401088df0",
   "metadata": {},
   "outputs": [
    {
     "name": "stdout",
     "output_type": "stream",
     "text": [
      "输入价格： [100, 80, 60, 70, 60, 75, 85]\n",
      "输出跨度： [1, 1, 1, 2, 1, 4, 6]\n"
     ]
    }
   ],
   "source": [
    "class StockSpanner:\n",
    "    def __init__(self):\n",
    "        self.stack = []\n",
    "\n",
    "    def next(self, price: int) -> int:\n",
    "        span = 1\n",
    "        while self.stack and self.stack[-1][0] <= price:\n",
    "            span += self.stack[-1][1]\n",
    "            self.stack.pop()\n",
    "        self.stack.append([price, span])\n",
    "        return span\n",
    "\n",
    "\n",
    "spanner = StockSpanner()\n",
    "prices = [100, 80, 60, 70, 60, 75, 85]\n",
    "\n",
    "results = [spanner.next(p) for p in prices]\n",
    "\n",
    "print(\"输入价格：\", prices)\n",
    "print(\"输出跨度：\", results)"
   ]
  }
 ],
 "metadata": {
  "kernelspec": {
   "display_name": "Python [conda env:base] *",
   "language": "python",
   "name": "conda-base-py"
  },
  "language_info": {
   "codemirror_mode": {
    "name": "ipython",
    "version": 3
   },
   "file_extension": ".py",
   "mimetype": "text/x-python",
   "name": "python",
   "nbconvert_exporter": "python",
   "pygments_lexer": "ipython3",
   "version": "3.12.3"
  }
 },
 "nbformat": 4,
 "nbformat_minor": 5
}
