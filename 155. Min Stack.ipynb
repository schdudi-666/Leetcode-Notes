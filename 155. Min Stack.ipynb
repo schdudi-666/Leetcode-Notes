{
 "cells": [
  {
   "cell_type": "markdown",
   "id": "6f7dd7a8-9ebe-4590-989e-ac4e690138d9",
   "metadata": {},
   "source": [
    "# 最小栈"
   ]
  },
  {
   "cell_type": "markdown",
   "id": "574b26f8-de99-4e67-8a9b-4875b7a50326",
   "metadata": {},
   "source": [
    "### 思路"
   ]
  },
  {
   "cell_type": "markdown",
   "id": "3b94df93-5167-4944-8bab-59da108cff56",
   "metadata": {},
   "source": [
    "本题的思路是双栈法 建立一个常用栈和一个最小栈 push和pop的时候实时维护双栈即可"
   ]
  },
  {
   "cell_type": "markdown",
   "id": "5b076f93-912e-4b57-890a-213e639fc7e1",
   "metadata": {},
   "source": [
    "### 代码"
   ]
  },
  {
   "cell_type": "code",
   "execution_count": 1,
   "id": "542363ee-15e9-4699-85d7-9cd8e2f79233",
   "metadata": {},
   "outputs": [
    {
     "name": "stdout",
     "output_type": "stream",
     "text": [
      "Push 5 → stack=[5], min_stack=[5]\n",
      "Push 3 → stack=[5, 3], min_stack=[5, 3]\n",
      "Push 7 → stack=[5, 3, 7], min_stack=[5, 3]\n",
      "Current min: 3\n",
      "Pop 7 → stack=[5, 3], min_stack=[5, 3]\n",
      "Current min: 3\n",
      "Top element: 3\n"
     ]
    },
    {
     "data": {
      "text/plain": [
       "3"
      ]
     },
     "execution_count": 1,
     "metadata": {},
     "output_type": "execute_result"
    }
   ],
   "source": [
    "class MinStack:\n",
    "    def __init__(self):\n",
    "        self.stack = []\n",
    "        self.min_stack = []\n",
    "\n",
    "    def push(self, val: int) -> None:\n",
    "        if not self.min_stack or val <= self.min_stack[-1]:\n",
    "            self.min_stack.append(val)\n",
    "        self.stack.append(val)\n",
    "        print(f\"Push {val} → stack={self.stack}, min_stack={self.min_stack}\")\n",
    "\n",
    "    def pop(self) -> None:\n",
    "        if not self.stack:\n",
    "            print(\"⚠️ Stack is empty\")\n",
    "            return\n",
    "        val = self.stack.pop()\n",
    "        if val == self.min_stack[-1]:\n",
    "            self.min_stack.pop()\n",
    "        print(f\"Pop {val} → stack={self.stack}, min_stack={self.min_stack}\")\n",
    "\n",
    "    def top(self) -> int:\n",
    "        print(f\"Top element: {self.stack[-1] if self.stack else None}\")\n",
    "        return self.stack[-1] if self.stack else None\n",
    "\n",
    "    def getMin(self) -> int:\n",
    "        print(f\"Current min: {self.min_stack[-1] if self.min_stack else None}\")\n",
    "        return self.min_stack[-1] if self.min_stack else None\n",
    "\n",
    "minstack = MinStack()\n",
    "minstack.push(5)\n",
    "minstack.push(3)\n",
    "minstack.push(7)\n",
    "minstack.getMin()\n",
    "minstack.pop()\n",
    "minstack.getMin()\n",
    "minstack.top()"
   ]
  },
  {
   "cell_type": "markdown",
   "id": "d59bcb8c-3203-4e35-943e-46d2e07a8578",
   "metadata": {},
   "source": [
    "### 类似题目（496. 下一个最大元素）"
   ]
  },
  {
   "cell_type": "markdown",
   "id": "5ed0429e-a134-48a9-b37e-86579a5c8c4a",
   "metadata": {},
   "source": [
    "### 思路"
   ]
  },
  {
   "cell_type": "markdown",
   "id": "6ad4b2be-6477-4c1d-8c17-f7356f8e6e98",
   "metadata": {},
   "source": [
    "本题的思路是用字典制作映射关系 用栈来维护没比较过的元素 如果一直没遇到比当前大的元素（递减时）就一直加进栈里 如果遇到一个比当前大的元素 就开始弹栈并记录映射关系 一直弹到当前元素比栈顶元素小为止 最后没有映射关系的数都返回-1即可"
   ]
  },
  {
   "cell_type": "markdown",
   "id": "723fbd6b-e2b9-4cab-9162-1a4e9519d815",
   "metadata": {},
   "source": [
    "### 代码"
   ]
  },
  {
   "cell_type": "code",
   "execution_count": 12,
   "id": "fdf875b2-5369-4246-b221-ccef216cc48f",
   "metadata": {},
   "outputs": [
    {
     "name": "stdin",
     "output_type": "stream",
     "text": [
      "target array 1, 2, 3\n",
      "function array 3, 4, 1, 2\n"
     ]
    },
    {
     "name": "stdout",
     "output_type": "stream",
     "text": [
      "[2, -1, 4]\n"
     ]
    }
   ],
   "source": [
    "def nextGreaterElement(nums1, nums2):\n",
    "    d = {}\n",
    "    stack = []\n",
    "    res = []\n",
    "    for n in nums2:\n",
    "        while stack and n > stack[-1]:\n",
    "            d[stack.pop()] = n\n",
    "        stack.append(n)\n",
    "    for n in nums1:\n",
    "        if n in d:\n",
    "            res.append(d[n])\n",
    "        else:\n",
    "            res.append(-1)\n",
    "    return res\n",
    "\n",
    "nums1 = input('target array')\n",
    "nums2 = input('function array')\n",
    "\n",
    "nums1 = [int(x.strip()) for x in nums1.split(',')]\n",
    "nums2 = [int(x.strip()) for x in nums2.split(',')]\n",
    "\n",
    "print(nextGreaterElement(nums1, nums2))\n"
   ]
  }
 ],
 "metadata": {
  "kernelspec": {
   "display_name": "Python [conda env:base] *",
   "language": "python",
   "name": "conda-base-py"
  },
  "language_info": {
   "codemirror_mode": {
    "name": "ipython",
    "version": 3
   },
   "file_extension": ".py",
   "mimetype": "text/x-python",
   "name": "python",
   "nbconvert_exporter": "python",
   "pygments_lexer": "ipython3",
   "version": "3.12.3"
  }
 },
 "nbformat": 4,
 "nbformat_minor": 5
}
