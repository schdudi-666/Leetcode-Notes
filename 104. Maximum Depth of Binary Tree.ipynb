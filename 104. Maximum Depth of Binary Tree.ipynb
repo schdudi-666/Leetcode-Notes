{
 "cells": [
  {
   "cell_type": "markdown",
   "id": "1624b59b-a716-45b6-9362-316933195812",
   "metadata": {},
   "source": [
    "# 二叉树的最大深度"
   ]
  },
  {
   "cell_type": "markdown",
   "id": "a8489e13-9a4b-405f-8e03-e3dedee7a755",
   "metadata": {},
   "source": [
    "### 思路"
   ]
  },
  {
   "cell_type": "markdown",
   "id": "7dda20df-188f-46f3-968c-c180a2ce484e",
   "metadata": {},
   "source": [
    "本题为二叉树基础入门题 通过DFS(深度优先)的方法 递归实现了最大深度的查找 也可以通过BFS(广度优先)"
   ]
  },
  {
   "cell_type": "markdown",
   "id": "6eb13d24-bfc7-401f-9c80-5cc5ffee0e68",
   "metadata": {},
   "source": [
    "### 代码"
   ]
  },
  {
   "cell_type": "code",
   "execution_count": 8,
   "id": "fecf38f6-55bd-436d-8672-b730058eb79f",
   "metadata": {},
   "outputs": [
    {
     "name": "stdout",
     "output_type": "stream",
     "text": [
      "DFS（递归）计算结果： 3\n",
      "BFS（层序）计算结果： 3\n"
     ]
    }
   ],
   "source": [
    "class TreeNode:\n",
    "    def __init__(self, val=0, left=None, right=None):\n",
    "        self.val = val\n",
    "        self.left = left\n",
    "        self.right = right\n",
    "\n",
    "# 方法 1：递归（DFS）\n",
    "class SolutionDFS:\n",
    "    def maxDepth(self, root: TreeNode) -> int:\n",
    "        if not root:\n",
    "            return 0\n",
    "        return 1 + max(self.maxDepth(root.left), self.maxDepth(root.right))\n",
    "\n",
    "# 方法 2：层序遍历（BFS）\n",
    "from collections import deque\n",
    "\n",
    "class SolutionBFS:\n",
    "    def maxDepth(self, root: TreeNode) -> int:\n",
    "        if not root:\n",
    "            return 0\n",
    "        q = deque([root])\n",
    "        depth = 0\n",
    "        while q:\n",
    "            for _ in range(len(q)):\n",
    "                node = q.popleft()\n",
    "                if node.left:\n",
    "                    q.append(node.left)\n",
    "                if node.right:\n",
    "                    q.append(node.right)\n",
    "            depth += 1\n",
    "        return depth\n",
    "\n",
    "root = TreeNode(3)\n",
    "root.left = TreeNode(9)\n",
    "root.right = TreeNode(20, TreeNode(15), TreeNode(7))\n",
    "\n",
    "dfs_solver = SolutionDFS()\n",
    "bfs_solver = SolutionBFS()\n",
    "\n",
    "depth_dfs = dfs_solver.maxDepth(root)\n",
    "depth_bfs = bfs_solver.maxDepth(root)\n",
    "\n",
    "print(\"DFS（递归）计算结果：\", depth_dfs)\n",
    "print(\"BFS（层序）计算结果：\", depth_bfs)"
   ]
  },
  {
   "cell_type": "markdown",
   "id": "0744b44b-64d1-4135-bfeb-06d260135b3f",
   "metadata": {},
   "source": [
    "### 类似问题（559. N叉树的最大深度）"
   ]
  },
  {
   "cell_type": "markdown",
   "id": "aca455be-a999-4727-89f7-5e3d92d1f1dc",
   "metadata": {},
   "source": [
    "### 思路"
   ]
  },
  {
   "cell_type": "markdown",
   "id": "f7cac97e-9530-4d9b-946a-a722a143c14f",
   "metadata": {},
   "source": [
    "与上题类似 只不过不一定为二叉树 因此只需要改成比较每一个孩子树就可以"
   ]
  },
  {
   "cell_type": "markdown",
   "id": "f116bd83-3ac9-483e-b5c2-08621f3be0ff",
   "metadata": {},
   "source": [
    "### 代码"
   ]
  },
  {
   "cell_type": "code",
   "execution_count": 14,
   "id": "dcb96b4e-c116-4bac-a934-415aef98cab2",
   "metadata": {},
   "outputs": [
    {
     "name": "stdout",
     "output_type": "stream",
     "text": [
      "DFS（递归）最大深度： 3\n",
      "BFS（层序）最大深度： 3\n"
     ]
    }
   ],
   "source": [
    "from collections import deque\n",
    "\n",
    "class Node:\n",
    "    def __init__(self, val=None, children=None):\n",
    "        self.val = val\n",
    "        self.children = children or []\n",
    "\n",
    "class SolutionDFS:\n",
    "    def maxDepth(self, root: 'Node') -> int:\n",
    "        if not root:\n",
    "            return 0\n",
    "        if not root.children:\n",
    "            return 1\n",
    "        return 1 + max(self.maxDepth(child) for child in root.children)\n",
    "\n",
    "class SolutionBFS:\n",
    "    def maxDepth(self, root: 'Node') -> int:\n",
    "        if not root:\n",
    "            return 0\n",
    "        q = deque([root])\n",
    "        depth = 0\n",
    "        while q:\n",
    "            for _ in range(len(q)):\n",
    "                node = q.popleft()\n",
    "                for child in node.children:\n",
    "                    q.append(child)\n",
    "            depth += 1\n",
    "        return depth\n",
    "\n",
    "root = Node(1, [\n",
    "    Node(3, [Node(5), Node(6)]),\n",
    "    Node(2),\n",
    "    Node(4)\n",
    "])\n",
    "\n",
    "dfs_solver = SolutionDFS()\n",
    "bfs_solver = SolutionBFS()\n",
    "\n",
    "print(\"DFS（递归）最大深度：\", dfs_solver.maxDepth(root))\n",
    "print(\"BFS（层序）最大深度：\", bfs_solver.maxDepth(root))\n"
   ]
  }
 ],
 "metadata": {
  "kernelspec": {
   "display_name": "Python [conda env:base] *",
   "language": "python",
   "name": "conda-base-py"
  },
  "language_info": {
   "codemirror_mode": {
    "name": "ipython",
    "version": 3
   },
   "file_extension": ".py",
   "mimetype": "text/x-python",
   "name": "python",
   "nbconvert_exporter": "python",
   "pygments_lexer": "ipython3",
   "version": "3.12.3"
  }
 },
 "nbformat": 4,
 "nbformat_minor": 5
}
