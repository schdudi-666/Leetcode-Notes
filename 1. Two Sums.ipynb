{
 "cells": [
  {
   "cell_type": "markdown",
   "id": "1839a3e4-11c1-4b33-b0f7-1a86c6d36fd7",
   "metadata": {},
   "source": [
    "# 两数之和"
   ]
  },
  {
   "cell_type": "markdown",
   "id": "b08adbc2-53f3-4fe2-810f-3ba8144fc687",
   "metadata": {},
   "source": [
    "### 基础知识"
   ]
  },
  {
   "cell_type": "markdown",
   "id": "810be3a3-0fde-474b-b669-7dc57af95f82",
   "metadata": {},
   "source": [
    "1. enumerate()：同时取一个数组的下标和数值 常常用于循环当中"
   ]
  },
  {
   "cell_type": "code",
   "execution_count": 21,
   "id": "889bd924-d26c-4e9c-89e8-84372fdb9248",
   "metadata": {},
   "outputs": [],
   "source": [
    "nums = [10, 20, 30, 40] # 列表\n",
    "s = 'abc' # 字符串\n",
    "t = ('apple', 'banana', 'cherry') # 元组\n",
    "d = {'a': 1, 'b': 2, 'c': 3} # 字典"
   ]
  },
  {
   "cell_type": "code",
   "execution_count": 16,
   "id": "57a39f57-7234-497f-9433-1f5be6b003f1",
   "metadata": {},
   "outputs": [
    {
     "name": "stdout",
     "output_type": "stream",
     "text": [
      "0 10\n",
      "1 20\n",
      "2 30\n",
      "3 40\n"
     ]
    }
   ],
   "source": [
    "for i in range(len(nums)):\n",
    "    num = nums[i]\n",
    "    print(i, num)"
   ]
  },
  {
   "cell_type": "markdown",
   "id": "5b63c9ee-31f9-4427-8c69-39eebed768f7",
   "metadata": {},
   "source": [
    "等价于："
   ]
  },
  {
   "cell_type": "code",
   "execution_count": 19,
   "id": "6861940c-ceb9-4811-b96d-faecf3f79477",
   "metadata": {},
   "outputs": [
    {
     "name": "stdout",
     "output_type": "stream",
     "text": [
      "0 10\n",
      "1 20\n",
      "2 30\n",
      "3 40\n"
     ]
    }
   ],
   "source": [
    "for i, num in enumerate(nums):\n",
    "    print(i, num)"
   ]
  },
  {
   "cell_type": "markdown",
   "id": "5e97db57-b9df-43fb-822c-f6ea43af6e13",
   "metadata": {},
   "source": [
    "在其他形式的运用："
   ]
  },
  {
   "cell_type": "code",
   "execution_count": 26,
   "id": "573041cd-3999-4ce1-9848-7eb91416aa11",
   "metadata": {},
   "outputs": [
    {
     "name": "stdout",
     "output_type": "stream",
     "text": [
      "string\n",
      "0 a\n",
      "1 b\n",
      "2 c\n",
      "tuple\n",
      "1 apple\n",
      "2 banana\n",
      "3 cherry\n",
      "dictionary\n",
      "0 a\n",
      "1 b\n",
      "2 c\n"
     ]
    }
   ],
   "source": [
    "print('string')\n",
    "for i, ch in enumerate(s):\n",
    "    print(i, ch)\n",
    "print('tuple')\n",
    "for i, fruit in enumerate(t, start = 1):\n",
    "    print(i, fruit)\n",
    "print('dictionary')\n",
    "for i, item in enumerate(d):\n",
    "    print(i, item)"
   ]
  },
  {
   "cell_type": "markdown",
   "id": "e11b8029-5ee1-44a6-a29b-1c931a76ec19",
   "metadata": {},
   "source": [
    "2. 字典"
   ]
  },
  {
   "cell_type": "code",
   "execution_count": 30,
   "id": "7b61f002-2003-49bd-b9d0-f89c45956f1c",
   "metadata": {},
   "outputs": [],
   "source": [
    "di = {'name': 'Alice', 'age': 22}"
   ]
  },
  {
   "cell_type": "code",
   "execution_count": 34,
   "id": "cfe95612-a87f-42bd-ba7a-21fb63047d4c",
   "metadata": {},
   "outputs": [
    {
     "name": "stdout",
     "output_type": "stream",
     "text": [
      "Alice\n",
      "Alice\n",
      "0\n"
     ]
    }
   ],
   "source": [
    "print(di['name'])      # 直接取，键不存在会报错\n",
    "print(di.get('name'))  # 推荐写法，键不存在返回 None\n",
    "print(di.get('score', 0))  # 可设置默认值"
   ]
  },
  {
   "cell_type": "markdown",
   "id": "7aead449-700c-494d-bac0-3608e85aecb9",
   "metadata": {},
   "source": [
    "### 思路"
   ]
  },
  {
   "cell_type": "markdown",
   "id": "f0c709b3-9146-4a31-8362-9696e919c384",
   "metadata": {},
   "source": [
    "先维护一个字典（键为数值，数值为位置），然后用enumerate循环分解数组位置和值，在每个循环中维护一个diff，如果diff在complement的键中，则返回该键的数值，和当前循环到的位置。"
   ]
  },
  {
   "cell_type": "markdown",
   "id": "c834c799-80a6-4830-aabe-1e2eef848d78",
   "metadata": {},
   "source": [
    "### 代码实现"
   ]
  },
  {
   "cell_type": "code",
   "execution_count": 45,
   "id": "3373dcad-8992-4e47-84e9-4e2ac4c15e92",
   "metadata": {},
   "outputs": [
    {
     "name": "stdin",
     "output_type": "stream",
     "text": [
      "请输入数组，用逗号分隔： 1, 2, 3, 4, 5, 6\n",
      "请输入目标值： 9\n"
     ]
    },
    {
     "name": "stdout",
     "output_type": "stream",
     "text": [
      "[3, 4]\n"
     ]
    }
   ],
   "source": [
    "class Solution:\n",
    "    def twoSum(self, nums, target):\n",
    "        complement = {}\n",
    "        for i, num in enumerate(nums):\n",
    "            diff = target - num\n",
    "            if diff in complement:\n",
    "                return [complement[diff], i]\n",
    "            complement[num] = i\n",
    "# 输入\n",
    "nums = input(\"请输入数组，用逗号分隔：\")\n",
    "target = int(input(\"请输入目标值：\"))\n",
    "\n",
    "# 转化字符串为数组列表\n",
    "nums = [int(x) for x in nums.split(',')]\n",
    "\n",
    "solution = Solution()\n",
    "print(solution.twoSum(nums, target))"
   ]
  },
  {
   "cell_type": "markdown",
   "id": "abf0618e-fcee-4368-98e1-84a599f63dcf",
   "metadata": {},
   "source": [
    "### 相似题目（167. 两数之和 2）"
   ]
  },
  {
   "cell_type": "markdown",
   "id": "b735435c-0aa8-42cc-98df-84f48c4b67f0",
   "metadata": {},
   "source": [
    "### 思路"
   ]
  },
  {
   "cell_type": "markdown",
   "id": "5b10bf81-46bb-42c4-bdfe-c82afecdf6a8",
   "metadata": {},
   "source": [
    "由于数组已经排序，只需要双指针的方式就可以实现"
   ]
  },
  {
   "cell_type": "code",
   "execution_count": 59,
   "id": "075b4e02-a630-447d-9891-dfa2758647aa",
   "metadata": {},
   "outputs": [
    {
     "name": "stdin",
     "output_type": "stream",
     "text": [
      "请输入升序数组，用逗号分隔： 1, 2, 3, 4, 5, 6, 7, 8\n",
      "请输入目标值： 15\n"
     ]
    },
    {
     "name": "stdout",
     "output_type": "stream",
     "text": [
      "[7, 8]\n"
     ]
    }
   ],
   "source": [
    "class Solution:\n",
    "    def twoSortSum(self, numbers, target):\n",
    "        left, right = 0, len(numbers) - 1\n",
    "        while left < right:\n",
    "            s = numbers[left] + numbers[right]\n",
    "            if s == target:\n",
    "                return [left + 1, right + 1]\n",
    "            elif s > target:\n",
    "                right -= 1\n",
    "            else:\n",
    "                left += 1\n",
    "        return []\n",
    "# 输入\n",
    "numbers = input(\"请输入升序数组，用逗号分隔：\")\n",
    "target = int(input(\"请输入目标值：\"))\n",
    "\n",
    "# 转化字符串为数组列表\n",
    "numbers = [int(x) for x in numbers.split(',')]\n",
    "\n",
    "solution = Solution()\n",
    "print(solution.twoSortSum(numbers, target))"
   ]
  }
 ],
 "metadata": {
  "kernelspec": {
   "display_name": "Python [conda env:base] *",
   "language": "python",
   "name": "conda-base-py"
  },
  "language_info": {
   "codemirror_mode": {
    "name": "ipython",
    "version": 3
   },
   "file_extension": ".py",
   "mimetype": "text/x-python",
   "name": "python",
   "nbconvert_exporter": "python",
   "pygments_lexer": "ipython3",
   "version": "3.12.3"
  }
 },
 "nbformat": 4,
 "nbformat_minor": 5
}
