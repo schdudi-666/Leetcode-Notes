{
 "cells": [
  {
   "cell_type": "markdown",
   "id": "a5c06742-4ebf-4f43-b7c5-480f76de068e",
   "metadata": {},
   "source": [
    "# 中序遍历二叉树"
   ]
  },
  {
   "cell_type": "markdown",
   "id": "fdbd9b15-6918-48eb-995d-1a7201582d45",
   "metadata": {},
   "source": [
    "### 思路"
   ]
  },
  {
   "cell_type": "markdown",
   "id": "8085261d-cc76-4c6a-b5cb-f6dcbba749a6",
   "metadata": {},
   "source": [
    "由于是中序遍历 因此DFS及其适合本思想 我们优先实现DFS 顺序一目了然 左 -> 中 -> 右 BFS则需要一个状态值来确定填充结果的时机 较为繁琐"
   ]
  },
  {
   "cell_type": "markdown",
   "id": "ee61ac3b-c814-4baa-bf78-e2fafcb8a321",
   "metadata": {},
   "source": [
    "### 代码"
   ]
  },
  {
   "cell_type": "code",
   "execution_count": 6,
   "id": "62f631b0-0a52-4bcc-9011-9744c1c60177",
   "metadata": {},
   "outputs": [
    {
     "name": "stdout",
     "output_type": "stream",
     "text": [
      "递归 DFS 结果: [1, 3, 2]\n",
      "栈模拟 DFS 结果: [1, 3, 2]\n"
     ]
    }
   ],
   "source": [
    "from typing import Optional, List\n",
    "\n",
    "class TreeNode:\n",
    "    def __init__(self, val=0, left=None, right=None):\n",
    "        self.val = val\n",
    "        self.left = left\n",
    "        self.right = right\n",
    "\n",
    "class SolutionDFS:\n",
    "    def inorderTraversal(self, root: Optional[TreeNode]) -> List[int]:\n",
    "        res = []\n",
    "        def dfs(node):\n",
    "            if not node:\n",
    "                return\n",
    "            dfs(node.left)\n",
    "            res.append(node.val)\n",
    "            dfs(node.right)\n",
    "        dfs(root)\n",
    "        return res\n",
    "\n",
    "class SolutionStack:\n",
    "    def inorderTraversal(self, root: Optional[TreeNode]) -> List[int]:\n",
    "        if not root:\n",
    "            return []\n",
    "        res = []\n",
    "        stack = [(root, 'go_left')]\n",
    "        while stack:\n",
    "            node, state = stack.pop()\n",
    "            if not node:\n",
    "                continue\n",
    "            if state == 'go_left':\n",
    "                stack.append((node, 'self'))\n",
    "                stack.append((node.left, 'go_left'))\n",
    "            if state == 'self':\n",
    "                res.append(node.val)\n",
    "                stack.append((node.right, 'go_left'))\n",
    "        return res\n",
    "\n",
    "#      1\n",
    "#       \\\n",
    "#        2\n",
    "#       /\n",
    "#      3\n",
    "root = TreeNode(1)\n",
    "root.right = TreeNode(2, TreeNode(3))\n",
    "\n",
    "print(\"递归 DFS 结果:\", SolutionDFS().inorderTraversal(root))\n",
    "print(\"栈模拟 DFS 结果:\", SolutionStack().inorderTraversal(root))"
   ]
  },
  {
   "cell_type": "markdown",
   "id": "40b33115-4a86-43ee-9a4e-54ff60283f55",
   "metadata": {},
   "source": [
    "### 类似题目（145. 后序遍历二叉树）"
   ]
  },
  {
   "cell_type": "markdown",
   "id": "c340d4e9-683f-41ec-9eb7-a8decd38c660",
   "metadata": {},
   "source": [
    "### 思路"
   ]
  },
  {
   "cell_type": "markdown",
   "id": "36f78724-3097-4c08-a752-6f349c86703a",
   "metadata": {},
   "source": [
    "本题的思路是后序遍历 因此依然优先使用DFS 依照顺序左 -> 右 -> 中 BFS方法则新建一个'go_right'状态 左边找完了去右边"
   ]
  },
  {
   "cell_type": "markdown",
   "id": "2683d15b-6837-40af-a09f-f81e7ac9015f",
   "metadata": {},
   "source": [
    "### 代码"
   ]
  },
  {
   "cell_type": "code",
   "execution_count": 13,
   "id": "16653112-053b-443c-991a-ccb629913778",
   "metadata": {},
   "outputs": [
    {
     "name": "stdout",
     "output_type": "stream",
     "text": [
      "递归 DFS 结果: [3, 2, 1]\n",
      "栈模拟 状态机 结果: [3, 2, 1]\n"
     ]
    }
   ],
   "source": [
    "from typing import Optional, List\n",
    "\n",
    "class TreeNode:\n",
    "    def __init__(self, val=0, left=None, right=None):\n",
    "        self.val = val\n",
    "        self.left = left\n",
    "        self.right = right\n",
    "\n",
    "class SolutionDFS:\n",
    "    def postorderTraversal(self, root: Optional[TreeNode]) -> List[int]:\n",
    "        res = []\n",
    "        def dfs(node):\n",
    "            if not node:\n",
    "                return\n",
    "            dfs(node.left)\n",
    "            dfs(node.right)\n",
    "            res.append(node.val)\n",
    "        dfs(root)\n",
    "        return res\n",
    "\n",
    "class SolutionStack:\n",
    "    def postorderTraversal(self, root: Optional[TreeNode]) -> List[int]:\n",
    "        if not root:\n",
    "            return []\n",
    "        res = []\n",
    "        stack = [(root, 'go_left')]\n",
    "        while stack:\n",
    "            node, state = stack.pop()\n",
    "            if not node:\n",
    "                continue\n",
    "            if state == 'go_left':\n",
    "                stack.append((node, 'go_right'))\n",
    "                stack.append((node.left, 'go_left'))\n",
    "            elif state == 'go_right':\n",
    "                stack.append((node, 'self'))\n",
    "                stack.append((node.right, 'go_left'))\n",
    "            elif state == 'self':\n",
    "                res.append(node.val)\n",
    "        return res\n",
    "\n",
    "#      1\n",
    "#       \\\n",
    "#        2\n",
    "#       /\n",
    "#      3\n",
    "root = TreeNode(1)\n",
    "root.right = TreeNode(2, TreeNode(3))\n",
    "\n",
    "print(\"递归 DFS 结果:\", SolutionDFS().postorderTraversal(root))\n",
    "print(\"栈模拟 状态机 结果:\", SolutionStack().postorderTraversal(root))"
   ]
  }
 ],
 "metadata": {
  "kernelspec": {
   "display_name": "Python [conda env:base] *",
   "language": "python",
   "name": "conda-base-py"
  },
  "language_info": {
   "codemirror_mode": {
    "name": "ipython",
    "version": 3
   },
   "file_extension": ".py",
   "mimetype": "text/x-python",
   "name": "python",
   "nbconvert_exporter": "python",
   "pygments_lexer": "ipython3",
   "version": "3.12.3"
  }
 },
 "nbformat": 4,
 "nbformat_minor": 5
}
