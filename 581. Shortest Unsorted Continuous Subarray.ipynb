{
 "cells": [
  {
   "cell_type": "markdown",
   "id": "ab6ff9d4-11c0-4d9c-81db-d8deab2eae18",
   "metadata": {},
   "source": [
    "# 最短无序数组"
   ]
  },
  {
   "cell_type": "markdown",
   "id": "dafb64f8-98d6-4f37-ad47-836d1af99af8",
   "metadata": {},
   "source": [
    "### 思路"
   ]
  },
  {
   "cell_type": "markdown",
   "id": "edbc18c0-ebd8-4437-a91f-1bc94bf36d42",
   "metadata": {},
   "source": [
    "本题的思路是两次遍历 第一次正方向遍历 维护一个右边界 第二次维护左边界"
   ]
  },
  {
   "cell_type": "markdown",
   "id": "0c30d3c4-b490-46f5-9c8f-9ab86baebb4e",
   "metadata": {},
   "source": [
    "### 代码"
   ]
  },
  {
   "cell_type": "code",
   "execution_count": 7,
   "id": "95ea2ca0-657d-49b4-8924-7b0376acacf5",
   "metadata": {},
   "outputs": [
    {
     "name": "stdin",
     "output_type": "stream",
     "text": [
      " 2, 6, 4, 8, 10, 9, 15\n"
     ]
    },
    {
     "name": "stdout",
     "output_type": "stream",
     "text": [
      "5\n"
     ]
    }
   ],
   "source": [
    "class Solution:\n",
    "    def findUnsortedSubarray(self, nums):\n",
    "        rightbound = -1\n",
    "        max_so_far = nums[0]\n",
    "        for i in range(1, len(nums)):\n",
    "            max_so_far = max(nums[i], max_so_far)\n",
    "            if nums[i] < max_so_far:\n",
    "                rightbound = i\n",
    "        if rightbound == -1:\n",
    "            return 0\n",
    "        leftbound = -1\n",
    "        min_so_far = nums[len(nums)-1]\n",
    "        for j in range(len(nums)-1, -1, -1):\n",
    "            min_so_far = min(nums[j], min_so_far)\n",
    "            if nums[j] > min_so_far:\n",
    "                leftbound = j\n",
    "        return rightbound - leftbound + 1\n",
    "# input\n",
    "nums = input()\n",
    "\n",
    "nums = [int(x.strip()) for x in nums.split(',')]\n",
    "solution = Solution()\n",
    "print(solution.findUnsortedSubarray(nums))"
   ]
  },
  {
   "cell_type": "markdown",
   "id": "e4ac62f1-5142-43fe-b788-1f90124d618d",
   "metadata": {},
   "source": [
    "### 类似题目（769. 切块使得有序）"
   ]
  },
  {
   "cell_type": "markdown",
   "id": "4a7eb082-bf1e-46f4-b6a3-ef03c22247a4",
   "metadata": {},
   "source": [
    "### 思路"
   ]
  },
  {
   "cell_type": "markdown",
   "id": "c696ec40-ab87-47a2-bc6a-b4a908e2e608",
   "metadata": {},
   "source": [
    "本题思路是维护一个当前最大值 如果遇到当前最大值等于下标的话 就切一刀 "
   ]
  },
  {
   "cell_type": "markdown",
   "id": "8d61ac34-a0f0-454a-aa75-b53c7070dd06",
   "metadata": {},
   "source": [
    "### 代码"
   ]
  },
  {
   "cell_type": "code",
   "execution_count": 15,
   "id": "a7db6642-4e9d-4d70-8a47-8936f0e329c8",
   "metadata": {},
   "outputs": [
    {
     "name": "stdin",
     "output_type": "stream",
     "text": [
      " 1,0,2,3,4\n"
     ]
    },
    {
     "name": "stdout",
     "output_type": "stream",
     "text": [
      "4\n"
     ]
    }
   ],
   "source": [
    "class Solution:\n",
    "    def maxChunksToSorted(self, arr):\n",
    "        max_so_far = -1\n",
    "        chunks = 0\n",
    "        for i, num in enumerate(arr):\n",
    "            max_so_far = max(max_so_far, num)\n",
    "            if i == max_so_far:\n",
    "                chunks += 1\n",
    "        return chunks\n",
    "# input\n",
    "arr = input()\n",
    "\n",
    "arr = [int(x.strip()) for x in arr.split(',')]\n",
    "solution = Solution()\n",
    "print(solution.maxChunksToSorted(arr))"
   ]
  }
 ],
 "metadata": {
  "kernelspec": {
   "display_name": "Python [conda env:base] *",
   "language": "python",
   "name": "conda-base-py"
  },
  "language_info": {
   "codemirror_mode": {
    "name": "ipython",
    "version": 3
   },
   "file_extension": ".py",
   "mimetype": "text/x-python",
   "name": "python",
   "nbconvert_exporter": "python",
   "pygments_lexer": "ipython3",
   "version": "3.12.3"
  }
 },
 "nbformat": 4,
 "nbformat_minor": 5
}
