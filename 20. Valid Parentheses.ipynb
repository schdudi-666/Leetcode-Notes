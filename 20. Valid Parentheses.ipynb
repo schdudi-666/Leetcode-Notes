{
 "cells": [
  {
   "cell_type": "markdown",
   "id": "8986478c-fa68-49df-bff1-b90b914dfed3",
   "metadata": {},
   "source": [
    "# 合格的括号"
   ]
  },
  {
   "cell_type": "markdown",
   "id": "5143dd68-3a4b-43d4-8a3f-0ad3e902a1d7",
   "metadata": {},
   "source": [
    "### 思路"
   ]
  },
  {
   "cell_type": "markdown",
   "id": "9b4900c5-ac3c-4940-abe9-1c8acfdd7af8",
   "metadata": {},
   "source": [
    "本题引入了栈的思想 栈就是先进先出 在括号的验证上非常合适 具体代码就是先构建哈希表完成左右括号的映射关系 然后检查字符串 如果有左括号则压入栈 右括号则检测目前栈顶的括号是不是正确对应关系"
   ]
  },
  {
   "cell_type": "markdown",
   "id": "edd9928d-e5a2-4780-a647-c97e9e5e188b",
   "metadata": {},
   "source": [
    "### 代码"
   ]
  },
  {
   "cell_type": "code",
   "execution_count": 7,
   "id": "b5020a6d-d2e8-482a-b4f4-e1546753c52a",
   "metadata": {},
   "outputs": [
    {
     "name": "stdin",
     "output_type": "stream",
     "text": [
      "input a string (({{[}}}))\n"
     ]
    },
    {
     "name": "stdout",
     "output_type": "stream",
     "text": [
      "False\n"
     ]
    }
   ],
   "source": [
    "def isValid(s):\n",
    "    h = {\n",
    "        '(':')',\n",
    "        '[':']',\n",
    "        '{':'}'\n",
    "    }\n",
    "    stack = []\n",
    "    for char in s:\n",
    "        if char in h:\n",
    "            stack.append(char)\n",
    "        elif char in h.values():\n",
    "            if not stack or h[stack[-1]] != char:\n",
    "                return False\n",
    "            stack.pop()\n",
    "        else:\n",
    "            return False\n",
    "    return not stack\n",
    "\n",
    "s = input('input a string')\n",
    "print(isValid(s))"
   ]
  },
  {
   "cell_type": "markdown",
   "id": "4ecf3735-daa7-443c-b7e9-00cf6fc5961b",
   "metadata": {},
   "source": [
    "### 类似题目（22. 生成括号）"
   ]
  },
  {
   "cell_type": "markdown",
   "id": "37485f58-b57f-4fe0-9a75-09389a3fc703",
   "metadata": {},
   "source": [
    "### 思路"
   ]
  },
  {
   "cell_type": "markdown",
   "id": "9f7843c8-9470-4967-9a1a-b745dc51a2af",
   "metadata": {},
   "source": [
    "本题的思路是迭代 详情如下：\n",
    "<pre>\n",
    "(\n",
    "├─ ((\n",
    "│  ├─ (((\n",
    "│  │   └── ((())) ok\n",
    "│  ├─ (()\n",
    "│  │   └── (()()) ok\n",
    "│  └─ (())\n",
    "│      └── (())() ok\n",
    "└─ ()\n",
    "   ├─ ()(\n",
    "   │   └── ()(()) ok\n",
    "   └─ ()()\n",
    "       └── ()()() ok\n",
    "</pre>"
   ]
  },
  {
   "cell_type": "markdown",
   "id": "73ff1691-ff99-4a94-b9b4-b91e16c7cfe9",
   "metadata": {},
   "source": [
    "### 代码"
   ]
  },
  {
   "cell_type": "code",
   "execution_count": 22,
   "id": "ba175148-3975-4277-981d-422dc55b185b",
   "metadata": {},
   "outputs": [
    {
     "name": "stdin",
     "output_type": "stream",
     "text": [
      "input an integer 4\n"
     ]
    },
    {
     "name": "stdout",
     "output_type": "stream",
     "text": [
      "['(((())))', '((()()))', '((())())', '((()))()', '(()(()))', '(()()())', '(()())()', '(())(())', '(())()()', '()((()))', '()(()())', '()(())()', '()()(())', '()()()()']\n"
     ]
    }
   ],
   "source": [
    "def generateParenthesis(n):\n",
    "    res = []\n",
    "    def backtrack(path, left, right):            \n",
    "        if left > 0:\n",
    "            backtrack(path + '(', left - 1, right)\n",
    "        if right > left:\n",
    "            backtrack(path + ')', left, right - 1)\n",
    "        if left == 0 and right == 0:\n",
    "            res.append(path)\n",
    "    backtrack('',n,n)\n",
    "    return res\n",
    "\n",
    "n = int(input('input an integer'))\n",
    "print(generateParenthesis(n))"
   ]
  }
 ],
 "metadata": {
  "kernelspec": {
   "display_name": "Python [conda env:base] *",
   "language": "python",
   "name": "conda-base-py"
  },
  "language_info": {
   "codemirror_mode": {
    "name": "ipython",
    "version": 3
   },
   "file_extension": ".py",
   "mimetype": "text/x-python",
   "name": "python",
   "nbconvert_exporter": "python",
   "pygments_lexer": "ipython3",
   "version": "3.12.3"
  }
 },
 "nbformat": 4,
 "nbformat_minor": 5
}
