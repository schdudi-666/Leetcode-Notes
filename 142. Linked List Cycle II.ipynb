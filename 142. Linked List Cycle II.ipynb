{
 "cells": [
  {
   "cell_type": "markdown",
   "id": "b5e4ce96-b4f1-4add-b8ce-7719bf591b2b",
   "metadata": {},
   "source": [
    "# 环形链表2"
   ]
  },
  {
   "cell_type": "markdown",
   "id": "acf1648c-2c08-4a0d-bfa2-328a8b780a19",
   "metadata": {},
   "source": [
    "### 思路"
   ]
  },
  {
   "cell_type": "markdown",
   "id": "bf4b5982-bb40-40ba-b9a1-ff216e48e233",
   "metadata": {},
   "source": [
    "本题的思路与环形链表1类似 但是要找到环形的起始点 这时候可以用一个算法解决 那就是两个指针同时分别从起始点和相遇点出发 他们下次一定会在环形起始点相遇"
   ]
  },
  {
   "cell_type": "markdown",
   "id": "d46921a3-bbc4-4d75-8d35-260c0fb09058",
   "metadata": {},
   "source": [
    "### 代码"
   ]
  },
  {
   "cell_type": "code",
   "execution_count": 7,
   "id": "7b5ac258-d0c7-43c3-bbe5-2fa39f1b3883",
   "metadata": {},
   "outputs": [
    {
     "name": "stdout",
     "output_type": "stream",
     "text": [
      "2\n"
     ]
    }
   ],
   "source": [
    "from typing import Optional\n",
    "class ListNode:\n",
    "    def __init__(self, val=0, next=None):\n",
    "        self.val = val\n",
    "        self.next = next\n",
    "\n",
    "def build_list(nums):\n",
    "    if not nums:\n",
    "        return None\n",
    "    head = ListNode(nums[0])\n",
    "    cur = head\n",
    "    for x in nums[1:]:\n",
    "        cur.next = ListNode(x)\n",
    "        cur = cur.next\n",
    "    return head\n",
    "\n",
    "def make_cycle(head, pos):\n",
    "    if pos < 0:\n",
    "        return head\n",
    "    cycle_node = None\n",
    "    cur = head\n",
    "    idx = 0\n",
    "    tail = None\n",
    "    while cur:\n",
    "        if idx == pos:\n",
    "            cycle_node = cur\n",
    "        tail = cur\n",
    "        cur = cur.next\n",
    "        idx += 1\n",
    "    tail.next = cycle_node\n",
    "    return head\n",
    "\n",
    "class Solution:\n",
    "    def detectCycle(self, head: Optional[ListNode]) -> Optional[ListNode]:\n",
    "        fast = slow = start = head\n",
    "        while fast and fast.next:\n",
    "            fast = fast.next.next\n",
    "            slow = slow.next\n",
    "            if fast == slow:\n",
    "                while slow != start:\n",
    "                    slow = slow.next\n",
    "                    start = start.next\n",
    "                return slow\n",
    "        return None\n",
    "\n",
    "head = build_list([1, 2, 3, 4, 5])\n",
    "head = make_cycle(head, pos=1)\n",
    "entry = Solution().detectCycle(head)\n",
    "print(entry.val if entry else None)"
   ]
  },
  {
   "cell_type": "markdown",
   "id": "5b7376e6-6e49-40a6-aec6-553fa9a3d4fd",
   "metadata": {},
   "source": [
    "### 类似题目（287. 找到重复数字）"
   ]
  },
  {
   "cell_type": "markdown",
   "id": "4e9b57f9-b25c-4d77-8d1b-bd6ea5865a2d",
   "metadata": {},
   "source": [
    "### 思路"
   ]
  },
  {
   "cell_type": "markdown",
   "id": "386fb484-8f55-4d28-9b15-9b4d6b189aec",
   "metadata": {},
   "source": [
    "本题依旧使用floyd判圈算法 只不过是用在数组之中 我们可以用数组的值来做索引"
   ]
  },
  {
   "cell_type": "markdown",
   "id": "978b1fef-f50b-40f2-aa2b-2ae33123571a",
   "metadata": {},
   "source": [
    "### 代码"
   ]
  },
  {
   "cell_type": "code",
   "execution_count": 15,
   "id": "f0fca34d-ec42-467c-a625-054c0bff9fbd",
   "metadata": {},
   "outputs": [
    {
     "name": "stdin",
     "output_type": "stream",
     "text": [
      "input an array from 1 to n with dupicate 1, 3, 4, 5, 6, 2, 7, 8, 8\n"
     ]
    },
    {
     "name": "stdout",
     "output_type": "stream",
     "text": [
      "8\n"
     ]
    }
   ],
   "source": [
    "class Solution:\n",
    "    def findDuplicate(self, nums):\n",
    "        slow = nums[0]\n",
    "        fast = nums[nums[0]]\n",
    "        while slow != fast:\n",
    "            slow = nums[slow]\n",
    "            fast = nums[nums[fast]]\n",
    "        fast = 0\n",
    "        while slow != fast:\n",
    "            slow = nums[slow]\n",
    "            fast = nums[fast]\n",
    "        return fast\n",
    "\n",
    "nums = input(\"input an array from 1 to n with dupicate\")\n",
    "nums = [int(x.strip()) for x in nums.split(',')]\n",
    "print(Solution().findDuplicate(nums))\n"
   ]
  }
 ],
 "metadata": {
  "kernelspec": {
   "display_name": "Python [conda env:base] *",
   "language": "python",
   "name": "conda-base-py"
  },
  "language_info": {
   "codemirror_mode": {
    "name": "ipython",
    "version": 3
   },
   "file_extension": ".py",
   "mimetype": "text/x-python",
   "name": "python",
   "nbconvert_exporter": "python",
   "pygments_lexer": "ipython3",
   "version": "3.12.3"
  }
 },
 "nbformat": 4,
 "nbformat_minor": 5
}
