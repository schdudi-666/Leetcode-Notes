{
 "cells": [
  {
   "cell_type": "markdown",
   "id": "2bda0b47-bba2-4299-a395-07ee668a6f22",
   "metadata": {},
   "source": [
    "# 解码字符串"
   ]
  },
  {
   "cell_type": "markdown",
   "id": "a4b34b68-d2e3-4437-ae97-3fef7637b160",
   "metadata": {},
   "source": [
    "### 思路"
   ]
  },
  {
   "cell_type": "markdown",
   "id": "52ea8a00-1e8d-475b-83aa-d9539d7f1b49",
   "metadata": {},
   "source": [
    "本体的核心在于使用两个栈 一个记录待处理的字符 一个记录待处理的数字 之后在循环中分情况讨论即可"
   ]
  },
  {
   "cell_type": "markdown",
   "id": "dd8d562b-8064-4c39-add0-3022fc00bd55",
   "metadata": {},
   "source": [
    "### 代码"
   ]
  },
  {
   "cell_type": "code",
   "execution_count": 13,
   "id": "d4d20789-7d37-4a45-b142-e372a699a386",
   "metadata": {},
   "outputs": [
    {
     "name": "stdin",
     "output_type": "stream",
     "text": [
      " 3[b5[2[c]]]\n"
     ]
    },
    {
     "name": "stdout",
     "output_type": "stream",
     "text": [
      "bccccccccccbccccccccccbcccccccccc\n"
     ]
    }
   ],
   "source": [
    "def decodeString(s):\n",
    "    num_stack = []\n",
    "    str_stack = []\n",
    "    num = 0\n",
    "    res = ''\n",
    "    for c in s:\n",
    "        if c.isdigit():\n",
    "            num = num * 10 + int(c)\n",
    "        elif c == '[':\n",
    "            num_stack.append(num)\n",
    "            num = 0\n",
    "            str_stack.append(res)\n",
    "            res = ''\n",
    "        elif c.isalpha():\n",
    "            res = res + c\n",
    "        elif c == ']':\n",
    "            res = str_stack[-1] + num_stack[-1] * res\n",
    "            str_stack.pop()\n",
    "            num_stack.pop()\n",
    "    return res\n",
    "\n",
    "s = input()\n",
    "print(decodeString(s))"
   ]
  },
  {
   "cell_type": "markdown",
   "id": "ccdb52a9-a6e6-4e42-a43c-0c6676ccf093",
   "metadata": {},
   "source": [
    "### 类似题目（856. 括号分数）"
   ]
  },
  {
   "cell_type": "markdown",
   "id": "9f2fc70e-091b-467e-b0bf-957d7306e4fc",
   "metadata": {},
   "source": [
    "### 思路"
   ]
  },
  {
   "cell_type": "markdown",
   "id": "49346484-c332-4b35-87a6-b768d07e95c5",
   "metadata": {},
   "source": [
    "本题的思路是用一个栈来记录分数 根据括号的情况 以及前一个括号是左括号还是右括号来决定弹栈和压栈的时机"
   ]
  },
  {
   "cell_type": "markdown",
   "id": "5beb8420-af8b-4ef1-8e12-f4e7129330e6",
   "metadata": {},
   "source": [
    "### 代码"
   ]
  },
  {
   "cell_type": "code",
   "execution_count": 21,
   "id": "987c3c21-0db0-4423-957f-49976dd20dc5",
   "metadata": {},
   "outputs": [
    {
     "name": "stdin",
     "output_type": "stream",
     "text": [
      " ()((()))(()())\n"
     ]
    },
    {
     "name": "stdout",
     "output_type": "stream",
     "text": [
      "9\n"
     ]
    }
   ],
   "source": [
    "def scoreOfParentheses(s):\n",
    "    stack = []\n",
    "    num = 0\n",
    "    for i, c in enumerate(s):\n",
    "        if c == '(':\n",
    "            stack.append(c)\n",
    "        else:\n",
    "            if s[i-1] == '(':\n",
    "                stack.pop()\n",
    "                stack.append(1)\n",
    "            else:\n",
    "                while stack[-1] != '(':\n",
    "                    num += stack.pop()\n",
    "                stack.pop()\n",
    "                stack.append(2*num)\n",
    "                num = 0\n",
    "    return sum(stack)\n",
    "\n",
    "s = input()\n",
    "print(scoreOfParentheses(s))"
   ]
  }
 ],
 "metadata": {
  "kernelspec": {
   "display_name": "Python [conda env:base] *",
   "language": "python",
   "name": "conda-base-py"
  },
  "language_info": {
   "codemirror_mode": {
    "name": "ipython",
    "version": 3
   },
   "file_extension": ".py",
   "mimetype": "text/x-python",
   "name": "python",
   "nbconvert_exporter": "python",
   "pygments_lexer": "ipython3",
   "version": "3.12.3"
  }
 },
 "nbformat": 4,
 "nbformat_minor": 5
}
