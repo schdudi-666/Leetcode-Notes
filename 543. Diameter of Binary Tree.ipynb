{
 "cells": [
  {
   "cell_type": "markdown",
   "id": "a51e5c0c-d33e-4231-b28f-1a5634970d20",
   "metadata": {},
   "source": [
    "# 二叉树的直径"
   ]
  },
  {
   "cell_type": "markdown",
   "id": "2455f63f-0a6f-4b21-b144-9129e581e449",
   "metadata": {},
   "source": [
    "### 思路"
   ]
  },
  {
   "cell_type": "markdown",
   "id": "30d441c8-c74a-4b67-82d6-3f5a8e1b1877",
   "metadata": {},
   "source": [
    "本题的思路是在内部函数中更新全局变量 并递归返回当前节点的最大深度 BFS则非常麻烦 要两次遍历树"
   ]
  },
  {
   "cell_type": "markdown",
   "id": "96616a0a-c4b6-4155-a191-0ea59478b20c",
   "metadata": {},
   "source": [
    "### 代码"
   ]
  },
  {
   "cell_type": "code",
   "execution_count": 5,
   "id": "6a933901-c11b-46ad-b0e3-78755e23578b",
   "metadata": {},
   "outputs": [
    {
     "name": "stdout",
     "output_type": "stream",
     "text": [
      "DFS Diameter: 3\n",
      "BFS Diameter: 3\n"
     ]
    }
   ],
   "source": [
    "from collections import deque\n",
    "from typing import Optional\n",
    "\n",
    "# 定义二叉树节点\n",
    "class TreeNode:\n",
    "    def __init__(self, val=0, left=None, right=None):\n",
    "        self.val = val\n",
    "        self.left = left\n",
    "        self.right = right\n",
    "\n",
    "# -------------------- DFS 解法 --------------------\n",
    "class SolutionDFS:\n",
    "    def diameterOfBinaryTree(self, root: Optional[TreeNode]) -> int:\n",
    "        max_diameter = 0\n",
    "        \n",
    "        def dfs(node):\n",
    "            nonlocal max_diameter\n",
    "            if not node:\n",
    "                return 0\n",
    "            left_depth = dfs(node.left)\n",
    "            right_depth = dfs(node.right)\n",
    "            max_diameter = max(max_diameter, left_depth + right_depth)\n",
    "            return 1 + max(left_depth, right_depth)\n",
    "        \n",
    "        dfs(root)\n",
    "        return max_diameter\n",
    "\n",
    "# -------------------- BFS 解法 --------------------\n",
    "class SolutionBFS:\n",
    "    def diameterOfBinaryTree(self, root: Optional[TreeNode]) -> int:\n",
    "        if not root:\n",
    "            return 0\n",
    "\n",
    "        q = deque([root])\n",
    "        distance = {root: 0}\n",
    "        parent = {}\n",
    "\n",
    "        # 第一次 BFS：找 a_node\n",
    "        while q:\n",
    "            node = q.popleft()\n",
    "            for neighbor in [node.left, node.right]:\n",
    "                if neighbor:\n",
    "                    distance[neighbor] = distance[node] + 1\n",
    "                    parent[neighbor] = node\n",
    "                    q.append(neighbor)\n",
    "\n",
    "        a_node = max(distance, key=lambda x: distance[x])\n",
    "\n",
    "        # 第二次 BFS：从 a_node 出发，找 b_node\n",
    "        q = deque([a_node])\n",
    "        distance = {a_node: 0}\n",
    "        visited = {a_node}\n",
    "\n",
    "        while q:\n",
    "            node = q.popleft()\n",
    "            for neighbor in [node.left, node.right, parent.get(node)]:\n",
    "                if neighbor and neighbor not in visited:\n",
    "                    visited.add(neighbor)\n",
    "                    distance[neighbor] = distance[node] + 1\n",
    "                    q.append(neighbor)\n",
    "\n",
    "        b_node = max(distance, key=lambda x: distance[x])\n",
    "        diameter = distance[b_node]\n",
    "        return diameter\n",
    "\n",
    "# -------------------- 示例树 --------------------\n",
    "#       1\n",
    "#      / \\\n",
    "#     2   3\n",
    "#    / \\\n",
    "#   4   5\n",
    "\n",
    "root = TreeNode(1)\n",
    "root.left = TreeNode(2)\n",
    "root.right = TreeNode(3)\n",
    "root.left.left = TreeNode(4)\n",
    "root.left.right = TreeNode(5)\n",
    "\n",
    "# -------------------- 输出结果对比 --------------------\n",
    "sol_dfs = SolutionDFS()\n",
    "sol_bfs = SolutionBFS()\n",
    "\n",
    "print(\"DFS Diameter:\", sol_dfs.diameterOfBinaryTree(root))\n",
    "print(\"BFS Diameter:\", sol_bfs.diameterOfBinaryTree(root))\n"
   ]
  },
  {
   "cell_type": "markdown",
   "id": "513a0ce9-2175-4ca6-88e1-548e2cae47de",
   "metadata": {},
   "source": [
    "### 类似题目（124. 二叉树的最大路径和）"
   ]
  },
  {
   "cell_type": "markdown",
   "id": "4510db7b-ea0b-4e66-83f5-9ec87bd99e6e",
   "metadata": {},
   "source": [
    "### 思路"
   ]
  },
  {
   "cell_type": "markdown",
   "id": "ef957e00-b597-49d7-a114-43c5705f78ad",
   "metadata": {},
   "source": [
    "本题的思路类似上题 只不过是求深度变成了求最大值 记得每次递归的时候和0进行比较 防止被负数影响"
   ]
  },
  {
   "cell_type": "markdown",
   "id": "c809885f-8378-4976-ac8d-84f20194e5aa",
   "metadata": {},
   "source": [
    "### 代码"
   ]
  },
  {
   "cell_type": "code",
   "execution_count": 14,
   "id": "fb066767-499a-497a-82b6-023e8c2c2f27",
   "metadata": {},
   "outputs": [
    {
     "name": "stdout",
     "output_type": "stream",
     "text": [
      "Maximum Path Sum: 42\n"
     ]
    }
   ],
   "source": [
    "from typing import Optional\n",
    "\n",
    "# 定义二叉树节点类\n",
    "class TreeNode:\n",
    "    def __init__(self, val=0, left=None, right=None):\n",
    "        self.val = val\n",
    "        self.left = left\n",
    "        self.right = right\n",
    "\n",
    "# -------------------- 解法 --------------------\n",
    "class Solution:\n",
    "    def maxPathSum(self, root: Optional[TreeNode]) -> int:\n",
    "        max_path = float('-inf')\n",
    "\n",
    "        def dfs(node):\n",
    "            nonlocal max_path\n",
    "            if not node:\n",
    "                return 0\n",
    "            # 递归计算左右子树的最大路径和（若为负则舍弃）\n",
    "            left_sum = max(0, dfs(node.left))\n",
    "            right_sum = max(0, dfs(node.right))\n",
    "            # 更新全局最大路径和\n",
    "            max_path = max(max_path, left_sum + right_sum + node.val)\n",
    "            # 返回能“延伸”到父节点的最大单边路径\n",
    "            return node.val + max(left_sum, right_sum)\n",
    "\n",
    "        dfs(root)\n",
    "        return max_path\n",
    "\n",
    "# -------------------- 示例测试 --------------------\n",
    "# 构建树：\n",
    "#       -10\n",
    "#       /  \\\n",
    "#      9   20\n",
    "#         /  \\\n",
    "#        15   7\n",
    "root = TreeNode(-10)\n",
    "root.left = TreeNode(9)\n",
    "root.right = TreeNode(20)\n",
    "root.right.left = TreeNode(15)\n",
    "root.right.right = TreeNode(7)\n",
    "\n",
    "# 调用并输出\n",
    "sol = Solution()\n",
    "print(\"Maximum Path Sum:\", sol.maxPathSum(root))\n"
   ]
  }
 ],
 "metadata": {
  "kernelspec": {
   "display_name": "Python [conda env:base] *",
   "language": "python",
   "name": "conda-base-py"
  },
  "language_info": {
   "codemirror_mode": {
    "name": "ipython",
    "version": 3
   },
   "file_extension": ".py",
   "mimetype": "text/x-python",
   "name": "python",
   "nbconvert_exporter": "python",
   "pygments_lexer": "ipython3",
   "version": "3.12.3"
  }
 },
 "nbformat": 4,
 "nbformat_minor": 5
}
