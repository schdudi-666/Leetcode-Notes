{
 "cells": [
  {
   "cell_type": "markdown",
   "id": "c3133840-e67c-4e1f-83ec-7755e9afb77f",
   "metadata": {},
   "source": [
    "# 颜色分类"
   ]
  },
  {
   "cell_type": "markdown",
   "id": "daf22247-086b-471a-858e-cd20a25abd16",
   "metadata": {},
   "source": [
    "### 思路"
   ]
  },
  {
   "cell_type": "markdown",
   "id": "067da879-db8a-4829-82ee-5d7f31e00edd",
   "metadata": {},
   "source": [
    "本题的核心思路还是用指针 只不过是三指针 针对荷兰国旗问题 使用三指针进行分区"
   ]
  },
  {
   "cell_type": "markdown",
   "id": "a933d032-cdbd-4b36-a337-8ad7ebdc5268",
   "metadata": {},
   "source": [
    "### 代码"
   ]
  },
  {
   "cell_type": "code",
   "execution_count": 9,
   "id": "17b63b58-2a7d-4bc5-aa87-d31498545b92",
   "metadata": {},
   "outputs": [
    {
     "name": "stdin",
     "output_type": "stream",
     "text": [
      " 2, 0, 0, 0, 0, 1, 1, 2, 2, 0\n"
     ]
    },
    {
     "name": "stdout",
     "output_type": "stream",
     "text": [
      "[0, 0, 0, 0, 0, 1, 1, 2, 2, 2]\n"
     ]
    }
   ],
   "source": [
    "class Solution:\n",
    "    def sortColors(self, nums):\n",
    "        left, i, right = 0, 0, len(nums) - 1\n",
    "        while i <= right:\n",
    "            if nums[i] == 0:\n",
    "                nums[left], nums[i] = nums[i], nums[left]\n",
    "                i += 1\n",
    "                left += 1\n",
    "            elif nums[i] == 1:\n",
    "                i += 1\n",
    "            else:\n",
    "                nums[right], nums[i] = nums[i], nums[right]\n",
    "                right -= 1\n",
    "\n",
    "nums = input()\n",
    "\n",
    "nums = [int(x.strip()) for x in nums.split(',')]\n",
    "solution = Solution()\n",
    "solution.sortColors(nums)\n",
    "print(nums)"
   ]
  },
  {
   "cell_type": "markdown",
   "id": "638f6358-43dd-435a-89ba-c4302cc112c3",
   "metadata": {},
   "source": [
    "### 类似题目（905. 根据奇数偶数排序）"
   ]
  },
  {
   "cell_type": "markdown",
   "id": "7378237c-d3a7-4956-83d3-bd10cd8c5f5d",
   "metadata": {},
   "source": [
    "### 思路"
   ]
  },
  {
   "cell_type": "markdown",
   "id": "e8bdea97-a067-45d0-a325-1f8d80050cf2",
   "metadata": {},
   "source": [
    "思路和上题类似 但是不需要中间分区了"
   ]
  },
  {
   "cell_type": "markdown",
   "id": "50877e18-7d41-452a-aeb6-30d884613a55",
   "metadata": {},
   "source": [
    "### 代码"
   ]
  },
  {
   "cell_type": "code",
   "execution_count": 15,
   "id": "c0fbbcf8-622d-42ac-83aa-54e9bb1867a2",
   "metadata": {},
   "outputs": [
    {
     "name": "stdin",
     "output_type": "stream",
     "text": [
      " 1, 2, 3, 4, 6, 7, 9\n"
     ]
    },
    {
     "name": "stdout",
     "output_type": "stream",
     "text": [
      "[6, 2, 4, 3, 7, 9, 1]\n"
     ]
    }
   ],
   "source": [
    "class Solution:\n",
    "    def sortArrayByParity(self, nums):\n",
    "        left = 0\n",
    "        i = 0\n",
    "        right = len(nums) - 1\n",
    "        while i <= right:\n",
    "            if nums[i] % 2 == 0:\n",
    "                nums[i], nums[left] = nums[left], nums[i]\n",
    "                i += 1\n",
    "                left += 1\n",
    "            else:\n",
    "                nums[i], nums[right] = nums[right], nums[i]\n",
    "                right -= 1\n",
    "        return nums\n",
    "nums = input()\n",
    "\n",
    "nums = [int(x.strip()) for x in nums.split(',')]\n",
    "solution = Solution()\n",
    "print(solution.sortArrayByParity(nums))"
   ]
  }
 ],
 "metadata": {
  "kernelspec": {
   "display_name": "Python [conda env:base] *",
   "language": "python",
   "name": "conda-base-py"
  },
  "language_info": {
   "codemirror_mode": {
    "name": "ipython",
    "version": 3
   },
   "file_extension": ".py",
   "mimetype": "text/x-python",
   "name": "python",
   "nbconvert_exporter": "python",
   "pygments_lexer": "ipython3",
   "version": "3.12.3"
  }
 },
 "nbformat": 4,
 "nbformat_minor": 5
}
