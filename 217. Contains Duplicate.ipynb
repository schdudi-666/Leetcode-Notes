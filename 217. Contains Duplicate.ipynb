{
 "cells": [
  {
   "cell_type": "markdown",
   "id": "51cf6e01-a4a6-47c6-8101-93abf96c7f05",
   "metadata": {},
   "source": [
    "# 存在重复元素"
   ]
  },
  {
   "cell_type": "markdown",
   "id": "3cd77055-bab1-48e7-9e03-5b4ea0b30637",
   "metadata": {},
   "source": [
    "### 基础知识"
   ]
  },
  {
   "cell_type": "markdown",
   "id": "266a954a-2428-4ad6-843a-87515ed7cf83",
   "metadata": {},
   "source": [
    "集合 是一个结构 无顺序 且元素唯一 没有索引"
   ]
  },
  {
   "cell_type": "code",
   "execution_count": 8,
   "id": "d998876b-b5eb-450d-a969-bb1bf14c6400",
   "metadata": {},
   "outputs": [
    {
     "name": "stdout",
     "output_type": "stream",
     "text": [
      "{1, 2, 3, 5, 6}\n",
      "{0, 1, 2, 3, 4, 5, 6, 7, 8}\n"
     ]
    }
   ],
   "source": [
    "s = set([1, 2, 3, 3, 5, 5, 6])\n",
    "print(s)\n",
    "for i in range(9):\n",
    "    s.add(i)\n",
    "print(s)"
   ]
  },
  {
   "cell_type": "markdown",
   "id": "c7e3ab5b-e184-487c-87f6-e3a538ce87c9",
   "metadata": {},
   "source": [
    "### 思路"
   ]
  },
  {
   "cell_type": "markdown",
   "id": "544f7446-56b1-485a-8e1b-90fed3695acd",
   "metadata": {},
   "source": [
    "本题的思路是查找是否有重复的元素 维护一个集合 遍历一遍 每次遇到元素就查找是否在集合中 并放到集合里"
   ]
  },
  {
   "cell_type": "markdown",
   "id": "208e937d-47ae-486f-ba5a-18d47e16c554",
   "metadata": {},
   "source": [
    "### 代码"
   ]
  },
  {
   "cell_type": "code",
   "execution_count": 14,
   "id": "baf62649-70fb-4bca-a7c4-9be465f0099f",
   "metadata": {},
   "outputs": [
    {
     "name": "stdin",
     "output_type": "stream",
     "text": [
      " 0, 1, 2\n"
     ]
    },
    {
     "name": "stdout",
     "output_type": "stream",
     "text": [
      "False\n"
     ]
    }
   ],
   "source": [
    "class Solution:\n",
    "    def containsDuplicate(self, nums):\n",
    "        s = set()\n",
    "        for num in nums:\n",
    "            if num in s:\n",
    "                return True\n",
    "            s.add(num)\n",
    "        return False\n",
    "# input\n",
    "nums = input()\n",
    "\n",
    "nums = [int(x.strip()) for x in nums.split(',')]\n",
    "solution = Solution()\n",
    "print(solution.containsDuplicate(nums))"
   ]
  },
  {
   "cell_type": "markdown",
   "id": "11ccce52-a2e2-4650-adb3-a88a2304b44e",
   "metadata": {},
   "source": [
    "### 相似题目（219. 存在重复元素2）"
   ]
  },
  {
   "cell_type": "markdown",
   "id": "3d36265a-ab05-4ce2-ad07-dd2f64cb4f34",
   "metadata": {},
   "source": [
    "### 思路"
   ]
  },
  {
   "cell_type": "markdown",
   "id": "22db2831-c268-4f1f-be17-b0927cd03869",
   "metadata": {},
   "source": [
    "本题是通过构建哈希表来记录每一个数字的出现位置 如果当前数出现过 并且索引差<= k则返回true"
   ]
  },
  {
   "cell_type": "markdown",
   "id": "be66bb2e-46cb-4fb8-99ee-381332a3f904",
   "metadata": {},
   "source": [
    "### 代码"
   ]
  },
  {
   "cell_type": "code",
   "execution_count": 24,
   "id": "3c064596-ca27-4e54-bbf7-388d9ea9ff1e",
   "metadata": {},
   "outputs": [
    {
     "name": "stdin",
     "output_type": "stream",
     "text": [
      " 1, 2, 3, 1, 2, 3\n",
      " 3\n"
     ]
    },
    {
     "name": "stdout",
     "output_type": "stream",
     "text": [
      "True\n"
     ]
    }
   ],
   "source": [
    "class Solution:\n",
    "    def containsNearbyDuplicate(self, nums, k):\n",
    "        d = {}\n",
    "        for i in range(len(nums)):\n",
    "            if nums[i] in d:\n",
    "                if i - d[nums[i]] <= k:\n",
    "                    return True\n",
    "            d[nums[i]] = i\n",
    "        return False\n",
    "# input\n",
    "nums = input()\n",
    "k = int(input())\n",
    "\n",
    "nums = [int(x.strip()) for x in nums.split(',')]\n",
    "solution = Solution()\n",
    "print(solution.containsNearbyDuplicate(nums, k))"
   ]
  },
  {
   "cell_type": "markdown",
   "id": "68c7c7ea-f4d1-4fad-bb65-c92a84bc3929",
   "metadata": {},
   "source": [
    "另一种写法基于上题思路 用集合+滑动窗口的思想解决"
   ]
  },
  {
   "cell_type": "code",
   "execution_count": 30,
   "id": "1bd6ee35-f8f9-4138-b1fd-858c106c845f",
   "metadata": {},
   "outputs": [
    {
     "name": "stdin",
     "output_type": "stream",
     "text": [
      " 1, 2, 3, 1, 2, 3\n",
      " 3\n"
     ]
    },
    {
     "name": "stdout",
     "output_type": "stream",
     "text": [
      "True\n"
     ]
    }
   ],
   "source": [
    "class Solution:\n",
    "    def containsNearbyDuplicate(self, nums, k):\n",
    "        q = set()\n",
    "        for i, num in enumerate(nums):\n",
    "            if num in q:\n",
    "                return True\n",
    "            q.add(num)\n",
    "            if len(q) > k:\n",
    "                q.remove(nums[i - k])\n",
    "        return False\n",
    "\n",
    "nums = input()\n",
    "k = int(input())\n",
    "\n",
    "nums = [int(x.strip()) for x in nums.split(',')]\n",
    "solution = Solution()\n",
    "print(solution.containsNearbyDuplicate(nums, k))"
   ]
  }
 ],
 "metadata": {
  "kernelspec": {
   "display_name": "Python [conda env:base] *",
   "language": "python",
   "name": "conda-base-py"
  },
  "language_info": {
   "codemirror_mode": {
    "name": "ipython",
    "version": 3
   },
   "file_extension": ".py",
   "mimetype": "text/x-python",
   "name": "python",
   "nbconvert_exporter": "python",
   "pygments_lexer": "ipython3",
   "version": "3.12.3"
  }
 },
 "nbformat": 4,
 "nbformat_minor": 5
}
