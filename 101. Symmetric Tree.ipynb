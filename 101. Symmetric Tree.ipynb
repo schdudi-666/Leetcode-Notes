{
 "cells": [
  {
   "cell_type": "markdown",
   "id": "874dfd01-6c62-4612-8b03-68c47dfb4ae9",
   "metadata": {},
   "source": [
    "# 对称树"
   ]
  },
  {
   "cell_type": "markdown",
   "id": "9aa8e1bf-adcf-4de1-9e4c-82391807afbd",
   "metadata": {},
   "source": [
    "### 思路"
   ]
  },
  {
   "cell_type": "markdown",
   "id": "64adf52a-9419-425a-be08-ebe444e110be",
   "metadata": {},
   "source": [
    "本题DFS终止条件为两者都空或一个空一个不空 递归条件为比较值镜像 BFS则一次比较两个点 注意条件顺序 先判断是否continue 然后再判断空和值"
   ]
  },
  {
   "cell_type": "markdown",
   "id": "4699b2d1-2943-4b74-8632-97d87d5abcd3",
   "metadata": {},
   "source": [
    "### 代码"
   ]
  },
  {
   "cell_type": "code",
   "execution_count": 6,
   "id": "2bad8394-37e9-4265-aa3d-81b953ebdc5c",
   "metadata": {},
   "outputs": [
    {
     "name": "stdout",
     "output_type": "stream",
     "text": [
      "✅ 对称树（DFS）: True\n",
      "✅ 对称树（BFS）: True\n",
      "❌ 不对称树（DFS）: False\n",
      "❌ 不对称树（BFS）: False\n"
     ]
    }
   ],
   "source": [
    "from collections import deque\n",
    "from typing import Optional, List\n",
    "\n",
    "class TreeNode:\n",
    "    def __init__(self, val=0, left=None, right=None):\n",
    "        self.val = val\n",
    "        self.left = left\n",
    "        self.right = right\n",
    "\n",
    "def build_tree(values: List[Optional[int]]) -> Optional[TreeNode]:\n",
    "    if not values:\n",
    "        return None\n",
    "    root = TreeNode(values[0])\n",
    "    q = deque([root])\n",
    "    i = 1\n",
    "    while q and i < len(values):\n",
    "        node = q.popleft()\n",
    "        if i < len(values) and values[i] is not None:\n",
    "            node.left = TreeNode(values[i])\n",
    "            q.append(node.left)\n",
    "        i += 1\n",
    "        if i < len(values) and values[i] is not None:\n",
    "            node.right = TreeNode(values[i])\n",
    "            q.append(node.right)\n",
    "        i += 1\n",
    "    return root\n",
    "\n",
    "def level_order(root: Optional[TreeNode]) -> List[List[int]]:\n",
    "    if not root:\n",
    "        return []\n",
    "    q = deque([root])\n",
    "    res = []\n",
    "    while q:\n",
    "        level = []\n",
    "        for _ in range(len(q)):\n",
    "            node = q.popleft()\n",
    "            level.append(node.val)\n",
    "            if node.left:\n",
    "                q.append(node.left)\n",
    "            if node.right:\n",
    "                q.append(node.right)\n",
    "        res.append(level)\n",
    "    return res\n",
    "\n",
    "class SolutionDFS:\n",
    "    def isSymmetric(self, root: Optional[TreeNode]) -> bool:\n",
    "        def isMirror(r1, r2):\n",
    "            if not r1 and not r2:\n",
    "                return True\n",
    "            if not r1 or not r2:\n",
    "                return False\n",
    "            return (\n",
    "                r1.val == r2.val and \n",
    "                isMirror(r1.left, r2.right) and \n",
    "                isMirror(r1.right, r2.left)\n",
    "            )\n",
    "        return isMirror(root.left, root.right)\n",
    "\n",
    "class SolutionBFS:\n",
    "    def isSymmetric(self, root: Optional[TreeNode]) -> bool:\n",
    "        if not root:\n",
    "            return True\n",
    "        q = deque([(root.left, root.right)])\n",
    "        while q:\n",
    "            r1, r2 = q.popleft()\n",
    "            if not r1 and not r2:\n",
    "                continue\n",
    "            if not r1 or not r2:\n",
    "                return False\n",
    "            if r1.val != r2.val:\n",
    "                return False\n",
    "            q.append((r1.left, r2.right))\n",
    "            q.append((r1.right, r2.left))\n",
    "        return True\n",
    "\n",
    "# 对称树\n",
    "symmetric_tree = build_tree([1,2,2,3,4,4,3])\n",
    "# 不对称树\n",
    "asymmetric_tree = build_tree([1,2,2,None,3,None,3])\n",
    "\n",
    "dfs_checker = SolutionDFS()\n",
    "bfs_checker = SolutionBFS()\n",
    "\n",
    "print(\"✅ 对称树（DFS）:\", dfs_checker.isSymmetric(symmetric_tree))\n",
    "print(\"✅ 对称树（BFS）:\", bfs_checker.isSymmetric(symmetric_tree))\n",
    "print(\"❌ 不对称树（DFS）:\", dfs_checker.isSymmetric(asymmetric_tree))\n",
    "print(\"❌ 不对称树（BFS）:\", bfs_checker.isSymmetric(asymmetric_tree))\n"
   ]
  },
  {
   "cell_type": "markdown",
   "id": "3e366194-5ef0-4d73-aaf8-dccc729f3150",
   "metadata": {},
   "source": [
    "### 类似题目（100. 相同的树）"
   ]
  },
  {
   "cell_type": "markdown",
   "id": "1d6e8349-a137-4085-9b0a-bf5634b825ba",
   "metadata": {},
   "source": [
    "### 思路"
   ]
  },
  {
   "cell_type": "markdown",
   "id": "6c62ec7f-efb2-4e4b-ac8d-01a0929c3a2c",
   "metadata": {},
   "source": [
    "本题的思路与上题完全一致 可以参考上题"
   ]
  },
  {
   "cell_type": "markdown",
   "id": "e9f55d6e-af17-4cec-897e-e0cdc1ce3ab9",
   "metadata": {},
   "source": [
    "### 代码"
   ]
  },
  {
   "cell_type": "code",
   "execution_count": 16,
   "id": "cca5a1f8-74f1-4f2c-9d52-f132aba3b43c",
   "metadata": {},
   "outputs": [
    {
     "name": "stdout",
     "output_type": "stream",
     "text": [
      "✅ 相同树（DFS）: True\n",
      "✅ 相同树（BFS）: True\n",
      "❌ 不同树（DFS）: False\n",
      "❌ 不同树（BFS）: False\n",
      "\n",
      "层序结构:\n",
      "Tree1: [[1], [2, 3]]\n",
      "Tree2: [[1], [2, 3]]\n",
      "Tree3: [[1], [2, 1]]\n"
     ]
    }
   ],
   "source": [
    "from collections import deque\n",
    "from typing import Optional, List\n",
    "\n",
    "class TreeNode:\n",
    "    def __init__(self, val=0, left=None, right=None):\n",
    "        self.val = val\n",
    "        self.left = left\n",
    "        self.right = right\n",
    "\n",
    "def build_tree(values: List[Optional[int]]) -> Optional[TreeNode]:\n",
    "    if not values:\n",
    "        return None\n",
    "    root = TreeNode(values[0])\n",
    "    q = deque([root])\n",
    "    i = 1\n",
    "    while q and i < len(values):\n",
    "        node = q.popleft()\n",
    "        if i < len(values) and values[i] is not None:\n",
    "            node.left = TreeNode(values[i])\n",
    "            q.append(node.left)\n",
    "        i += 1\n",
    "        if i < len(values) and values[i] is not None:\n",
    "            node.right = TreeNode(values[i])\n",
    "            q.append(node.right)\n",
    "        i += 1\n",
    "    return root\n",
    "\n",
    "def level_order(root: Optional[TreeNode]) -> List[List[int]]:\n",
    "    if not root:\n",
    "        return []\n",
    "    q = deque([root])\n",
    "    res = []\n",
    "    while q:\n",
    "        level = []\n",
    "        for _ in range(len(q)):\n",
    "            node = q.popleft()\n",
    "            level.append(node.val)\n",
    "            if node.left:\n",
    "                q.append(node.left)\n",
    "            if node.right:\n",
    "                q.append(node.right)\n",
    "        res.append(level)\n",
    "    return res\n",
    "\n",
    "class SolutionDFS:\n",
    "    def isSameTree(self, p: Optional[TreeNode], q: Optional[TreeNode]) -> bool:\n",
    "        if not p and not q:\n",
    "            return True\n",
    "        if not p or not q:\n",
    "            return False\n",
    "        return (\n",
    "            p.val == q.val\n",
    "            and self.isSameTree(p.left, q.left)\n",
    "            and self.isSameTree(p.right, q.right)\n",
    "        )\n",
    "\n",
    "class SolutionBFS:\n",
    "    def isSameTree(self, p: Optional[TreeNode], q: Optional[TreeNode]) -> bool:\n",
    "        d = deque([(p, q)])\n",
    "        while d:\n",
    "            l, r = d.popleft()\n",
    "            if not l and not r:\n",
    "                continue\n",
    "            if not l or not r:\n",
    "                return False\n",
    "            if l.val != r.val:\n",
    "                return False\n",
    "            d.append((l.left, r.left))\n",
    "            d.append((l.right, r.right))\n",
    "        return True\n",
    "\n",
    "# 相同的树\n",
    "t1 = build_tree([1,2,3])\n",
    "t2 = build_tree([1,2,3])\n",
    "# 不同的树\n",
    "t3 = build_tree([1,2,1])\n",
    "\n",
    "dfs_checker = SolutionDFS()\n",
    "bfs_checker = SolutionBFS()\n",
    "\n",
    "print(\"✅ 相同树（DFS）:\", dfs_checker.isSameTree(t1, t2))\n",
    "print(\"✅ 相同树（BFS）:\", bfs_checker.isSameTree(t1, t2))\n",
    "print(\"❌ 不同树（DFS）:\", dfs_checker.isSameTree(t1, t3))\n",
    "print(\"❌ 不同树（BFS）:\", bfs_checker.isSameTree(t1, t3))\n",
    "\n",
    "print(\"\\n层序结构:\")\n",
    "print(\"Tree1:\", level_order(t1))\n",
    "print(\"Tree2:\", level_order(t2))\n",
    "print(\"Tree3:\", level_order(t3))"
   ]
  }
 ],
 "metadata": {
  "kernelspec": {
   "display_name": "Python [conda env:base] *",
   "language": "python",
   "name": "conda-base-py"
  },
  "language_info": {
   "codemirror_mode": {
    "name": "ipython",
    "version": 3
   },
   "file_extension": ".py",
   "mimetype": "text/x-python",
   "name": "python",
   "nbconvert_exporter": "python",
   "pygments_lexer": "ipython3",
   "version": "3.12.3"
  }
 },
 "nbformat": 4,
 "nbformat_minor": 5
}
