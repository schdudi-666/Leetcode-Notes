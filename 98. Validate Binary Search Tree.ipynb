{
 "cells": [
  {
   "cell_type": "markdown",
   "id": "c686363f-410d-414d-b3d8-ed94a09b8d1b",
   "metadata": {},
   "source": [
    "# 验证搜索二叉树"
   ]
  },
  {
   "cell_type": "markdown",
   "id": "2ae12e55-5db8-489b-852c-a95dc665109f",
   "metadata": {},
   "source": [
    "### 思路"
   ]
  },
  {
   "cell_type": "markdown",
   "id": "e77aa016-58d0-4a03-8c8e-ffda54253f8b",
   "metadata": {},
   "source": [
    "本题DFS的思路是借用辅助函数 函数内先检查自己有没有问题 然后调用自身检查左边和右边 最后返回左边和右边都ok的结果 "
   ]
  },
  {
   "cell_type": "markdown",
   "id": "0a9a7205-f669-44c7-94ff-152ffc9702a1",
   "metadata": {},
   "source": [
    "### 代码"
   ]
  },
  {
   "cell_type": "code",
   "execution_count": 5,
   "id": "0624a978-6b13-4599-9d5e-f1b7d90c973b",
   "metadata": {},
   "outputs": [
    {
     "name": "stdout",
     "output_type": "stream",
     "text": [
      "DFS 结果: True\n",
      "BFS 结果: True\n"
     ]
    }
   ],
   "source": [
    "from collections import deque\n",
    "from typing import Optional\n",
    "\n",
    "class TreeNode:\n",
    "    def __init__(self, val=0, left=None, right=None):\n",
    "        self.val = val\n",
    "        self.left = left\n",
    "        self.right = right\n",
    "\n",
    "\n",
    "class SolutionDFS:\n",
    "    def isValidBST(self, root: Optional[TreeNode]) -> bool:\n",
    "        def dfs(node, min_val, max_val):\n",
    "            if not node:\n",
    "                return True\n",
    "            if node.val <= min_val or node.val >= max_val:\n",
    "                return False\n",
    "            left_ok = dfs(node.left, min_val, node.val)\n",
    "            right_ok = dfs(node.right, node.val, max_val)\n",
    "            return left_ok and right_ok\n",
    "        return dfs(root, float('-inf'), float('inf'))\n",
    "\n",
    "\n",
    "class SolutionBFS:\n",
    "    def isValidBST(self, root: Optional[TreeNode]) -> bool:\n",
    "        min_val = float('-inf')\n",
    "        max_val = float('inf')\n",
    "        q = deque([(root, min_val, max_val)])\n",
    "        while q:\n",
    "            node, min_val, max_val = q.popleft()\n",
    "            if not node:\n",
    "                continue\n",
    "            if not (min_val < node.val < max_val):\n",
    "                return False\n",
    "            q.append((node.left, min_val, node.val))\n",
    "            q.append((node.right, node.val, max_val))\n",
    "        return True\n",
    "\n",
    "#      5\n",
    "#     / \\\n",
    "#    3   8\n",
    "#   / \\   \\\n",
    "#  2   4   9\n",
    "root = TreeNode(5)\n",
    "root.left = TreeNode(3, TreeNode(2), TreeNode(4))\n",
    "root.right = TreeNode(8, None, TreeNode(9))\n",
    "\n",
    "print(\"DFS 结果:\", SolutionDFS().isValidBST(root))\n",
    "print(\"BFS 结果:\", SolutionBFS().isValidBST(root))\n"
   ]
  },
  {
   "cell_type": "markdown",
   "id": "dc9afa25-0a01-4c10-9be0-485a8f42b0b2",
   "metadata": {},
   "source": [
    "### 类似题目（700. 搜索搜索二叉树里的值）"
   ]
  },
  {
   "cell_type": "markdown",
   "id": "06a809c1-65ba-465e-9485-ab7ed7f44a13",
   "metadata": {},
   "source": [
    "### 思路"
   ]
  },
  {
   "cell_type": "markdown",
   "id": "903650e0-e122-4b36-be4b-623510bbe621",
   "metadata": {},
   "source": [
    "本题的思路很简单 利用搜索二叉树的特性 如果当前节点大了就去左边找 小了去右边找"
   ]
  },
  {
   "cell_type": "markdown",
   "id": "138c2ec2-11b7-4738-b8b7-cfc37f392e02",
   "metadata": {},
   "source": [
    "### 代码"
   ]
  },
  {
   "cell_type": "code",
   "execution_count": 13,
   "id": "6f2a1723-87bb-4cab-965c-eca699df2e0e",
   "metadata": {},
   "outputs": [
    {
     "name": "stdout",
     "output_type": "stream",
     "text": [
      "DFS 结果:\n",
      "找到节点: 2\n",
      "左子树: 1\n",
      "右子树: 3\n",
      "\n",
      "BFS 结果:\n",
      "找到节点: 2\n",
      "左子树: 1\n",
      "右子树: 3\n",
      "\n",
      "DFS 查找 5: None\n",
      "BFS 查找 5: None\n"
     ]
    }
   ],
   "source": [
    "from collections import deque\n",
    "from typing import Optional\n",
    "\n",
    "class TreeNode:\n",
    "    def __init__(self, val=0, left=None, right=None):\n",
    "        self.val = val\n",
    "        self.left = left\n",
    "        self.right = right\n",
    "\n",
    "\n",
    "class SolutionDFS:\n",
    "    def searchBST(self, root: Optional[TreeNode], val: int) -> Optional[TreeNode]:\n",
    "        if not root:\n",
    "            return root\n",
    "        if root.val == val:\n",
    "            return root\n",
    "        elif root.val > val:\n",
    "            return self.searchBST(root.left, val)\n",
    "        else:\n",
    "            return self.searchBST(root.right, val)\n",
    "\n",
    "\n",
    "class SolutionBFS:\n",
    "    def searchBST(self, root: Optional[TreeNode], val: int) -> Optional[TreeNode]:\n",
    "        q = deque([root])\n",
    "        while q:\n",
    "            node = q.popleft()\n",
    "            if not node:\n",
    "                continue\n",
    "            if node.val == val:\n",
    "                return node\n",
    "            elif node.val > val:\n",
    "                q.append(node.left)\n",
    "            else:\n",
    "                q.append(node.right)\n",
    "        return None  # ✅ 返回 None 符合 LeetCode 输出 [] 的标准\n",
    "\n",
    "\n",
    "#      4\n",
    "#     / \\\n",
    "#    2   7\n",
    "#   / \\\n",
    "#  1   3\n",
    "root = TreeNode(4)\n",
    "root.left = TreeNode(2, TreeNode(1), TreeNode(3))\n",
    "root.right = TreeNode(7)\n",
    "\n",
    "dfs_result = SolutionDFS().searchBST(root, 2)\n",
    "bfs_result = SolutionBFS().searchBST(root, 2)\n",
    "\n",
    "print(\"DFS 结果:\")\n",
    "if dfs_result:\n",
    "    print(\"找到节点:\", dfs_result.val)\n",
    "    print(\"左子树:\", dfs_result.left.val if dfs_result.left else None)\n",
    "    print(\"右子树:\", dfs_result.right.val if dfs_result.right else None)\n",
    "else:\n",
    "    print(\"未找到节点\")\n",
    "\n",
    "print(\"\\nBFS 结果:\")\n",
    "if bfs_result:\n",
    "    print(\"找到节点:\", bfs_result.val)\n",
    "    print(\"左子树:\", bfs_result.left.val if bfs_result.left else None)\n",
    "    print(\"右子树:\", bfs_result.right.val if bfs_result.right else None)\n",
    "else:\n",
    "    print(\"未找到节点\")\n",
    "\n",
    "dfs_none = SolutionDFS().searchBST(root, 5)\n",
    "bfs_none = SolutionBFS().searchBST(root, 5)\n",
    "print(\"\\nDFS 查找 5:\", dfs_none)\n",
    "print(\"BFS 查找 5:\", bfs_none)\n"
   ]
  }
 ],
 "metadata": {
  "kernelspec": {
   "display_name": "Python [conda env:base] *",
   "language": "python",
   "name": "conda-base-py"
  },
  "language_info": {
   "codemirror_mode": {
    "name": "ipython",
    "version": 3
   },
   "file_extension": ".py",
   "mimetype": "text/x-python",
   "name": "python",
   "nbconvert_exporter": "python",
   "pygments_lexer": "ipython3",
   "version": "3.12.3"
  }
 },
 "nbformat": 4,
 "nbformat_minor": 5
}
