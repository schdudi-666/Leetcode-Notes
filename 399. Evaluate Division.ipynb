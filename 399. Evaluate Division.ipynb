{
 "cells": [
  {
   "cell_type": "markdown",
   "id": "0850d0d1-d302-4aa3-9085-102003756d8b",
   "metadata": {},
   "source": [
    "# 除法求值"
   ]
  },
  {
   "cell_type": "markdown",
   "id": "e03d6b5c-aa42-411a-a814-794c7daad5d0",
   "metadata": {},
   "source": [
    "### 思路"
   ]
  },
  {
   "cell_type": "markdown",
   "id": "4aa32e93-efe9-41f0-8d1f-a58f001f7023",
   "metadata": {},
   "source": [
    "本题的思路是先建立邻接表 通过哈希表的方式 然后定义dfs函数每次返回几个核心值：本体 目标 已经查看过的 以及乘积 最后判断每一组query即可"
   ]
  },
  {
   "cell_type": "markdown",
   "id": "aa6e5323-33b7-4108-9b06-86b5fa919889",
   "metadata": {},
   "source": [
    "### 代码"
   ]
  },
  {
   "cell_type": "code",
   "execution_count": 7,
   "id": "b6b92264-9da6-4679-ab7c-a0a7718e2926",
   "metadata": {},
   "outputs": [],
   "source": [
    "from collections import defaultdict\n",
    "from typing import List\n",
    "\n",
    "class Solution:\n",
    "    def calcEquation(self, equations: List[List[str]], values: List[float], queries: List[List[str]]) -> List[float]:\n",
    "        graph = defaultdict(dict)\n",
    "        for i, (a, b) in enumerate(equations):\n",
    "            graph[a][b] = values[i]\n",
    "            graph[b][a] = 1 / values[i]\n",
    "\n",
    "        def dfs(curr, target, visited, product):\n",
    "            if curr == target:\n",
    "                return product\n",
    "            visited.add(curr)\n",
    "            for neighbor in graph[curr]:\n",
    "                if neighbor not in visited:\n",
    "                    res = dfs(neighbor, target, visited, product * graph[curr][neighbor])\n",
    "                    if res != -1.0:\n",
    "                        return res\n",
    "            return -1.0\n",
    "\n",
    "        result = []\n",
    "        for (a, b) in queries:\n",
    "            if a not in graph or b not in graph:\n",
    "                result.append(-1.0)\n",
    "            else:\n",
    "                visited = set()\n",
    "                result.append(dfs(a, b, visited, 1.0))\n",
    "        return result"
   ]
  },
  {
   "cell_type": "code",
   "execution_count": 9,
   "id": "a99e5996-b829-4abb-9e61-35cab9ece8c5",
   "metadata": {},
   "outputs": [
    {
     "name": "stdout",
     "output_type": "stream",
     "text": [
      "[6.0, 0.5, -1.0, 1.0, -1.0]\n"
     ]
    }
   ],
   "source": [
    "equations = [[\"a\",\"b\"],[\"b\",\"c\"]]\n",
    "values = [2.0, 3.0]\n",
    "queries = [[\"a\",\"c\"],[\"b\",\"a\"],[\"a\",\"e\"],[\"a\",\"a\"],[\"x\",\"x\"]]\n",
    "\n",
    "sol = Solution()\n",
    "print(sol.calcEquation(equations, values, queries))"
   ]
  },
  {
   "cell_type": "markdown",
   "id": "d34cb661-5b22-4e11-9dcc-47539bdb74bd",
   "metadata": {},
   "source": [
    "### 类似题目（684. 冗余连接）"
   ]
  },
  {
   "cell_type": "markdown",
   "id": "a15215bb-7de0-4da7-bd56-d91a8a199bd9",
   "metadata": {},
   "source": [
    "### 思路"
   ]
  },
  {
   "cell_type": "markdown",
   "id": "b6b34dde-02cf-4317-a3c3-5e5bae9bf4a0",
   "metadata": {},
   "source": [
    "类似上题的思路 每次加边的时候判定递归函数即可"
   ]
  },
  {
   "cell_type": "markdown",
   "id": "3b67f46a-8302-4f67-bdb8-b7c6fcdaf867",
   "metadata": {},
   "source": [
    "### 代码"
   ]
  },
  {
   "cell_type": "code",
   "execution_count": 15,
   "id": "42aaa5db-b781-4a4e-9965-3f2b44641a8e",
   "metadata": {},
   "outputs": [],
   "source": [
    "from collections import defaultdict\n",
    "from typing import List\n",
    "\n",
    "class Solution:\n",
    "    def findRedundantConnection(self, edges: List[List[int]]) -> List[int]:\n",
    "        graph = defaultdict(list)\n",
    "        \n",
    "        def dfs(curr, target, visited):\n",
    "            # 如果当前节点就是目标节点，说明已连通\n",
    "            if curr == target:\n",
    "                return True\n",
    "            visited.add(curr)\n",
    "            for neighbor in graph[curr]:\n",
    "                if neighbor not in visited:\n",
    "                    if dfs(neighbor, target, visited):\n",
    "                        return True\n",
    "            return False\n",
    "        \n",
    "        # 一条条加边\n",
    "        for a, b in edges:\n",
    "            visited = set()\n",
    "            # 如果 a 和 b 已经连通，说明这条边是多余的\n",
    "            if a in graph and b in graph and dfs(a, b, visited):\n",
    "                return [a, b]\n",
    "            # 否则加进图中\n",
    "            graph[a].append(b)\n",
    "            graph[b].append(a)"
   ]
  },
  {
   "cell_type": "code",
   "execution_count": 17,
   "id": "d92e9f3c-b19b-4305-8d5f-8601af0f14bf",
   "metadata": {},
   "outputs": [
    {
     "name": "stdout",
     "output_type": "stream",
     "text": [
      "[2, 3]\n"
     ]
    }
   ],
   "source": [
    "edges = [[1,2],[1,3],[2,3]]\n",
    "\n",
    "sol = Solution()\n",
    "print(sol.findRedundantConnection(edges))  # ✅ 输出 [2, 3]"
   ]
  }
 ],
 "metadata": {
  "kernelspec": {
   "display_name": "Python [conda env:base] *",
   "language": "python",
   "name": "conda-base-py"
  },
  "language_info": {
   "codemirror_mode": {
    "name": "ipython",
    "version": 3
   },
   "file_extension": ".py",
   "mimetype": "text/x-python",
   "name": "python",
   "nbconvert_exporter": "python",
   "pygments_lexer": "ipython3",
   "version": "3.12.3"
  }
 },
 "nbformat": 4,
 "nbformat_minor": 5
}
