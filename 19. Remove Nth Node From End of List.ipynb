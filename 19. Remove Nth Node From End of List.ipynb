{
 "cells": [
  {
   "cell_type": "markdown",
   "id": "a7e8ead6-b2bc-4172-a4b5-5f01b15dda82",
   "metadata": {},
   "source": [
    "# 删除链表中倒数第n个元素"
   ]
  },
  {
   "cell_type": "markdown",
   "id": "9143cf4d-85b5-4c99-a371-e79349473992",
   "metadata": {},
   "source": [
    "### 思路"
   ]
  },
  {
   "cell_type": "markdown",
   "id": "8fc90971-0d29-4dce-a533-cb97f827adc7",
   "metadata": {},
   "source": [
    "本题可能会对第一个元素造成影响 所以用dummy兜底 核心思路是先让fast走n+1步 然后slow和fast一起走 当fast走到尽头的时候正好slow停在要删除的元素前一位 这时候完成删除即可"
   ]
  },
  {
   "cell_type": "markdown",
   "id": "e056c280-90ff-4f28-84dc-751240405161",
   "metadata": {},
   "source": [
    "### 代码"
   ]
  },
  {
   "cell_type": "code",
   "execution_count": 7,
   "id": "3be0d99c-d115-4f63-9b6a-6cd6606e639e",
   "metadata": {},
   "outputs": [
    {
     "name": "stdin",
     "output_type": "stream",
     "text": [
      " 1, 2, 3, 4, 5, 6\n",
      "input an integer 3\n"
     ]
    },
    {
     "name": "stdout",
     "output_type": "stream",
     "text": [
      "[1, 2, 3, 5, 6]\n"
     ]
    }
   ],
   "source": [
    "from typing import Optional\n",
    "\n",
    "class ListNode:\n",
    "     def __init__(self, val=0, next=None):\n",
    "         self.val = val\n",
    "         self.next = next\n",
    "\n",
    "def build_linked_list(nums):\n",
    "    if not nums: \n",
    "        return None\n",
    "    head = ListNode(nums[0])\n",
    "    cur = head\n",
    "    for x in nums[1:]:\n",
    "        cur.next = ListNode(x)\n",
    "        cur = cur.next\n",
    "    return head\n",
    "\n",
    "def to_list(head):\n",
    "    out = []\n",
    "    while head:\n",
    "        out.append(head.val)\n",
    "        head = head.next\n",
    "    return out\n",
    "\n",
    "class Solution:\n",
    "    def removeNthFromEnd(self, head: Optional[ListNode], n: int) -> Optional[ListNode]:\n",
    "        dummy = ListNode(0)\n",
    "        dummy.next = head\n",
    "        fast = slow = dummy\n",
    "        for _ in range(n+1):\n",
    "            fast = fast.next\n",
    "        while fast:\n",
    "            slow = slow.next\n",
    "            fast = fast.next\n",
    "        slow.next = slow.next.next\n",
    "        return dummy.next\n",
    "head = input()\n",
    "n = int(input(\"input an integer\"))\n",
    "head = [int(x.strip()) for x in head.split(',')]\n",
    "head = build_linked_list(head)\n",
    "\n",
    "res = Solution().removeNthFromEnd(head, n)\n",
    "print(to_list(res))"
   ]
  },
  {
   "cell_type": "markdown",
   "id": "75f2094c-6977-45bc-8485-f7928fa287db",
   "metadata": {},
   "source": [
    "### 类似题目（61. 旋转链表）"
   ]
  },
  {
   "cell_type": "markdown",
   "id": "4a563a55-55cb-4879-9aa8-b5a472144fa8",
   "metadata": {},
   "source": [
    "### 思路"
   ]
  },
  {
   "cell_type": "markdown",
   "id": "1962c515-2a97-4c36-916f-48a313a412e2",
   "metadata": {},
   "source": [
    "本题的思路是第一次遍历先记录链表的长度 以及尾部节点tail 然后让尾部连接头部 之后通过找到的长度减去k可以得到新链表尾部应该停着的位置 然后让新的尾部走这个距离-1 最后把新的头部接到尾部后面 然后断开环 核心算法是第二次走的时候的距离 = len - (k % len) - 1 核心的减一是因为第二次走是从头部开始走的 因此我们希望他停在新头节点的前一个 而不是新的头节点 取模运算的原因是旋转k次等同于向右移动k % len词"
   ]
  },
  {
   "cell_type": "markdown",
   "id": "55bdcf10-ffb7-488d-9788-d63c569ca150",
   "metadata": {},
   "source": [
    "### 代码"
   ]
  },
  {
   "cell_type": "code",
   "execution_count": 13,
   "id": "b4850e57-a326-41e7-b82e-6b0509aa3239",
   "metadata": {},
   "outputs": [
    {
     "name": "stdin",
     "output_type": "stream",
     "text": [
      " 1,2,3,4,5\n",
      "input an integer 2\n"
     ]
    },
    {
     "name": "stdout",
     "output_type": "stream",
     "text": [
      "[4, 5, 1, 2, 3]\n"
     ]
    }
   ],
   "source": [
    "class Solution:\n",
    "    def rotateRight(self, head: Optional[ListNode], k: int) -> Optional[ListNode]:\n",
    "        tail = head\n",
    "        len_list = 1\n",
    "        if head == None or head.next == None:\n",
    "            return head\n",
    "        while tail and tail.next:\n",
    "            tail = tail.next\n",
    "            len_list += 1\n",
    "        tail.next = head\n",
    "        new_tail = head\n",
    "        for _ in range(len_list - (k % len_list) - 1):\n",
    "            new_tail = new_tail.next\n",
    "        new_head = new_tail.next\n",
    "        new_tail.next = None\n",
    "        return new_head\n",
    "head = input()\n",
    "k = int(input(\"input an integer\"))\n",
    "head = [int(x.strip()) for x in head.split(',')]\n",
    "head = build_linked_list(head)\n",
    "\n",
    "res = Solution().rotateRight(head, k)\n",
    "print(to_list(res))"
   ]
  }
 ],
 "metadata": {
  "kernelspec": {
   "display_name": "Python [conda env:base] *",
   "language": "python",
   "name": "conda-base-py"
  },
  "language_info": {
   "codemirror_mode": {
    "name": "ipython",
    "version": 3
   },
   "file_extension": ".py",
   "mimetype": "text/x-python",
   "name": "python",
   "nbconvert_exporter": "python",
   "pygments_lexer": "ipython3",
   "version": "3.12.3"
  }
 },
 "nbformat": 4,
 "nbformat_minor": 5
}
