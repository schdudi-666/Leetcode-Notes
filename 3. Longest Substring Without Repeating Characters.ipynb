{
 "cells": [
  {
   "cell_type": "markdown",
   "id": "bc9d2b0a-255b-47a3-a847-04dca39100dd",
   "metadata": {},
   "source": [
    "# 最长不重复字符串"
   ]
  },
  {
   "cell_type": "markdown",
   "id": "1886b991-26cd-4844-8d55-e4a660cd6154",
   "metadata": {},
   "source": [
    "### 思路"
   ]
  },
  {
   "cell_type": "markdown",
   "id": "0aeb54da-b0d2-4257-8c17-d69fe5f435fd",
   "metadata": {},
   "source": [
    "本题的思路是维护一个当前字符串 和字符串最大长度 每次循环时检查该字符是否在字符串中 如果在则按时间顺序删除进来的元素直到不重复为止 然后比较当前字符串长度和之前字符串最大长度"
   ]
  },
  {
   "cell_type": "markdown",
   "id": "9f33971a-bb2c-42c9-b72b-fb16b1b50680",
   "metadata": {},
   "source": [
    "### 代码"
   ]
  },
  {
   "cell_type": "code",
   "execution_count": 7,
   "id": "e5a35a44-e28b-4345-a92c-53ddddca7f16",
   "metadata": {},
   "outputs": [
    {
     "name": "stdin",
     "output_type": "stream",
     "text": [
      " abcdefghijklmnopqrstuvwxyz\n"
     ]
    },
    {
     "name": "stdout",
     "output_type": "stream",
     "text": [
      "26\n"
     ]
    }
   ],
   "source": [
    "from collections import defaultdict\n",
    "\n",
    "class Solution:\n",
    "    def lengthOfLongestSubstring(self, s: str) -> int:\n",
    "        seen = set()\n",
    "        max_length = 0\n",
    "        left = 0\n",
    "        for i in range(len(s)):\n",
    "            while s[i] in seen:\n",
    "                seen.remove(s[left])\n",
    "                left += 1\n",
    "            seen.add(s[i])\n",
    "            max_length = max(max_length, i - left + 1)\n",
    "        return max_length\n",
    "\n",
    "s = input()\n",
    "solution = Solution()\n",
    "print(solution.lengthOfLongestSubstring(s))"
   ]
  },
  {
   "cell_type": "markdown",
   "id": "0bb86117-e485-4534-9754-579878c62cbe",
   "metadata": {},
   "source": [
    "### 类似题目（438. 找到所有异位词）"
   ]
  },
  {
   "cell_type": "markdown",
   "id": "71c94d3f-3ea4-4233-abe2-da59a9760721",
   "metadata": {},
   "source": [
    "### 思路"
   ]
  },
  {
   "cell_type": "markdown",
   "id": "eacc1b36-3e69-4345-8d66-a0f06c8a6e93",
   "metadata": {},
   "source": [
    "本题的思路更为复杂 使用了一个新的库 collections中的Counter 可以起到字典的作用 为其中的元素计数 很符合本体的思想 无序但数量和元素必须相等 因此继续使用指针和滑动窗口的思想 维护区间 并在维护后判断"
   ]
  },
  {
   "cell_type": "markdown",
   "id": "4c273ac6-50fd-47c1-b074-d377fd634d1c",
   "metadata": {},
   "source": [
    "### 代码"
   ]
  },
  {
   "cell_type": "code",
   "execution_count": 13,
   "id": "8e21e558-5d92-4cd0-ab84-2e38018399d5",
   "metadata": {},
   "outputs": [
    {
     "name": "stdin",
     "output_type": "stream",
     "text": [
      "input a string with target cbacbacbadefabc\n",
      "input target string abc\n"
     ]
    },
    {
     "name": "stdout",
     "output_type": "stream",
     "text": [
      "[0, 1, 2, 3, 4, 5, 6, 12]\n"
     ]
    }
   ],
   "source": [
    "from collections import Counter\n",
    "\n",
    "class Solution:\n",
    "    def findAnagrams(self, s, p):\n",
    "        count = Counter()\n",
    "        target = Counter(p)\n",
    "        left = 0\n",
    "        res = []\n",
    "        for right, char in enumerate(s):\n",
    "            count[char] += 1\n",
    "            if right - left + 1 > len(p):\n",
    "                left_char = s[left]\n",
    "                count[left_char] -= 1\n",
    "                if count[left_char] == 0:\n",
    "                    del count[left_char]\n",
    "                left += 1\n",
    "            if right -left + 1 == len(p) and count == target:\n",
    "                res.append(left)\n",
    "        return res\n",
    "\n",
    "s = input(\"input a string with target\")\n",
    "p = input(\"input target string\")\n",
    "\n",
    "solution = Solution()\n",
    "print(solution.findAnagrams(s, p))"
   ]
  }
 ],
 "metadata": {
  "kernelspec": {
   "display_name": "Python [conda env:base] *",
   "language": "python",
   "name": "conda-base-py"
  },
  "language_info": {
   "codemirror_mode": {
    "name": "ipython",
    "version": 3
   },
   "file_extension": ".py",
   "mimetype": "text/x-python",
   "name": "python",
   "nbconvert_exporter": "python",
   "pygments_lexer": "ipython3",
   "version": "3.12.3"
  }
 },
 "nbformat": 4,
 "nbformat_minor": 5
}
