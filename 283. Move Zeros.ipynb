{
 "cells": [
  {
   "cell_type": "markdown",
   "id": "0ca54b23-a77f-4109-98e7-71a449d1afb2",
   "metadata": {},
   "source": [
    "# 移动零"
   ]
  },
  {
   "cell_type": "markdown",
   "id": "a508b9bf-0289-4716-a26f-d871cad440f7",
   "metadata": {},
   "source": [
    "### 思路"
   ]
  },
  {
   "cell_type": "markdown",
   "id": "3ffcf1a0-f360-4210-9627-bc2bbb30761c",
   "metadata": {},
   "source": [
    "本题的要求是将数组中的0全部移动到数组的末尾 因此我们使用快慢指针的思路 在第一个循环中遍历数组 将非0的数值全部移动到数组开头 也就是slow的位置 每次移动slow + 1 移动结束后slow指针指向的下一个位置及其后面的数值都应该是0 用一个循环即可"
   ]
  },
  {
   "cell_type": "markdown",
   "id": "a1fcd51b-0f46-49a7-b69b-dcbccedb9499",
   "metadata": {},
   "source": [
    "### 代码"
   ]
  },
  {
   "cell_type": "code",
   "execution_count": 14,
   "id": "f4d89dc9-4cd7-4d3a-8cd5-d5bf28ad5dba",
   "metadata": {},
   "outputs": [
    {
     "name": "stdin",
     "output_type": "stream",
     "text": [
      "输入一个数组，用逗号分割 0, 0, 0, 0, 0, 8, 2, 7, 0\n"
     ]
    },
    {
     "name": "stdout",
     "output_type": "stream",
     "text": [
      "[8, 2, 7, 0, 0, 0, 0, 0, 0]\n"
     ]
    }
   ],
   "source": [
    "class Solution:\n",
    "    def moveZeroes(self, nums):\n",
    "        slow = 0\n",
    "        for fast in range(len(nums)):\n",
    "            if nums[fast] != 0:\n",
    "                nums[slow] = nums[fast]\n",
    "                slow += 1\n",
    "        for i in range(slow, len(nums)):\n",
    "            nums[i] = 0\n",
    "        return nums\n",
    "# input\n",
    "nums = input(\"输入一个数组，用逗号分割\")\n",
    "\n",
    "nums = [int(x.strip()) for x in nums.split(',')]\n",
    "solution = Solution()\n",
    "result = solution.moveZeroes(nums)\n",
    "print(result)"
   ]
  },
  {
   "cell_type": "markdown",
   "id": "87fbb81c-c989-4bc2-bca0-23ebd75e96ab",
   "metadata": {},
   "source": [
    "### 相似题目（27. 移除元素）"
   ]
  },
  {
   "cell_type": "markdown",
   "id": "050acb5d-6d8c-40e8-8116-184a06150ccb",
   "metadata": {},
   "source": [
    "### 思路"
   ]
  },
  {
   "cell_type": "markdown",
   "id": "8d86691d-9a8f-4a1a-87df-c0b7fce13d63",
   "metadata": {},
   "source": [
    "本题的要求是移除一个数组中的一种元素 并返回剩下的值的数量 思路大概是使用快慢指针 如果快指针指向的位置不等于要移除的数值 就把他移到慢指针位置 然后慢指针+1"
   ]
  },
  {
   "cell_type": "markdown",
   "id": "faca6e80-cf3d-42be-956d-2455a289dfdb",
   "metadata": {},
   "source": [
    "### 代码"
   ]
  },
  {
   "cell_type": "code",
   "execution_count": 24,
   "id": "a4667ca1-5677-4adb-b472-064f806eaeec",
   "metadata": {},
   "outputs": [
    {
     "name": "stdin",
     "output_type": "stream",
     "text": [
      "输入一个数组 0,1,1,1,1,1,1,3,4,5,5\n",
      "输入你要删除的数字 1\n"
     ]
    },
    {
     "name": "stdout",
     "output_type": "stream",
     "text": [
      "保留了 5 个元素，新数组为： [0, 3, 4, 5, 5]\n"
     ]
    }
   ],
   "source": [
    "class Solution:\n",
    "    def removeElement(self, nums, val):\n",
    "        slow = 0\n",
    "        for fast in range(len(nums)):\n",
    "            if nums[fast] != val:\n",
    "                nums[slow] = nums[fast]\n",
    "                slow += 1\n",
    "        return slow\n",
    "\n",
    "nums = input(\"输入一个数组\")\n",
    "v = int(input(\"输入你要删除的数字\"))\n",
    "\n",
    "nums = [int(x.strip()) for x in nums.split(',')]\n",
    "solution = Solution()\n",
    "result = solution.removeElement(nums, v)\n",
    "print(\"保留了\" , result , \"个元素，新数组为：\", nums[:result])"
   ]
  }
 ],
 "metadata": {
  "kernelspec": {
   "display_name": "Python [conda env:base] *",
   "language": "python",
   "name": "conda-base-py"
  },
  "language_info": {
   "codemirror_mode": {
    "name": "ipython",
    "version": 3
   },
   "file_extension": ".py",
   "mimetype": "text/x-python",
   "name": "python",
   "nbconvert_exporter": "python",
   "pygments_lexer": "ipython3",
   "version": "3.12.3"
  }
 },
 "nbformat": 4,
 "nbformat_minor": 5
}
