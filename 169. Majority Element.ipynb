{
 "cells": [
  {
   "cell_type": "markdown",
   "id": "3db7edef-2142-418e-a407-154f5cb6da77",
   "metadata": {},
   "source": [
    "# 主要元素"
   ]
  },
  {
   "cell_type": "markdown",
   "id": "2c343669-7086-49ad-a754-9e57608f6cd4",
   "metadata": {},
   "source": [
    "### 思路"
   ]
  },
  {
   "cell_type": "markdown",
   "id": "5fcfcfce-f972-4a60-b4e1-8fb54022d035",
   "metadata": {},
   "source": [
    "本题是找出数组中出现较多的元素 要求大于一半 因此本题采用候选人方法 先创建一个候选人变量 从第一个开始 然后创建一个票数 = 1 从第二个开始比较 如果遇到候选者不同的情况则票数-1 如果票数<0了就换成当前候选者 最后遍历结束后的候选人就是多数候选人 再遍历一次数组检查候选者数量是否大于len(nums)/2 本算法又称为摩尔投票算法（Boyer-Moore Vote Algorithm）"
   ]
  },
  {
   "cell_type": "markdown",
   "id": "361f3d2b-d4fc-4444-bc54-7986ca2c73be",
   "metadata": {},
   "source": [
    "### 代码"
   ]
  },
  {
   "cell_type": "code",
   "execution_count": null,
   "id": "de92a83e-2c21-42e2-b9e8-e60ebdb78136",
   "metadata": {},
   "outputs": [],
   "source": [
    "class Solution:\n",
    "    def majorityElement(self, nums):\n",
    "        candidate = nums[0]\n",
    "        ticket = 1\n",
    "        for i in range(1, len(nums)):\n",
    "            if nums[i] == candidate:\n",
    "                ticket += 1\n",
    "            else:\n",
    "                ticket -= 1\n",
    "                if ticket <= 0:\n",
    "                    candidate = nums[i]\n",
    "                    ticket = 1\n",
    "        count = 0\n",
    "        for j in range(len(nums)):\n",
    "            if nums[j] == candidate:\n",
    "                count += 1\n",
    "        if count > len(nums) / 2:\n",
    "            return candidate\n",
    "        else:\n",
    "            return \"No valid candidate\"\n",
    "# input\n",
    "nums = input(\"input an array\")\n",
    "\n",
    "nums = [int(x.strip()) for x in nums.split(',')]\n",
    "solution = Solution()\n",
    "print(solution.majorityElement(nums))"
   ]
  },
  {
   "cell_type": "markdown",
   "id": "037e49ca-c579-4a3f-8bd0-43a1c7653fdd",
   "metadata": {},
   "source": [
    "### 相似题目（229. 主要元素 2）"
   ]
  },
  {
   "cell_type": "markdown",
   "id": "60b72697-92f4-4f7a-936d-b420481920e4",
   "metadata": {},
   "source": [
    "### 思路"
   ]
  },
  {
   "cell_type": "markdown",
   "id": "739f68d0-c4b6-4b11-916d-d29fbe12c26d",
   "metadata": {},
   "source": [
    "和上题相似 但需要大于 n/3 因此只能最多产生2个候选人 所以维护两个候选人及票数"
   ]
  },
  {
   "cell_type": "markdown",
   "id": "d18b55bf-7403-4daf-a3da-daa82c93aea7",
   "metadata": {},
   "source": [
    "### 代码"
   ]
  },
  {
   "cell_type": "code",
   "execution_count": 13,
   "id": "25fb20c7-f76e-448c-b4a8-eadc7997e980",
   "metadata": {},
   "outputs": [
    {
     "name": "stdin",
     "output_type": "stream",
     "text": [
      "Input an array 0, 1, 1, 0, 3\n"
     ]
    },
    {
     "name": "stdout",
     "output_type": "stream",
     "text": [
      "[0, 1]\n"
     ]
    }
   ],
   "source": [
    "class Solution:\n",
    "    def majorityElementThree(self, nums):\n",
    "        if len(nums) <= 1:\n",
    "            return nums\n",
    "        candidate1 = None\n",
    "        candidate2 = None\n",
    "        ticket1 = 0\n",
    "        ticket2 = 0\n",
    "        for i in range(len(nums)):\n",
    "            if nums[i] == candidate1:\n",
    "                ticket1 += 1\n",
    "            elif nums[i] == candidate2:\n",
    "                ticket2 += 1\n",
    "            elif ticket1 == 0:\n",
    "                candidate1 = nums[i]\n",
    "                ticket1 = 1\n",
    "            elif ticket2 == 0:\n",
    "                candidate2 = nums[i]\n",
    "                ticket2 = 1\n",
    "            else:\n",
    "                ticket1 -= 1\n",
    "                ticket2 -= 1\n",
    "        count1 = 0\n",
    "        count2 = 0\n",
    "        for j in range(len(nums)):\n",
    "            if nums[j] == candidate1:\n",
    "                count1 += 1\n",
    "            elif nums[j] == candidate2:\n",
    "                count2 += 1\n",
    "        res = []\n",
    "        if count1 > len(nums) / 3:\n",
    "            res.append(candidate1)\n",
    "        if count2 > len(nums) / 3:\n",
    "            res.append(candidate2)\n",
    "        return res\n",
    "# input\n",
    "nums = input(\"Input an array\")\n",
    "\n",
    "nums = [int(x.strip()) for x in nums.split(',')]\n",
    "solution = Solution()\n",
    "print(solution.majorityElementThree(nums))"
   ]
  },
  {
   "cell_type": "code",
   "execution_count": null,
   "id": "d3daa8c1-6154-4542-a3fc-7895df884d53",
   "metadata": {},
   "outputs": [],
   "source": []
  }
 ],
 "metadata": {
  "kernelspec": {
   "display_name": "Python [conda env:base] *",
   "language": "python",
   "name": "conda-base-py"
  },
  "language_info": {
   "codemirror_mode": {
    "name": "ipython",
    "version": 3
   },
   "file_extension": ".py",
   "mimetype": "text/x-python",
   "name": "python",
   "nbconvert_exporter": "python",
   "pygments_lexer": "ipython3",
   "version": "3.12.3"
  }
 },
 "nbformat": 4,
 "nbformat_minor": 5
}
