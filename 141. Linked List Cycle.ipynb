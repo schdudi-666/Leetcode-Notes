{
 "cells": [
  {
   "cell_type": "markdown",
   "id": "37f4c424-95d9-4834-97a9-71abf8ea1799",
   "metadata": {},
   "source": [
    "# 环形链表"
   ]
  },
  {
   "cell_type": "markdown",
   "id": "4bcfddf7-8be9-4e81-9771-88f1b035c5c5",
   "metadata": {},
   "source": [
    "### 思路"
   ]
  },
  {
   "cell_type": "markdown",
   "id": "56f3c0e8-163d-47d6-bd04-12cb5166563a",
   "metadata": {},
   "source": [
    "本题的思路是快慢指针 慢指针每次走一步 快指针走两步 如果是环形那一定能碰到 如果不是fast会走到none"
   ]
  },
  {
   "cell_type": "markdown",
   "id": "c9ff8cfe-f964-4a30-8cb8-c2103a259779",
   "metadata": {},
   "source": [
    "### 代码"
   ]
  },
  {
   "cell_type": "code",
   "execution_count": 5,
   "id": "10fd1c6d-0a42-4252-9428-0cda91210240",
   "metadata": {},
   "outputs": [
    {
     "name": "stdout",
     "output_type": "stream",
     "text": [
      "True\n"
     ]
    }
   ],
   "source": [
    "class ListNode:\n",
    "    def __init__(self, val=0, next=None):\n",
    "        self.val = val\n",
    "        self.next = next\n",
    "\n",
    "def build_list(nums):\n",
    "    if not nums:\n",
    "        return None\n",
    "    head = ListNode(nums[0])\n",
    "    cur = head\n",
    "    for x in nums[1:]:\n",
    "        cur.next = ListNode(x)\n",
    "        cur = cur.next\n",
    "    return head\n",
    "\n",
    "def make_cycle(head, pos):\n",
    "    if pos < 0:\n",
    "        return head\n",
    "    cycle_node = None\n",
    "    cur = head\n",
    "    idx = 0\n",
    "    tail = None\n",
    "    while cur:\n",
    "        if idx == pos:\n",
    "            cycle_node = cur\n",
    "        tail = cur\n",
    "        cur = cur.next\n",
    "        idx += 1\n",
    "    tail.next = cycle_node\n",
    "    return head\n",
    "\n",
    "class Solution:\n",
    "    def hasCycle(self, head):\n",
    "        fast = slow = head\n",
    "        while fast and fast.next:\n",
    "            fast = fast.next.next\n",
    "            slow = slow.next\n",
    "            if fast == slow:\n",
    "                return True\n",
    "        return False\n",
    "\n",
    "\n",
    "head = build_list([1, 2, 3, 4, 5])\n",
    "head = make_cycle(head, pos=1)\n",
    "print(Solution().hasCycle(head)) "
   ]
  },
  {
   "cell_type": "markdown",
   "id": "ac213aca-90a5-4d59-a117-4bada365e94c",
   "metadata": {},
   "source": [
    "### 相似题目（876. 链表中心）"
   ]
  },
  {
   "cell_type": "markdown",
   "id": "e6cb889b-bf73-4cec-9931-10052c361189",
   "metadata": {},
   "source": [
    "### 思路"
   ]
  },
  {
   "cell_type": "markdown",
   "id": "2ca864df-3120-4818-b104-e7e80849a4fe",
   "metadata": {},
   "source": [
    "本题的思路和上题相似 两个指针 快的走两步 慢的一步 当快的走不了的时候 慢指针正好指向链表中心点"
   ]
  },
  {
   "cell_type": "markdown",
   "id": "1e692114-e37c-4aea-a4b6-3d8543480a66",
   "metadata": {},
   "source": [
    "### 代码"
   ]
  },
  {
   "cell_type": "code",
   "execution_count": 17,
   "id": "d535143f-2c99-4364-bd8b-dd37875bf6b5",
   "metadata": {},
   "outputs": [
    {
     "name": "stdin",
     "output_type": "stream",
     "text": [
      " 1, 2, 3, 4, 5, 6, 7, 8, 9\n"
     ]
    },
    {
     "name": "stdout",
     "output_type": "stream",
     "text": [
      "[5, 6, 7, 8, 9]\n"
     ]
    }
   ],
   "source": [
    "from typing import Optional\n",
    "def to_list(head):\n",
    "    out = []\n",
    "    while head:\n",
    "        out.append(head.val)\n",
    "        head = head.next\n",
    "    return out\n",
    "\n",
    "class Solution:\n",
    "    def middleNode(self, head: Optional[ListNode]) -> Optional[ListNode]:\n",
    "        fast = slow = head\n",
    "        while fast and fast.next:\n",
    "            fast = fast.next.next\n",
    "            slow = slow.next\n",
    "        return slow\n",
    "\n",
    "head = input()\n",
    "head = [int(x.strip()) for x in head.split(',')]\n",
    "head = build_list(head)\n",
    "\n",
    "res = Solution().middleNode(head)\n",
    "print(to_list(res))"
   ]
  }
 ],
 "metadata": {
  "kernelspec": {
   "display_name": "Python [conda env:base] *",
   "language": "python",
   "name": "conda-base-py"
  },
  "language_info": {
   "codemirror_mode": {
    "name": "ipython",
    "version": 3
   },
   "file_extension": ".py",
   "mimetype": "text/x-python",
   "name": "python",
   "nbconvert_exporter": "python",
   "pygments_lexer": "ipython3",
   "version": "3.12.3"
  }
 },
 "nbformat": 4,
 "nbformat_minor": 5
}
