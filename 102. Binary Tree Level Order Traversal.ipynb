{
 "cells": [
  {
   "cell_type": "markdown",
   "id": "e6da32e7-62d5-400e-8bb2-15582a364c09",
   "metadata": {},
   "source": [
    "# 层序遍历二叉树"
   ]
  },
  {
   "cell_type": "markdown",
   "id": "2015079e-8db0-4ac5-b117-cdb6902a23d6",
   "metadata": {},
   "source": [
    "### 思路"
   ]
  },
  {
   "cell_type": "markdown",
   "id": "79d636c9-6dea-4141-8da9-8c868d4ebfaa",
   "metadata": {},
   "source": [
    "本题的思路是层序遍历 因此优先使用BFS完成 每层使用一个level来记录本层节点 "
   ]
  },
  {
   "cell_type": "markdown",
   "id": "b9e0969a-ec0f-4a9b-85d8-e5dca9f78609",
   "metadata": {},
   "source": [
    "### 代码"
   ]
  },
  {
   "cell_type": "code",
   "execution_count": 5,
   "id": "c80fe350-107c-4a88-a66a-3208891aa111",
   "metadata": {},
   "outputs": [
    {
     "name": "stdout",
     "output_type": "stream",
     "text": [
      "BFS 结果: [[3], [9, 20], [15, 7]]\n",
      "DFS 结果: [[3], [9, 20], [15, 7]]\n"
     ]
    }
   ],
   "source": [
    "from collections import deque\n",
    "from typing import Optional, List\n",
    "\n",
    "class TreeNode:\n",
    "    def __init__(self, val=0, left=None, right=None):\n",
    "        self.val = val\n",
    "        self.left = left\n",
    "        self.right = right\n",
    "\n",
    "class SolutionBFS:\n",
    "    def levelOrder(self, root: Optional[TreeNode]) -> List[List[int]]:\n",
    "        if not root:\n",
    "            return []\n",
    "        res = []\n",
    "        q = deque([root])\n",
    "        while q:\n",
    "            level = []\n",
    "            for _ in range(len(q)):\n",
    "                node = q.popleft()\n",
    "                level.append(node.val)\n",
    "                if node.left:\n",
    "                    q.append(node.left)\n",
    "                if node.right:\n",
    "                    q.append(node.right)\n",
    "            res.append(level)\n",
    "        return res\n",
    "\n",
    "class SolutionDFS:\n",
    "    def levelOrder(self, root: Optional[TreeNode]) -> List[List[int]]:\n",
    "        level = 0\n",
    "        res = []\n",
    "        def dfs(node, level):\n",
    "            if not node:\n",
    "                return\n",
    "            if len(res) == level:\n",
    "                res.append([])\n",
    "            res[level].append(node.val)\n",
    "            dfs(node.left, level + 1)\n",
    "            dfs(node.right, level + 1)\n",
    "        dfs(root, level)\n",
    "        return res\n",
    "\n",
    "#      3\n",
    "#     / \\\n",
    "#    9  20\n",
    "#       / \\\n",
    "#      15  7\n",
    "root = TreeNode(3)\n",
    "root.left = TreeNode(9)\n",
    "root.right = TreeNode(20, TreeNode(15), TreeNode(7))\n",
    "\n",
    "print(\"BFS 结果:\", SolutionBFS().levelOrder(root))\n",
    "print(\"DFS 结果:\", SolutionDFS().levelOrder(root))"
   ]
  },
  {
   "cell_type": "markdown",
   "id": "846eacb5-a64e-41fb-a0f0-4fa7dbfbd906",
   "metadata": {},
   "source": [
    "### 类似问题（107. 层序遍历二叉树2）"
   ]
  },
  {
   "cell_type": "markdown",
   "id": "48abaf51-d523-4f31-91ab-d1962961ab39",
   "metadata": {},
   "source": [
    "### 思路"
   ]
  },
  {
   "cell_type": "markdown",
   "id": "afebae5c-9d44-42d5-a5a7-3f990c4fbfa7",
   "metadata": {},
   "source": [
    "本题的思路继承上题 两种方式 一种是插入的时候用insert(0, level) 或者直接改return res[::-1] 两种方案都可以"
   ]
  },
  {
   "cell_type": "markdown",
   "id": "5046af09-976c-45ac-ad82-91465234407a",
   "metadata": {},
   "source": [
    "### 代码"
   ]
  },
  {
   "cell_type": "code",
   "execution_count": 11,
   "id": "184161a2-6265-4df8-acad-8aacde40ca7a",
   "metadata": {},
   "outputs": [
    {
     "name": "stdout",
     "output_type": "stream",
     "text": [
      "BFS 结果: [[15, 7], [9, 20], [3]]\n",
      "DFS 结果: [[15, 7], [9, 20], [3]]\n"
     ]
    }
   ],
   "source": [
    "from collections import deque\n",
    "from typing import Optional, List\n",
    "\n",
    "class TreeNode:\n",
    "    def __init__(self, val=0, left=None, right=None):\n",
    "        self.val = val\n",
    "        self.left = left\n",
    "        self.right = right\n",
    "\n",
    "class SolutionBFS:\n",
    "    def levelOrder(self, root: Optional[TreeNode]) -> List[List[int]]:\n",
    "        if not root:\n",
    "            return []\n",
    "        res = []\n",
    "        q = deque([root])\n",
    "        while q:\n",
    "            level = []\n",
    "            for _ in range(len(q)):\n",
    "                node = q.popleft()\n",
    "                level.append(node.val)\n",
    "                if node.left:\n",
    "                    q.append(node.left)\n",
    "                if node.right:\n",
    "                    q.append(node.right)\n",
    "            res.insert(0, level)\n",
    "        return res\n",
    "\n",
    "class SolutionDFS:\n",
    "    def levelOrder(self, root: Optional[TreeNode]) -> List[List[int]]:\n",
    "        level = 0\n",
    "        res = []\n",
    "        def dfs(node, level):\n",
    "            if not node:\n",
    "                return\n",
    "            if len(res) == level:\n",
    "                res.append([])\n",
    "            res[level].append(node.val)\n",
    "            dfs(node.left, level + 1)\n",
    "            dfs(node.right, level + 1)\n",
    "        dfs(root, level)\n",
    "        return res[::-1]\n",
    "\n",
    "#      3\n",
    "#     / \\\n",
    "#    9  20\n",
    "#       / \\\n",
    "#      15  7\n",
    "root = TreeNode(3)\n",
    "root.left = TreeNode(9)\n",
    "root.right = TreeNode(20, TreeNode(15), TreeNode(7))\n",
    "\n",
    "print(\"BFS 结果:\", SolutionBFS().levelOrder(root))\n",
    "print(\"DFS 结果:\", SolutionDFS().levelOrder(root))"
   ]
  }
 ],
 "metadata": {
  "kernelspec": {
   "display_name": "Python [conda env:base] *",
   "language": "python",
   "name": "conda-base-py"
  },
  "language_info": {
   "codemirror_mode": {
    "name": "ipython",
    "version": 3
   },
   "file_extension": ".py",
   "mimetype": "text/x-python",
   "name": "python",
   "nbconvert_exporter": "python",
   "pygments_lexer": "ipython3",
   "version": "3.12.3"
  }
 },
 "nbformat": 4,
 "nbformat_minor": 5
}
