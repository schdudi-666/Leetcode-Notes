{
 "cells": [
  {
   "cell_type": "markdown",
   "id": "dc41fea7-484f-40c6-898b-f790a213e433",
   "metadata": {},
   "source": [
    "# 实现Trie（前缀树）"
   ]
  },
  {
   "cell_type": "markdown",
   "id": "eb3a9318-42d9-4a23-a87a-848336cd1aa3",
   "metadata": {},
   "source": [
    "### 思路"
   ]
  },
  {
   "cell_type": "markdown",
   "id": "b79edc1d-6c84-4f1e-b7da-3b4662b0dcd2",
   "metadata": {},
   "source": [
    "本题的思路是通过字典套字典的方式实现前缀树 每次通过进入下一层字典的方式模拟指针的运动"
   ]
  },
  {
   "cell_type": "markdown",
   "id": "9e1b5578-ef29-47ab-938f-432ea371d81f",
   "metadata": {},
   "source": [
    "### 代码"
   ]
  },
  {
   "cell_type": "code",
   "execution_count": 5,
   "id": "a9d968e6-5070-483c-9315-c2d0e5b808f7",
   "metadata": {},
   "outputs": [],
   "source": [
    "class Trie:\n",
    "\n",
    "    def __init__(self):\n",
    "        self.trie = {}\n",
    "\n",
    "\n",
    "    def insert(self, word: str) -> None:\n",
    "        node = self.trie\n",
    "        for char in word:\n",
    "            if char not in node:\n",
    "                node[char] = {}\n",
    "            node = node[char]\n",
    "        node['#'] = True\n",
    "\n",
    "    def search(self, word: str) -> bool:\n",
    "        node = self.trie\n",
    "        for char in word:\n",
    "            if char not in node:\n",
    "                return False\n",
    "            node = node[char]\n",
    "        return '#' in node\n",
    "\n",
    "    def startsWith(self, prefix: str) -> bool:\n",
    "        node = self.trie\n",
    "        for char in prefix:\n",
    "            if char not in node:\n",
    "                return False\n",
    "            node = node[char]\n",
    "        return True"
   ]
  },
  {
   "cell_type": "code",
   "execution_count": 15,
   "id": "f7a01e26-c543-453f-b8ba-712d82b40e9b",
   "metadata": {},
   "outputs": [
    {
     "name": "stdout",
     "output_type": "stream",
     "text": [
      "True\n",
      "False\n",
      "True\n",
      "True\n"
     ]
    }
   ],
   "source": [
    "t = Trie()\n",
    "t.insert(\"apple\")\n",
    "print(t.search(\"apple\"))    # ✅ True\n",
    "print(t.search(\"app\"))      # ❌ False（未插入完整单词）\n",
    "print(t.startsWith(\"app\"))  # ✅ True\n",
    "t.insert(\"app\")\n",
    "print(t.search(\"app\"))      # ✅ True"
   ]
  },
  {
   "cell_type": "markdown",
   "id": "1639a59c-b749-443c-bf10-8b94d10a338d",
   "metadata": {},
   "source": [
    "### 类似题目（211. 设计增加和搜素单词数据结构）"
   ]
  },
  {
   "cell_type": "markdown",
   "id": "34626313-6e6d-4700-87e7-f718ac394ca9",
   "metadata": {},
   "source": [
    "### 思路"
   ]
  },
  {
   "cell_type": "markdown",
   "id": "33815c93-15e9-42a2-a1e3-0fcf8fb9729e",
   "metadata": {},
   "source": [
    "本题的思路是在搜索函数中 用dfs的思想完成循环 每次轮流检查"
   ]
  },
  {
   "cell_type": "markdown",
   "id": "e3f89e24-561b-4a44-aa50-6630d77cd7f1",
   "metadata": {},
   "source": [
    "### 代码"
   ]
  },
  {
   "cell_type": "code",
   "execution_count": 11,
   "id": "3bfef5f6-cb6e-467e-abd8-f6265f652363",
   "metadata": {},
   "outputs": [],
   "source": [
    "class WordDictionary:\n",
    "    def __init__(self):\n",
    "        self.trie = {}\n",
    "\n",
    "    def addWord(self, word: str) -> None:\n",
    "        node = self.trie\n",
    "        for char in word:\n",
    "            if char not in node:\n",
    "                node[char] = {}\n",
    "            node = node[char]\n",
    "        node['#'] = True\n",
    "\n",
    "    def search(self, word: str) -> bool:\n",
    "        def dfs(node, i):\n",
    "            # 递归结束：走完单词\n",
    "            if i == len(word):\n",
    "                return '#' in node\n",
    "\n",
    "            curr = word[i]\n",
    "            # 普通字符：向下走\n",
    "            if curr != '.':\n",
    "                if curr not in node:\n",
    "                    return False\n",
    "                return dfs(node[curr], i + 1)\n",
    "            # 通配符：尝试所有分支\n",
    "            else:\n",
    "                for key in node:\n",
    "                    if key != '#' and dfs(node[key], i + 1):\n",
    "                        return True\n",
    "                return False\n",
    "\n",
    "        return dfs(self.trie, 0)"
   ]
  },
  {
   "cell_type": "code",
   "execution_count": 13,
   "id": "5e7f1932-8488-463e-bf42-63a903d70e0c",
   "metadata": {},
   "outputs": [
    {
     "name": "stdout",
     "output_type": "stream",
     "text": [
      "False\n",
      "True\n",
      "True\n",
      "True\n"
     ]
    }
   ],
   "source": [
    "wd = WordDictionary()\n",
    "wd.addWord(\"bad\")\n",
    "wd.addWord(\"dad\")\n",
    "wd.addWord(\"mad\")\n",
    "\n",
    "print(wd.search(\"pad\"))  # False\n",
    "print(wd.search(\"bad\"))  # True\n",
    "print(wd.search(\".ad\"))  # True\n",
    "print(wd.search(\"b..\")) "
   ]
  }
 ],
 "metadata": {
  "kernelspec": {
   "display_name": "Python [conda env:base] *",
   "language": "python",
   "name": "conda-base-py"
  },
  "language_info": {
   "codemirror_mode": {
    "name": "ipython",
    "version": 3
   },
   "file_extension": ".py",
   "mimetype": "text/x-python",
   "name": "python",
   "nbconvert_exporter": "python",
   "pygments_lexer": "ipython3",
   "version": "3.12.3"
  }
 },
 "nbformat": 4,
 "nbformat_minor": 5
}
