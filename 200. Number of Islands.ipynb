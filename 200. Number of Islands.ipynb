{
 "cells": [
  {
   "cell_type": "markdown",
   "id": "2252b47f-e881-40ab-825c-e75827d2c0c2",
   "metadata": {},
   "source": [
    "# 岛屿数量"
   ]
  },
  {
   "cell_type": "markdown",
   "id": "4437131d-fb6c-475a-a938-3f79cd7087d0",
   "metadata": {},
   "source": [
    "### 思路"
   ]
  },
  {
   "cell_type": "markdown",
   "id": "f60cb04d-aba7-4663-bcb8-1fb8e750b34f",
   "metadata": {},
   "source": [
    "本题的思路是淹没 遇到岛屿的时候先增加count 然后上下左右开始淹没 直到全部无法淹没时 再去寻找新的岛屿"
   ]
  },
  {
   "cell_type": "markdown",
   "id": "8eb693fd-b250-4ad8-b888-41e42afba8f8",
   "metadata": {},
   "source": [
    "### 代码"
   ]
  },
  {
   "cell_type": "code",
   "execution_count": 6,
   "id": "8053501b-3a69-4df1-a989-bb98783fa5e7",
   "metadata": {},
   "outputs": [
    {
     "name": "stdout",
     "output_type": "stream",
     "text": [
      "DFS Number of Islands: 3\n",
      "BFS Number of Islands: 3\n"
     ]
    }
   ],
   "source": [
    "from typing import List\n",
    "from collections import deque\n",
    "\n",
    "# -------------------- DFS 版本 --------------------\n",
    "class SolutionDFS:\n",
    "    def numIslands(self, grid: List[List[str]]) -> int:\n",
    "        def dfs(i, j):\n",
    "            # 越界或不是陆地就停止\n",
    "            if i < 0 or j < 0 or i >= m or j >= n or grid[i][j] != '1':\n",
    "                return \n",
    "            grid[i][j] = '0'  # 标记为访问过\n",
    "            # 向四个方向继续淹没\n",
    "            dfs(i + 1, j)\n",
    "            dfs(i - 1, j)\n",
    "            dfs(i, j + 1)\n",
    "            dfs(i, j - 1)\n",
    "        \n",
    "        m = len(grid)\n",
    "        n = len(grid[0])\n",
    "        count = 0\n",
    "\n",
    "        for i in range(m):\n",
    "            for j in range(n):\n",
    "                if grid[i][j] == '1':\n",
    "                    dfs(i, j)\n",
    "                    count += 1\n",
    "        \n",
    "        return count\n",
    "\n",
    "# -------------------- BFS 版本 --------------------\n",
    "class SolutionBFS:\n",
    "    def numIslands(self, grid: List[List[str]]) -> int:\n",
    "        if not grid:\n",
    "            return 0\n",
    "\n",
    "        m, n = len(grid), len(grid[0])\n",
    "        count = 0\n",
    "        direction = [(1,0), (-1,0), (0,1), (0,-1)]\n",
    "\n",
    "        for i in range(m):\n",
    "            for j in range(n):\n",
    "                if grid[i][j] == '1':\n",
    "                    count += 1\n",
    "                    grid[i][j] = '0'\n",
    "                    q = deque([(i, j)])\n",
    "                    while q:\n",
    "                        x, y = q.popleft()\n",
    "                        for dx, dy in direction:\n",
    "                            nx, ny = x + dx, y + dy\n",
    "                            if 0 <= nx < m and 0 <= ny < n and grid[nx][ny] == '1':\n",
    "                                grid[nx][ny] = '0'\n",
    "                                q.append((nx, ny))\n",
    "        return count\n",
    "\n",
    "\n",
    "# -------------------- 示例测试 --------------------\n",
    "grid1 = [\n",
    "    [\"1\",\"1\",\"0\",\"0\",\"0\"],\n",
    "    [\"1\",\"1\",\"0\",\"0\",\"0\"],\n",
    "    [\"0\",\"0\",\"1\",\"0\",\"0\"],\n",
    "    [\"0\",\"0\",\"0\",\"1\",\"1\"]\n",
    "]\n",
    "\n",
    "# 因为 DFS/BFS 都会修改 grid，所以要传入副本\n",
    "import copy\n",
    "grid_for_dfs = copy.deepcopy(grid1)\n",
    "grid_for_bfs = copy.deepcopy(grid1)\n",
    "\n",
    "sol_dfs = SolutionDFS()\n",
    "sol_bfs = SolutionBFS()\n",
    "\n",
    "print(\"DFS Number of Islands:\", sol_dfs.numIslands(grid_for_dfs))\n",
    "print(\"BFS Number of Islands:\", sol_bfs.numIslands(grid_for_bfs))\n"
   ]
  },
  {
   "cell_type": "markdown",
   "id": "cb30a46b-2a11-4372-86ba-e35b4fcc10cd",
   "metadata": {},
   "source": [
    "### 类似题目（695. 最大岛屿面积）"
   ]
  },
  {
   "cell_type": "markdown",
   "id": "baf6f684-1476-4e6c-9e9c-177e9321d627",
   "metadata": {},
   "source": [
    "### 思路"
   ]
  },
  {
   "cell_type": "markdown",
   "id": "a8a3fd4b-c7a8-4014-8b24-eb8f0be81082",
   "metadata": {},
   "source": [
    "本题的思路和上题类似 重点是更新本岛面积的时间 首先注意在dfs写法中 要先声明本岛面积 再写内置函数 并在函数内声明nonlocal"
   ]
  },
  {
   "cell_type": "markdown",
   "id": "851aba2b-d2d6-4b23-bfb5-79f8b157983d",
   "metadata": {},
   "source": [
    "### 代码"
   ]
  },
  {
   "cell_type": "code",
   "execution_count": 18,
   "id": "3025086b-1d6f-402f-9134-8ea6423ed7f3",
   "metadata": {},
   "outputs": [
    {
     "name": "stdout",
     "output_type": "stream",
     "text": [
      "DFS 最大岛屿面积: 5\n",
      "BFS 最大岛屿面积: 5\n"
     ]
    }
   ],
   "source": [
    "from typing import List\n",
    "from collections import deque\n",
    "import copy\n",
    "\n",
    "# -------------------- DFS 版本 --------------------\n",
    "class SolutionDFS:\n",
    "    def maxAreaOfIsland(self, grid: List[List[int]]) -> int:\n",
    "        this_island = 0  # 当前岛屿面积\n",
    "\n",
    "        def dfs(i, j):\n",
    "            nonlocal this_island\n",
    "            if i < 0 or j < 0 or i >= m or j >= n or grid[i][j] != 1:\n",
    "                return\n",
    "            grid[i][j] = 0  # 标记访问\n",
    "            this_island += 1\n",
    "            # 四个方向递归\n",
    "            dfs(i + 1, j)\n",
    "            dfs(i - 1, j)\n",
    "            dfs(i, j + 1)\n",
    "            dfs(i, j - 1)\n",
    "\n",
    "        m = len(grid)\n",
    "        n = len(grid[0])\n",
    "        max_island = 0\n",
    "\n",
    "        for i in range(m):\n",
    "            for j in range(n):\n",
    "                if grid[i][j] == 1:\n",
    "                    this_island = 0\n",
    "                    dfs(i, j)\n",
    "                    max_island = max(max_island, this_island)\n",
    "        return max_island\n",
    "\n",
    "\n",
    "# -------------------- BFS 版本 --------------------\n",
    "class SolutionBFS:\n",
    "    def maxAreaOfIsland(self, grid: List[List[int]]) -> int:\n",
    "        if not grid:\n",
    "            return 0\n",
    "\n",
    "        m, n = len(grid), len(grid[0])\n",
    "        max_island = 0\n",
    "        direction = [(1,0), (-1,0), (0,1), (0,-1)]\n",
    "\n",
    "        for i in range(m):\n",
    "            for j in range(n):\n",
    "                if grid[i][j] == 1:\n",
    "                    this_island = 1\n",
    "                    grid[i][j] = 0\n",
    "                    q = deque([(i, j)])\n",
    "                    while q:\n",
    "                        x, y = q.popleft()\n",
    "                        for dx, dy in direction:\n",
    "                            nx, ny = x + dx, y + dy\n",
    "                            if 0 <= nx < m and 0 <= ny < n and grid[nx][ny] == 1:\n",
    "                                grid[nx][ny] = 0\n",
    "                                this_island += 1\n",
    "                                q.append((nx, ny))\n",
    "                    max_island = max(max_island, this_island)\n",
    "        return max_island\n",
    "\n",
    "\n",
    "# -------------------- 测试样例 --------------------\n",
    "grid = [\n",
    "    [0,0,1,0,0],\n",
    "    [1,1,1,0,0],\n",
    "    [0,1,0,0,1],\n",
    "    [0,0,0,1,1]\n",
    "]\n",
    "\n",
    "# 由于 DFS/BFS 都会修改 grid，需要拷贝\n",
    "grid_for_dfs = copy.deepcopy(grid)\n",
    "grid_for_bfs = copy.deepcopy(grid)\n",
    "\n",
    "sol_dfs = SolutionDFS()\n",
    "sol_bfs = SolutionBFS()\n",
    "\n",
    "print(\"DFS 最大岛屿面积:\", sol_dfs.maxAreaOfIsland(grid_for_dfs))\n",
    "print(\"BFS 最大岛屿面积:\", sol_bfs.maxAreaOfIsland(grid_for_bfs))\n"
   ]
  }
 ],
 "metadata": {
  "kernelspec": {
   "display_name": "Python [conda env:base] *",
   "language": "python",
   "name": "conda-base-py"
  },
  "language_info": {
   "codemirror_mode": {
    "name": "ipython",
    "version": 3
   },
   "file_extension": ".py",
   "mimetype": "text/x-python",
   "name": "python",
   "nbconvert_exporter": "python",
   "pygments_lexer": "ipython3",
   "version": "3.12.3"
  }
 },
 "nbformat": 4,
 "nbformat_minor": 5
}
