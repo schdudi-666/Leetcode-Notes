{
 "cells": [
  {
   "cell_type": "markdown",
   "id": "c405e1f4-8c0a-4ef7-b92f-24b901d10498",
   "metadata": {},
   "source": [
    "# 回文链表"
   ]
  },
  {
   "cell_type": "markdown",
   "id": "2e7085f7-cf6c-4a8b-8cf8-f62c67a27c99",
   "metadata": {},
   "source": [
    "### 思路"
   ]
  },
  {
   "cell_type": "markdown",
   "id": "381e63a7-3bb9-4574-a9ea-d3f8fb3d0b5d",
   "metadata": {},
   "source": [
    "本题的思路是先快慢指针找中点 然后旋转后半部分 最后判断链条链表是否完全相等 融合了链表的主要思想"
   ]
  },
  {
   "cell_type": "markdown",
   "id": "63bf2515-1e98-4c3a-967d-56f1281a4df8",
   "metadata": {},
   "source": [
    "### 代码"
   ]
  },
  {
   "cell_type": "code",
   "execution_count": 7,
   "id": "1a7e49c8-f386-4247-b7e3-2154a6a86650",
   "metadata": {},
   "outputs": [
    {
     "name": "stdin",
     "output_type": "stream",
     "text": [
      " 1, 3, 5, 7, 8, 9, 9, 8, 7, 5, 3, 1\n"
     ]
    },
    {
     "name": "stdout",
     "output_type": "stream",
     "text": [
      "True\n"
     ]
    }
   ],
   "source": [
    "from typing import Optional\n",
    "\n",
    "class ListNode:\n",
    "     def __init__(self, val=0, next=None):\n",
    "         self.val = val\n",
    "         self.next = next\n",
    "\n",
    "def build_linked_list(nums):\n",
    "    if not nums: \n",
    "        return None\n",
    "    head = ListNode(nums[0])\n",
    "    cur = head\n",
    "    for x in nums[1:]:\n",
    "        cur.next = ListNode(x)\n",
    "        cur = cur.next\n",
    "    return head\n",
    "\n",
    "def to_list(head):\n",
    "    out = []\n",
    "    while head:\n",
    "        out.append(head.val)\n",
    "        head = head.next\n",
    "    return out\n",
    "\n",
    "class Solution:\n",
    "    def isPalindrome(self, head: Optional[ListNode]) -> bool:\n",
    "        fast = slow = start = head\n",
    "        while fast and fast.next:\n",
    "            fast = fast.next.next\n",
    "            slow = slow.next\n",
    "        prev = None\n",
    "        curr = slow\n",
    "        while curr:\n",
    "            next_node = curr.next\n",
    "            curr.next = prev\n",
    "            prev = curr\n",
    "            curr = next_node\n",
    "        while prev:\n",
    "            if prev.val == start.val:\n",
    "                prev = prev.next\n",
    "                start = start.next\n",
    "            else:\n",
    "                return False\n",
    "        return True\n",
    "\n",
    "head = input()\n",
    "head = [int(x.strip()) for x in head.split(',')]\n",
    "head = build_linked_list(head)\n",
    "print(Solution().isPalindrome(head))"
   ]
  },
  {
   "cell_type": "markdown",
   "id": "41e38521-1c1a-4417-a6e9-2c5a29f7e872",
   "metadata": {},
   "source": [
    "### 类似题目（143. 交叉重组链表）"
   ]
  },
  {
   "cell_type": "markdown",
   "id": "7d7caaaa-adc1-440c-accd-557f070f5ada",
   "metadata": {},
   "source": [
    "### 思路"
   ]
  },
  {
   "cell_type": "markdown",
   "id": "e7986bfc-28de-4ddd-a71e-93decbfd5bd7",
   "metadata": {},
   "source": [
    "本题的思路和上题类似 先找中点 然后反转后半部分 最后交叉组合前后半段"
   ]
  },
  {
   "cell_type": "markdown",
   "id": "f51bd2c7-5819-4145-ad2f-dadcdf902f4f",
   "metadata": {},
   "source": [
    "### 代码"
   ]
  },
  {
   "cell_type": "code",
   "execution_count": 15,
   "id": "91e48769-0b10-47d9-9b3c-3c31cc471db0",
   "metadata": {},
   "outputs": [
    {
     "name": "stdin",
     "output_type": "stream",
     "text": [
      " 1, 2, 3\n"
     ]
    },
    {
     "name": "stdout",
     "output_type": "stream",
     "text": [
      "<__main__.ListNode object at 0x00000176C3087320>\n"
     ]
    }
   ],
   "source": [
    "class Solution:\n",
    "    def reorderList(self, head):\n",
    "        slow = fast = head\n",
    "        while fast and fast.next:\n",
    "            fast = fast.next.next\n",
    "            slow = slow.next\n",
    "        prev = None\n",
    "        curr = slow\n",
    "        while curr:\n",
    "            next_node = curr.next\n",
    "            curr.next = prev\n",
    "            prev = curr\n",
    "            curr = next_node\n",
    "        left, right = head, prev\n",
    "        while right.next:\n",
    "            next_right = right.next\n",
    "            next_left = left.next\n",
    "\n",
    "            left.next = right\n",
    "            right.next = next_left\n",
    "\n",
    "            right = next_right\n",
    "            left = next_left\n",
    "        return right\n",
    "\n",
    "head = input()\n",
    "head = [int(x.strip()) for x in head.split(',')]\n",
    "head = build_linked_list(head)\n",
    "print(Solution().reorderList(head))"
   ]
  }
 ],
 "metadata": {
  "kernelspec": {
   "display_name": "Python [conda env:base] *",
   "language": "python",
   "name": "conda-base-py"
  },
  "language_info": {
   "codemirror_mode": {
    "name": "ipython",
    "version": 3
   },
   "file_extension": ".py",
   "mimetype": "text/x-python",
   "name": "python",
   "nbconvert_exporter": "python",
   "pygments_lexer": "ipython3",
   "version": "3.12.3"
  }
 },
 "nbformat": 4,
 "nbformat_minor": 5
}
