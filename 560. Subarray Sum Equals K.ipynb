{
 "cells": [
  {
   "cell_type": "markdown",
   "id": "95f9c4fe-163f-4212-8685-a1bba7ed51f5",
   "metadata": {},
   "source": [
    "# 子数组和等于k的数量"
   ]
  },
  {
   "cell_type": "markdown",
   "id": "a222b3f4-e204-47e1-a125-a0bb34c7b02f",
   "metadata": {},
   "source": [
    "### 思路"
   ]
  },
  {
   "cell_type": "markdown",
   "id": "1cea9672-61c6-472a-b860-b6bc2b172a5c",
   "metadata": {},
   "source": [
    "本体思路是维护一个哈希表用于记录出现过的前缀和次数 一个当前前缀和 和一个最终返回的数量 每次遍历节点时 先更新当前前缀和 并计算需要的和（当前前缀和 - k）然后判断哈希表中是否存在过这个目标值 如果存在则最终返回数量加上哈希表里的数量 之后将当前前缀和放到哈希表里"
   ]
  },
  {
   "cell_type": "markdown",
   "id": "4b34ce43-5b28-4c77-8cc2-d88457eb3ba5",
   "metadata": {},
   "source": [
    "### 代码"
   ]
  },
  {
   "cell_type": "code",
   "execution_count": 10,
   "id": "939d7d80-59c0-4463-9641-3f1d3d2a4230",
   "metadata": {},
   "outputs": [
    {
     "name": "stdin",
     "output_type": "stream",
     "text": [
      "array 1, 2, 3\n",
      "target value 3\n"
     ]
    },
    {
     "name": "stdout",
     "output_type": "stream",
     "text": [
      "2\n"
     ]
    }
   ],
   "source": [
    "class Solution:\n",
    "    def subarraySum(self, nums, k):\n",
    "        curr_prefix = 0\n",
    "        hashmap = {0:1}\n",
    "        ans = 0\n",
    "        for i in range(len(nums)):\n",
    "            curr_prefix += nums[i]\n",
    "            need = curr_prefix - k\n",
    "            if need in hashmap:\n",
    "                ans += hashmap[need]\n",
    "            if curr_prefix in hashmap:\n",
    "                hashmap[curr_prefix] += 1\n",
    "            else:\n",
    "                hashmap[curr_prefix] = 1\n",
    "        return ans\n",
    "# input\n",
    "nums = input(\"array\")\n",
    "k = int(input(\"target value\"))\n",
    "\n",
    "nums = [int(x.strip()) for x in nums.split(',')]\n",
    "solution = Solution()\n",
    "print(solution.subarraySum(nums, k))"
   ]
  },
  {
   "cell_type": "markdown",
   "id": "8de5705e-4beb-4411-bfb8-6d2237053252",
   "metadata": {},
   "source": [
    "### 相似题目（724. 找到下标）"
   ]
  },
  {
   "cell_type": "markdown",
   "id": "5c76dc8a-3ab1-46bb-bd6e-ba97d3c8e4f0",
   "metadata": {},
   "source": [
    "### 思路"
   ]
  },
  {
   "cell_type": "markdown",
   "id": "16051ed2-e701-4dbb-917d-7a586c0b6919",
   "metadata": {},
   "source": [
    "本题的思路是两次遍历 第一次找出所有的和 然后第二次遍历维护左边前缀和 右边前缀和可以用计算得出"
   ]
  },
  {
   "cell_type": "markdown",
   "id": "6318c6e5-ddf4-4bf1-bd96-ef3b89a719ba",
   "metadata": {},
   "source": [
    "### 代码"
   ]
  },
  {
   "cell_type": "code",
   "execution_count": 20,
   "id": "66a149a4-6afc-4e1d-8f60-13f80e900347",
   "metadata": {},
   "outputs": [
    {
     "name": "stdin",
     "output_type": "stream",
     "text": [
      "array 1, 7, 3, 6, 5, 6\n"
     ]
    },
    {
     "name": "stdout",
     "output_type": "stream",
     "text": [
      "3\n"
     ]
    }
   ],
   "source": [
    "class Solution:\n",
    "    def pivotIndex(self, nums):\n",
    "        prefix_sum = sum(nums)\n",
    "        left = 0\n",
    "        for i, num in enumerate(nums):\n",
    "            right = prefix_sum - left - num\n",
    "            if left == right:\n",
    "                return i\n",
    "            left += num\n",
    "        return -1\n",
    "\n",
    "nums = input(\"array\")\n",
    "\n",
    "nums = [int(x.strip()) for x in nums.split(',')]\n",
    "solution = Solution()\n",
    "print(solution.pivotIndex(nums))"
   ]
  }
 ],
 "metadata": {
  "kernelspec": {
   "display_name": "Python [conda env:base] *",
   "language": "python",
   "name": "conda-base-py"
  },
  "language_info": {
   "codemirror_mode": {
    "name": "ipython",
    "version": 3
   },
   "file_extension": ".py",
   "mimetype": "text/x-python",
   "name": "python",
   "nbconvert_exporter": "python",
   "pygments_lexer": "ipython3",
   "version": "3.12.3"
  }
 },
 "nbformat": 4,
 "nbformat_minor": 5
}
