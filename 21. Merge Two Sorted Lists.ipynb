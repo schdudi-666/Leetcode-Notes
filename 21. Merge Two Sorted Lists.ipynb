{
 "cells": [
  {
   "cell_type": "markdown",
   "id": "5cfcef60-d755-4e60-8092-93413e158028",
   "metadata": {},
   "source": [
    "# 组合两个有序链表"
   ]
  },
  {
   "cell_type": "markdown",
   "id": "24acec96-9596-4b8d-b1ae-84e201d8198d",
   "metadata": {},
   "source": [
    "### 思路"
   ]
  },
  {
   "cell_type": "markdown",
   "id": "09758c7f-952c-4f85-b624-30ad90c1df60",
   "metadata": {},
   "source": [
    "本体的核心是通过比较两个链表的值来决定填充谁的数字 记住每次不要贪 接一个数就行"
   ]
  },
  {
   "cell_type": "markdown",
   "id": "6a4ad437-b823-416f-89a3-0b769b460c88",
   "metadata": {},
   "source": [
    "### 代码"
   ]
  },
  {
   "cell_type": "code",
   "execution_count": 5,
   "id": "b369823c-7bcc-4043-b8cb-6c196927dad7",
   "metadata": {},
   "outputs": [
    {
     "name": "stdin",
     "output_type": "stream",
     "text": [
      " 2, 4, 6\n",
      " 1, 3, 5\n"
     ]
    },
    {
     "name": "stdout",
     "output_type": "stream",
     "text": [
      "[1, 2, 3, 4, 5, 6]\n"
     ]
    }
   ],
   "source": [
    "from typing import Optional\n",
    "\n",
    "class ListNode:\n",
    "     def __init__(self, val=0, next=None):\n",
    "         self.val = val\n",
    "         self.next = next\n",
    "\n",
    "def build_linked_list(nums):\n",
    "    if not nums: \n",
    "        return None\n",
    "    head = ListNode(nums[0])\n",
    "    cur = head\n",
    "    for x in nums[1:]:\n",
    "        cur.next = ListNode(x)\n",
    "        cur = cur.next\n",
    "    return head\n",
    "\n",
    "def to_list(head):\n",
    "    out = []\n",
    "    while head:\n",
    "        out.append(head.val)\n",
    "        head = head.next\n",
    "    return out\n",
    "\n",
    "class Solution:\n",
    "    def mergeTwoLists(self, list1: Optional[ListNode], list2: Optional[ListNode]) -> Optional[ListNode]:\n",
    "        dummy = ListNode(0)\n",
    "        curr = dummy\n",
    "        while list1 and list2:\n",
    "            if list1.val < list2.val:\n",
    "                curr.next = list1\n",
    "                list1 = list1.next\n",
    "            else:\n",
    "                curr.next = list2\n",
    "                list2 = list2.next\n",
    "            curr = curr.next\n",
    "        curr.next = list1 if list1 else list2\n",
    "        return dummy.next\n",
    "\n",
    "list1 = input()\n",
    "list1 = [int(x.strip()) for x in list1.split(',')]\n",
    "list1 = build_linked_list(list1)\n",
    "list2 = input()\n",
    "list2 = [int(x.strip()) for x in list2.split(',')]\n",
    "list2 = build_linked_list(list2)\n",
    "\n",
    "res = Solution().mergeTwoLists(list1, list2)\n",
    "print(to_list(res))"
   ]
  },
  {
   "cell_type": "markdown",
   "id": "c1a02868-ae72-4f46-b674-4f34b41f5163",
   "metadata": {},
   "source": [
    "### 类似题目（83. 删除重复数字）"
   ]
  },
  {
   "cell_type": "markdown",
   "id": "29113c21-3bd8-426c-952f-f3c53bf23e99",
   "metadata": {},
   "source": [
    "### 思路"
   ]
  },
  {
   "cell_type": "markdown",
   "id": "130b71b4-4fd3-4477-a673-938b037e8599",
   "metadata": {},
   "source": [
    "本题的核心在于移动时判别是否数字重复 如果重复则跳过 不重复就正常向前走"
   ]
  },
  {
   "cell_type": "markdown",
   "id": "fab49804-14ea-4d1a-8068-05b952f67e41",
   "metadata": {},
   "source": [
    "### 代码"
   ]
  },
  {
   "cell_type": "code",
   "execution_count": 11,
   "id": "9f6ad42a-bc3a-40e2-9e2e-adf048b56f59",
   "metadata": {},
   "outputs": [
    {
     "name": "stdin",
     "output_type": "stream",
     "text": [
      " 1, 1, 1, 2, 2, 3, 3, 4\n"
     ]
    },
    {
     "name": "stdout",
     "output_type": "stream",
     "text": [
      "[1, 2, 3, 4]\n"
     ]
    }
   ],
   "source": [
    "class Solution:\n",
    "    def deleteDuplicates(self, head: Optional[ListNode]) -> Optional[ListNode]:\n",
    "        curr = head\n",
    "        while curr and curr.next:\n",
    "            if curr.val == curr.next.val:\n",
    "                curr.next = curr.next.next\n",
    "            else:\n",
    "                curr = curr.next\n",
    "        return head\n",
    "\n",
    "head = input()\n",
    "head = [int(x.strip()) for x in head.split(',')]\n",
    "head = build_linked_list(head)\n",
    "\n",
    "res = Solution().deleteDuplicates(head)\n",
    "print(to_list(res))"
   ]
  }
 ],
 "metadata": {
  "kernelspec": {
   "display_name": "Python [conda env:base] *",
   "language": "python",
   "name": "conda-base-py"
  },
  "language_info": {
   "codemirror_mode": {
    "name": "ipython",
    "version": 3
   },
   "file_extension": ".py",
   "mimetype": "text/x-python",
   "name": "python",
   "nbconvert_exporter": "python",
   "pygments_lexer": "ipython3",
   "version": "3.12.3"
  }
 },
 "nbformat": 4,
 "nbformat_minor": 5
}
