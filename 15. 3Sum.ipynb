{
 "cells": [
  {
   "cell_type": "markdown",
   "id": "5fea5fc2-d91d-456b-9ac4-9f0480bbbc9d",
   "metadata": {},
   "source": [
    "# 三数之和"
   ]
  },
  {
   "cell_type": "markdown",
   "id": "4397c31d-4498-4913-992f-b35a59be41aa",
   "metadata": {},
   "source": [
    "### 思路"
   ]
  },
  {
   "cell_type": "markdown",
   "id": "2356ac61-53b7-4236-a0a1-c424b4a73134",
   "metadata": {},
   "source": [
    "本题难度较高 核心思路是先固定一个数 然后先判断是否和上一个数重复 然后进行双指针 同时千万不要忘记排序"
   ]
  },
  {
   "cell_type": "markdown",
   "id": "b0833f60-be10-4e65-8ced-2a4898b12cf1",
   "metadata": {},
   "source": [
    "### 代码"
   ]
  },
  {
   "cell_type": "code",
   "execution_count": 5,
   "id": "b7715743-3a30-4879-9c9f-6b6323eea102",
   "metadata": {},
   "outputs": [
    {
     "name": "stdin",
     "output_type": "stream",
     "text": [
      " -1, 0, 1, 2, -1, -4\n"
     ]
    },
    {
     "name": "stdout",
     "output_type": "stream",
     "text": [
      "[[-1, 2, -1], [0, 1, -1]]\n"
     ]
    }
   ],
   "source": [
    "class Solution:\n",
    "    def threeSum(self, nums):\n",
    "        nums.sort()\n",
    "        res = []\n",
    "        for i in range(len(nums)):\n",
    "            if i > 0 and nums[i] == nums[i-1]:\n",
    "                continue\n",
    "            left = i + 1\n",
    "            right = len(nums) - 1\n",
    "            while left < right:\n",
    "                total = nums[left] + nums[right] + nums[i]\n",
    "                if total == 0:\n",
    "                    res.append([nums[left], nums[right], nums[i]])\n",
    "                    left += 1\n",
    "                    right -= 1\n",
    "                    while left < right and nums[left] == nums[left-1]:\n",
    "                        left += 1\n",
    "                    while left < right and nums[right] == nums[right+1]:\n",
    "                        right -= 1\n",
    "                elif total > 0:\n",
    "                    right -= 1\n",
    "                else:\n",
    "                    left += 1\n",
    "        return res\n",
    "\n",
    "nums = input()\n",
    "\n",
    "nums = [int(x.strip()) for x in nums.split(',')]\n",
    "solution = Solution()\n",
    "print(solution.threeSum(nums))"
   ]
  },
  {
   "cell_type": "markdown",
   "id": "910b3b34-886f-4abc-9058-34b6eaa68657",
   "metadata": {},
   "source": [
    "### 类似问题（16. 最接近的三数之和）"
   ]
  },
  {
   "cell_type": "markdown",
   "id": "37947f47-34c3-4568-9e9c-8602715b40bb",
   "metadata": {},
   "source": [
    "### 思路"
   ]
  },
  {
   "cell_type": "markdown",
   "id": "b339f69b-645e-4054-9c94-7080b1c19df5",
   "metadata": {},
   "source": [
    "本题和上题类似 但核心是通过比较距离target的diff来维护最佳和 然后再通过当前和和目标和的大小来决定移动方位 同时不要忘记在一切之前排序"
   ]
  },
  {
   "cell_type": "markdown",
   "id": "e936e10a-43ae-4e5c-b1bc-46d8aaf12272",
   "metadata": {},
   "source": [
    "### 代码"
   ]
  },
  {
   "cell_type": "code",
   "execution_count": 13,
   "id": "1d3fe385-748a-4863-8d7f-93b0dfb932bb",
   "metadata": {},
   "outputs": [
    {
     "name": "stdin",
     "output_type": "stream",
     "text": [
      " -1, 2, 1, -4\n",
      " 1\n"
     ]
    },
    {
     "name": "stdout",
     "output_type": "stream",
     "text": [
      "2\n"
     ]
    }
   ],
   "source": [
    "class Solution:\n",
    "    def threeSumClosest(self, nums, target):\n",
    "        nums.sort()\n",
    "        best_sum = float('inf')\n",
    "        for i in range(len(nums)):\n",
    "            left = i + 1\n",
    "            right = len(nums) - 1\n",
    "            while left < right:\n",
    "                curr_sum = nums[i] + nums[left] + nums[right]\n",
    "                if abs(curr_sum - target) < abs(best_sum - target):\n",
    "                    best_sum = curr_sum\n",
    "                if curr_sum == target:\n",
    "                    return best_sum\n",
    "                elif curr_sum < target:\n",
    "                    left += 1\n",
    "                else:\n",
    "                    right -= 1\n",
    "        return best_sum\n",
    "nums = input()\n",
    "target = int(input())\n",
    "nums = [int(x.strip()) for x in nums.split(',')]\n",
    "solution = Solution()\n",
    "print(solution.threeSumClosest(nums, target))"
   ]
  }
 ],
 "metadata": {
  "kernelspec": {
   "display_name": "Python [conda env:base] *",
   "language": "python",
   "name": "conda-base-py"
  },
  "language_info": {
   "codemirror_mode": {
    "name": "ipython",
    "version": 3
   },
   "file_extension": ".py",
   "mimetype": "text/x-python",
   "name": "python",
   "nbconvert_exporter": "python",
   "pygments_lexer": "ipython3",
   "version": "3.12.3"
  }
 },
 "nbformat": 4,
 "nbformat_minor": 5
}
