{
 "cells": [
  {
   "cell_type": "markdown",
   "id": "07faf002-c348-4b0b-b565-a0dc5a51b234",
   "metadata": {},
   "source": [
    "# 二叉树的最近公共祖先"
   ]
  },
  {
   "cell_type": "markdown",
   "id": "bee66bee-746d-4b63-973e-ec6a93ca2e45",
   "metadata": {},
   "source": [
    "### 思路"
   ]
  },
  {
   "cell_type": "markdown",
   "id": "74004a21-ce85-4fb1-bf28-15c6086869fe",
   "metadata": {},
   "source": [
    "本题优先使用DFS 递归可以很自然地判断最近公共祖先"
   ]
  },
  {
   "cell_type": "markdown",
   "id": "6ebc3968-6c14-4117-94e9-4ef0014091d9",
   "metadata": {},
   "source": [
    "### 代码"
   ]
  },
  {
   "cell_type": "code",
   "execution_count": 5,
   "id": "a21d2662-2b01-4571-99a8-3bea179d3962",
   "metadata": {},
   "outputs": [
    {
     "name": "stdout",
     "output_type": "stream",
     "text": [
      "DFS版最近公共祖先: 3\n",
      "BFS版最近公共祖先: 3\n"
     ]
    }
   ],
   "source": [
    "from collections import deque\n",
    "\n",
    "class TreeNode:\n",
    "    def __init__(self, val=0, left=None, right=None):\n",
    "        self.val = val\n",
    "        self.left = left\n",
    "        self.right = right\n",
    "\n",
    "class SolutionDFS:\n",
    "    def lowestCommonAncestor(self, root: 'TreeNode', p: 'TreeNode', q: 'TreeNode') -> 'TreeNode':\n",
    "        if not root:\n",
    "            return None\n",
    "        if root == p or root == q:\n",
    "            return root\n",
    "        left = self.lowestCommonAncestor(root.left, p, q)\n",
    "        right = self.lowestCommonAncestor(root.right, p, q)\n",
    "        if left and right:\n",
    "            return root\n",
    "        return left or right\n",
    "\n",
    "class SolutionBFS:\n",
    "    def lowestCommonAncestor(self, root: 'TreeNode', p: 'TreeNode', q: 'TreeNode') -> 'TreeNode':\n",
    "        parent = {root: None}\n",
    "        rq = deque([root])\n",
    "        # 建立父节点表\n",
    "        while rq:\n",
    "            if p in parent and q in parent:\n",
    "                break\n",
    "            node = rq.popleft()\n",
    "            if node.left:\n",
    "                parent[node.left] = node\n",
    "                rq.append(node.left)\n",
    "            if node.right:\n",
    "                parent[node.right] = node\n",
    "                rq.append(node.right)\n",
    "        # 从 p 开始往上爬\n",
    "        ancestors = set()\n",
    "        while p:\n",
    "            ancestors.add(p)\n",
    "            p = parent[p]\n",
    "        # 从 q 开始往上爬，找到第一个公共节点\n",
    "        while q:\n",
    "            if q in ancestors:\n",
    "                return q\n",
    "            q = parent[q]\n",
    "        return None  # 理论上不会到这里\n",
    "\n",
    "# 🔧 构建测试树\n",
    "#       3\n",
    "#     /   \\\n",
    "#    5     1\n",
    "#   / \\   / \\\n",
    "#  6  2  0  8\n",
    "#    / \\\n",
    "#   7  4\n",
    "root = TreeNode(3)\n",
    "root.left = TreeNode(5)\n",
    "root.right = TreeNode(1)\n",
    "root.left.left = TreeNode(6)\n",
    "root.left.right = TreeNode(2)\n",
    "root.right.left = TreeNode(0)\n",
    "root.right.right = TreeNode(8)\n",
    "root.left.right.left = TreeNode(7)\n",
    "root.left.right.right = TreeNode(4)\n",
    "\n",
    "p = root.left        # 节点 5\n",
    "q = root.right       # 节点 1\n",
    "\n",
    "# ✅ 测试 DFS 版本\n",
    "ans1 = SolutionDFS().lowestCommonAncestor(root, p, q)\n",
    "print(\"DFS版最近公共祖先:\", ans1.val)\n",
    "\n",
    "# ✅ 测试 BFS 版本\n",
    "ans2 = SolutionBFS().lowestCommonAncestor(root, p, q)\n",
    "print(\"BFS版最近公共祖先:\", ans2.val)\n"
   ]
  },
  {
   "cell_type": "markdown",
   "id": "1abeaef5-eea4-4ce4-b49f-461f3c5ef55c",
   "metadata": {},
   "source": [
    "### 类似题目（865. 最小子树和所有最深节点）"
   ]
  },
  {
   "cell_type": "markdown",
   "id": "3f73d1f0-0106-45dd-99ef-d8f2217076bc",
   "metadata": {},
   "source": [
    "### 思路"
   ]
  },
  {
   "cell_type": "markdown",
   "id": "3cabfbbe-c579-4d70-9ed2-c5a5c6bf7f84",
   "metadata": {},
   "source": [
    "本题的思路BFS比较好理解 先去找最深节点 然后结合之前的LCA函数求得LCA即可"
   ]
  },
  {
   "cell_type": "markdown",
   "id": "9f86df2b-2456-4e2e-9f34-682f5550b3df",
   "metadata": {},
   "source": [
    "### 代码"
   ]
  },
  {
   "cell_type": "code",
   "execution_count": 11,
   "id": "ac37dce3-2175-42e3-85a9-57fd93f0908c",
   "metadata": {},
   "outputs": [
    {
     "name": "stdout",
     "output_type": "stream",
     "text": [
      "BFS + LCA 版结果: 2\n",
      "DFS 最优版结果: 2\n"
     ]
    }
   ],
   "source": [
    "from collections import deque\n",
    "\n",
    "# 定义二叉树节点类\n",
    "class TreeNode:\n",
    "    def __init__(self, val=0, left=None, right=None):\n",
    "        self.val = val\n",
    "        self.left = left\n",
    "        self.right = right\n",
    "\n",
    "# ✅ 方法1：BFS + LCA\n",
    "class SolutionBFS:\n",
    "    def subtreeWithAllDeepest(self, root: TreeNode) -> TreeNode:\n",
    "        if not root:\n",
    "            return None\n",
    "        \n",
    "        # BFS 找到最深层节点\n",
    "        parent = {root: None}\n",
    "        q = deque([root])\n",
    "        while q:\n",
    "            level = []\n",
    "            for _ in range(len(q)):\n",
    "                node = q.popleft()\n",
    "                level.append(node)\n",
    "                if node.left:\n",
    "                    parent[node.left] = node\n",
    "                    q.append(node.left)\n",
    "                if node.right:\n",
    "                    parent[node.right] = node\n",
    "                    q.append(node.right)\n",
    "            last_level = level  # 最后一层就是最深层\n",
    "        \n",
    "        # 定义LCA函数（236题思路）\n",
    "        def LCA(root, p, q):\n",
    "            if not root:\n",
    "                return None\n",
    "            if root == p or root == q:\n",
    "                return root\n",
    "            left = LCA(root.left, p, q)\n",
    "            right = LCA(root.right, p, q)\n",
    "            if left and right:\n",
    "                return root\n",
    "            return left or right\n",
    "        \n",
    "        # 只有一个最深节点\n",
    "        if len(last_level) == 1:\n",
    "            return last_level[0]\n",
    "        \n",
    "        # 多个最深节点，逐步求LCA\n",
    "        lca_node = last_level[0]\n",
    "        for node in last_level[1:]:\n",
    "            lca_node = LCA(root, lca_node, node)\n",
    "        return lca_node\n",
    "\n",
    "# ✅ 方法2：DFS（最优解）\n",
    "class SolutionDFS:\n",
    "    def subtreeWithAllDeepest(self, root: TreeNode) -> TreeNode:\n",
    "        def dfs(node):\n",
    "            if not node:\n",
    "                return (0, None)\n",
    "            left_depth, left_node = dfs(node.left)\n",
    "            right_depth, right_node = dfs(node.right)\n",
    "            if left_depth > right_depth:\n",
    "                return (left_depth + 1, left_node)\n",
    "            if right_depth > left_depth:\n",
    "                return (right_depth + 1, right_node)\n",
    "            return (left_depth + 1, node)\n",
    "        return dfs(root)[1]\n",
    "\n",
    "# ---------- 测试 ----------\n",
    "# 构建测试树：\n",
    "#       3\n",
    "#     /   \\\n",
    "#    5     1\n",
    "#   / \\   / \\\n",
    "#  6  2  0  8\n",
    "#    / \\\n",
    "#   7  4\n",
    "root = TreeNode(3)\n",
    "root.left = TreeNode(5)\n",
    "root.right = TreeNode(1)\n",
    "root.left.left = TreeNode(6)\n",
    "root.left.right = TreeNode(2)\n",
    "root.right.left = TreeNode(0)\n",
    "root.right.right = TreeNode(8)\n",
    "root.left.right.left = TreeNode(7)\n",
    "root.left.right.right = TreeNode(4)\n",
    "\n",
    "# 测试 BFS + LCA 解法\n",
    "ans1 = SolutionBFS().subtreeWithAllDeepest(root)\n",
    "print(\"BFS + LCA 版结果:\", ans1.val)\n",
    "\n",
    "# 测试 DFS 最优解\n",
    "ans2 = SolutionDFS().subtreeWithAllDeepest(root)\n",
    "print(\"DFS 最优版结果:\", ans2.val)\n"
   ]
  }
 ],
 "metadata": {
  "kernelspec": {
   "display_name": "Python [conda env:base] *",
   "language": "python",
   "name": "conda-base-py"
  },
  "language_info": {
   "codemirror_mode": {
    "name": "ipython",
    "version": 3
   },
   "file_extension": ".py",
   "mimetype": "text/x-python",
   "name": "python",
   "nbconvert_exporter": "python",
   "pygments_lexer": "ipython3",
   "version": "3.12.3"
  }
 },
 "nbformat": 4,
 "nbformat_minor": 5
}
