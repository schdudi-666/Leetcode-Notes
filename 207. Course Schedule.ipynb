{
 "cells": [
  {
   "cell_type": "markdown",
   "id": "96f6583c-4080-467d-8170-150f3d0b4c2a",
   "metadata": {},
   "source": [
    "# 课程表"
   ]
  },
  {
   "cell_type": "markdown",
   "id": "fbe9a8dd-6459-46a5-8ad8-3ac385145c4c",
   "metadata": {},
   "source": [
    "### 思路"
   ]
  },
  {
   "cell_type": "markdown",
   "id": "a3498e4f-3183-45a2-9ee7-c16be0bb4ad1",
   "metadata": {},
   "source": [
    "本体的核心思路是BFS的拓扑排序 BFS是通过入度和邻接表来模拟一个上课的过程 而DFS则是通过递归 如果在先修课的递归里发现自己了 就返回False"
   ]
  },
  {
   "cell_type": "markdown",
   "id": "6da608d4-9fcc-4d2b-a80e-b983a4f16c02",
   "metadata": {},
   "source": [
    "### 代码"
   ]
  },
  {
   "cell_type": "code",
   "execution_count": 6,
   "id": "4877d1b1-0727-4371-b173-e6a96632915a",
   "metadata": {},
   "outputs": [
    {
     "name": "stdout",
     "output_type": "stream",
     "text": [
      "✅ 无环情况（能修完）:\n",
      "BFS: True\n",
      "DFS: True\n",
      "\n",
      "❌ 有环情况（修不完）:\n",
      "BFS: False\n",
      "DFS: False\n"
     ]
    }
   ],
   "source": [
    "from collections import deque\n",
    "from typing import List\n",
    "\n",
    "# -------------------- BFS 拓扑排序版本 --------------------\n",
    "class SolutionBFS:\n",
    "    def canFinish(self, numCourses: int, prerequisites: List[List[int]]) -> bool:\n",
    "        # 构建邻接表和入度表\n",
    "        graph = {i: [] for i in range(numCourses)}\n",
    "        indegree = [0] * numCourses\n",
    "        for a, b in prerequisites:\n",
    "            graph[b].append(a)\n",
    "            indegree[a] += 1\n",
    "\n",
    "        # 队列：存储当前可以学习的课程（入度为0）\n",
    "        q = deque([i for i in range(numCourses) if indegree[i] == 0])\n",
    "        finished = 0\n",
    "\n",
    "        # 拓扑排序过程\n",
    "        while q:\n",
    "            course = q.popleft()\n",
    "            finished += 1\n",
    "            for next_course in graph[course]:\n",
    "                indegree[next_course] -= 1\n",
    "                if indegree[next_course] == 0:\n",
    "                    q.append(next_course)\n",
    "\n",
    "        # 如果所有课程都能修完，则返回 True\n",
    "        return finished == numCourses\n",
    "\n",
    "\n",
    "# -------------------- DFS 检测环版本 --------------------\n",
    "class SolutionDFS:\n",
    "    def canFinish(self, numCourses: int, prerequisites: List[List[int]]) -> bool:\n",
    "        # 构建邻接表\n",
    "        graph = {i: [] for i in range(numCourses)}\n",
    "        for a, b in prerequisites:\n",
    "            graph[b].append(a)\n",
    "\n",
    "        visited = [0] * numCourses  # 0=未访问, 1=访问中, 2=已完成\n",
    "\n",
    "        def dfs(course):\n",
    "            if visited[course] == 1:  # 当前递归栈中重复出现\n",
    "                return False\n",
    "            if visited[course] == 2:  # 已确定安全\n",
    "                return True\n",
    "            visited[course] = 1\n",
    "            for next_course in graph[course]:\n",
    "                if not dfs(next_course):\n",
    "                    return False\n",
    "            visited[course] = 2\n",
    "            return True\n",
    "\n",
    "        for c in range(numCourses):\n",
    "            if not dfs(c):\n",
    "                return False\n",
    "        return True\n",
    "\n",
    "\n",
    "# -------------------- 测试样例 --------------------\n",
    "numCourses = 4\n",
    "prerequisites = [[1,0],[2,0],[3,1],[3,2]]  # 无环 ✅\n",
    "\n",
    "numCourses2 = 2\n",
    "prerequisites2 = [[1,0],[0,1]]  # 有环 ❌\n",
    "\n",
    "sol_bfs = SolutionBFS()\n",
    "sol_dfs = SolutionDFS()\n",
    "\n",
    "print(\"✅ 无环情况（能修完）:\")\n",
    "print(\"BFS:\", sol_bfs.canFinish(numCourses, prerequisites))\n",
    "print(\"DFS:\", sol_dfs.canFinish(numCourses, prerequisites))\n",
    "\n",
    "print(\"\\n❌ 有环情况（修不完）:\")\n",
    "print(\"BFS:\", sol_bfs.canFinish(numCourses2, prerequisites2))\n",
    "print(\"DFS:\", sol_dfs.canFinish(numCourses2, prerequisites2))\n"
   ]
  },
  {
   "cell_type": "markdown",
   "id": "b024e5d5-d20f-4012-a670-6e25e088ae09",
   "metadata": {},
   "source": [
    "### 类似题目（210. 课程表2）"
   ]
  },
  {
   "cell_type": "markdown",
   "id": "33b96bd6-7ab5-485a-b110-e0268332d382",
   "metadata": {},
   "source": [
    "### 思路"
   ]
  },
  {
   "cell_type": "markdown",
   "id": "ecdc3d44-e288-4250-8de8-bf053e5f41a4",
   "metadata": {},
   "source": [
    "本题的思路与上题类似 只需要加一个res数组 每次添加上的课进去就可以 最后返回时判断能不能修完"
   ]
  },
  {
   "cell_type": "markdown",
   "id": "1bb28f63-642e-4542-abb2-1cce8f0715e9",
   "metadata": {},
   "source": [
    "### 代码"
   ]
  },
  {
   "cell_type": "code",
   "execution_count": 10,
   "id": "3d5a1631-a848-44e8-8498-d54f49265825",
   "metadata": {},
   "outputs": [
    {
     "name": "stdout",
     "output_type": "stream",
     "text": [
      "[0, 1, 2, 3]\n"
     ]
    }
   ],
   "source": [
    "from collections import deque\n",
    "from typing import List\n",
    "\n",
    "class Solution:\n",
    "    def findOrder(self, numCourses: int, prerequisites: List[List[int]]) -> List[int]:\n",
    "        graph = {i: [] for i in range(numCourses)}\n",
    "        indegree = [0] * numCourses\n",
    "        for a, b in prerequisites:\n",
    "            graph[b].append(a)\n",
    "            indegree[a] += 1\n",
    "\n",
    "        q = deque([i for i in range(numCourses) if indegree[i] == 0])\n",
    "        res = []\n",
    "\n",
    "        while q:\n",
    "            course = q.popleft()\n",
    "            res.append(course)\n",
    "            for next_course in graph[course]:\n",
    "                indegree[next_course] -= 1\n",
    "                if indegree[next_course] == 0:\n",
    "                    q.append(next_course)\n",
    "\n",
    "        return res if len(res) == numCourses else []\n",
    "\n",
    "numCourses = 4\n",
    "prerequisites = [[1,0],[2,0],[3,1],[3,2]]\n",
    "print(Solution().findOrder(numCourses, prerequisites))"
   ]
  }
 ],
 "metadata": {
  "kernelspec": {
   "display_name": "Python [conda env:base] *",
   "language": "python",
   "name": "conda-base-py"
  },
  "language_info": {
   "codemirror_mode": {
    "name": "ipython",
    "version": 3
   },
   "file_extension": ".py",
   "mimetype": "text/x-python",
   "name": "python",
   "nbconvert_exporter": "python",
   "pygments_lexer": "ipython3",
   "version": "3.12.3"
  }
 },
 "nbformat": 4,
 "nbformat_minor": 5
}
