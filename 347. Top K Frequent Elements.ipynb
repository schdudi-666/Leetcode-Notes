{
 "cells": [
  {
   "cell_type": "markdown",
   "id": "09d4ea87-5178-4d8a-bde3-f7aa99eb41de",
   "metadata": {},
   "source": [
    "# 前K个高频元素"
   ]
  },
  {
   "cell_type": "markdown",
   "id": "644e6cd2-95d6-4905-bdba-8ee825aeb4b3",
   "metadata": {},
   "source": [
    "### 思路"
   ]
  },
  {
   "cell_type": "markdown",
   "id": "8461b0a5-3e3b-4b61-a2df-57b62f285101",
   "metadata": {},
   "source": [
    "使用桶排序的思路 先建立一个字典 遍历数组记录每个数字出现的频率 然后再遍历字典把桶弄好 最后从桶里从后往前拿数据"
   ]
  },
  {
   "cell_type": "markdown",
   "id": "771f2e7e-c554-4f47-8f41-8d82117f58e2",
   "metadata": {},
   "source": [
    "### 代码"
   ]
  },
  {
   "cell_type": "code",
   "execution_count": 7,
   "id": "a993aafb-b6cf-4557-9468-7ed1456cda1e",
   "metadata": {},
   "outputs": [
    {
     "name": "stdin",
     "output_type": "stream",
     "text": [
      "input an array 1, 1, 1, 8, 7, 7\n",
      "how many? 2\n"
     ]
    },
    {
     "name": "stdout",
     "output_type": "stream",
     "text": [
      "[1, 7]\n"
     ]
    }
   ],
   "source": [
    "class Solution:\n",
    "    def topKFrequent(self, nums, k):\n",
    "        hashmap = {}\n",
    "        for num in nums:\n",
    "            if num in hashmap:\n",
    "                hashmap[num] += 1\n",
    "            else:\n",
    "                hashmap[num] = 1\n",
    "        bucket = [[] for _ in range(len(nums) + 1)]\n",
    "        for num, freq in hashmap.items():\n",
    "            bucket[freq].append(num)\n",
    "        result = []\n",
    "        for freq in range(len(bucket) -1, 0, -1):\n",
    "            for num in bucket[freq]:\n",
    "                result.append(num)\n",
    "                if len(result) == k:\n",
    "                    return result\n",
    "# input\n",
    "nums = input(\"input an array\")\n",
    "k = int(input(\"how many?\"))\n",
    "\n",
    "nums = [int(x.strip())for x in nums.split(',')]\n",
    "solution = Solution()\n",
    "print(solution.topKFrequent(nums, k))"
   ]
  },
  {
   "cell_type": "markdown",
   "id": "db7804be-1e6c-4e92-a0cc-c2c49dc00b95",
   "metadata": {},
   "source": [
    "### 类似题目（451. 按字符串频率排序）"
   ]
  },
  {
   "cell_type": "markdown",
   "id": "643d05e3-2f04-4960-a538-91aab41781e7",
   "metadata": {},
   "source": [
    "### 思路"
   ]
  },
  {
   "cell_type": "markdown",
   "id": "3e165704-0591-49eb-9e58-3f5179efa57c",
   "metadata": {},
   "source": [
    "同上题，哈希表，建桶，然后按反方向顺序按频率加字符"
   ]
  },
  {
   "cell_type": "markdown",
   "id": "7a2775f4-c86a-4d14-814b-33fa2e5a10a3",
   "metadata": {},
   "source": [
    "### 代码"
   ]
  },
  {
   "cell_type": "code",
   "execution_count": 21,
   "id": "92f53661-61da-4bf6-b66e-294c32fd85aa",
   "metadata": {},
   "outputs": [
    {
     "name": "stdin",
     "output_type": "stream",
     "text": [
      " MaTouYouDa\n"
     ]
    },
    {
     "name": "stdout",
     "output_type": "stream",
     "text": [
      "aaoouuMTYD\n"
     ]
    }
   ],
   "source": [
    "class Solution:\n",
    "    def frequencySort(self, s):\n",
    "        hashmap = {}\n",
    "        for char in s:\n",
    "            hashmap[char] = hashmap.get(char, 0) + 1\n",
    "        bucket = [[] for _ in range(len(s)+1)]\n",
    "        for char, freq in hashmap.items():\n",
    "            bucket[freq].append(char)\n",
    "        result = ''\n",
    "        for freq in range(len(bucket)-1, 0, -1):\n",
    "            for char in bucket[freq]:\n",
    "                result += char * freq\n",
    "        return result\n",
    "\n",
    "s = input()\n",
    "\n",
    "solution = Solution()\n",
    "print(solution.frequencySort(s))"
   ]
  }
 ],
 "metadata": {
  "kernelspec": {
   "display_name": "Python [conda env:base] *",
   "language": "python",
   "name": "conda-base-py"
  },
  "language_info": {
   "codemirror_mode": {
    "name": "ipython",
    "version": 3
   },
   "file_extension": ".py",
   "mimetype": "text/x-python",
   "name": "python",
   "nbconvert_exporter": "python",
   "pygments_lexer": "ipython3",
   "version": "3.12.3"
  }
 },
 "nbformat": 4,
 "nbformat_minor": 5
}
