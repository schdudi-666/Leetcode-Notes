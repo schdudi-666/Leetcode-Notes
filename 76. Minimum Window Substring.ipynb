{
 "cells": [
  {
   "cell_type": "markdown",
   "id": "94363d62-379f-4592-8795-f63debdd12ce",
   "metadata": {},
   "source": [
    "# 最小窗口子字符串"
   ]
  },
  {
   "cell_type": "markdown",
   "id": "02f6d999-5b7f-4a4c-af1b-463a691ba7c1",
   "metadata": {},
   "source": [
    "### 思路"
   ]
  },
  {
   "cell_type": "markdown",
   "id": "aede9c96-e8bc-4eab-b3e7-f02ac17aa8cd",
   "metadata": {},
   "source": [
    "本题为滑动窗口系列难度较高的题目 我们需要维护两个字典：当前窗口字符数量window和目标字符数量need 一个用于判断当前窗口内单个字符数量是否满足目标对应字符数量的valid 一个用于维护起点的start 最小窗口判断的min_len 以及一个指针left 在循环中我们首先要判断字符是否是need需要的字符 如果是则把该字符的数量更新到window中 如果此时window中该字符的数量满足了need 就更新valid 然后我们要判断valid是否满足len(need) 也就是当前window里是否凑齐了我们要的字符 然后就先更新start和min_len 之后缩动窗口 并判断是否缩后还满足条件"
   ]
  },
  {
   "cell_type": "markdown",
   "id": "3081ca15-76e0-40ba-8c72-25d5b60ff307",
   "metadata": {},
   "source": [
    "### 代码"
   ]
  },
  {
   "cell_type": "code",
   "execution_count": 7,
   "id": "a5dc7ae3-0303-4b6c-bf00-570408e418ea",
   "metadata": {},
   "outputs": [
    {
     "name": "stdin",
     "output_type": "stream",
     "text": [
      " ADOBECODEBANC\n",
      "target string ABC\n"
     ]
    },
    {
     "name": "stdout",
     "output_type": "stream",
     "text": [
      "BANC\n"
     ]
    }
   ],
   "source": [
    "from collections import Counter\n",
    "class Solution:\n",
    "    def minWindow(self, s: str, t: str) -> str:\n",
    "        need = Counter(t)\n",
    "        window = {}\n",
    "        valid = 0\n",
    "        left = 0\n",
    "        start = 0\n",
    "        min_len = float('inf')\n",
    "        for right, char in enumerate(s):\n",
    "            if char in need:\n",
    "                window[char] = window.get(char,0) + 1\n",
    "                if window[char] == need[char]:\n",
    "                    valid += 1\n",
    "            while valid == len(need):\n",
    "                if right - left + 1 < min_len:\n",
    "                    min_len = right - left + 1\n",
    "                    start = left\n",
    "                d = s[left]\n",
    "                if d in need:\n",
    "                    if window[d] == need[d]:\n",
    "                        valid -= 1\n",
    "                    window[d] -= 1\n",
    "                left += 1\n",
    "        return '' if min_len == float('inf') else s[start:start+min_len]\n",
    "\n",
    "s = input()\n",
    "t = input('target string')\n",
    "\n",
    "solution = Solution()\n",
    "print(solution.minWindow(s, t))"
   ]
  },
  {
   "cell_type": "markdown",
   "id": "749958f2-850e-4030-8624-08374725bc63",
   "metadata": {},
   "source": [
    "### 类似题目（567. 字符串的排列）"
   ]
  },
  {
   "cell_type": "markdown",
   "id": "c2bf6959-2b3a-4c02-915a-97bae4507516",
   "metadata": {},
   "source": [
    "### 思路"
   ]
  },
  {
   "cell_type": "markdown",
   "id": "1398cc81-b6a9-4976-9eb1-2851b105160a",
   "metadata": {},
   "source": [
    "本题与上题相似 只不过不需要维护最小窗口和起点 只需要在每次更新window和valid后缩进窗口 然后两个条件判断是否True：窗口大小严格等于目标字符串长度 且valid（合格字符串数量）严格等于len(need)（目标字符数量字典的独特字符数量）就返回True"
   ]
  },
  {
   "cell_type": "markdown",
   "id": "689d779b-7dfb-4841-aa73-90a59934dcdf",
   "metadata": {},
   "source": [
    "### 代码"
   ]
  },
  {
   "cell_type": "code",
   "execution_count": 13,
   "id": "4eb3219d-aed2-4534-a69d-168027d1b91b",
   "metadata": {},
   "outputs": [
    {
     "name": "stdin",
     "output_type": "stream",
     "text": [
      " eidbaooo\n",
      "target string ab\n"
     ]
    },
    {
     "name": "stdout",
     "output_type": "stream",
     "text": [
      "True\n"
     ]
    }
   ],
   "source": [
    "from collections import Counter\n",
    "class Solution:\n",
    "    def checkInclusion(self, s1: str, s2: str) -> bool:\n",
    "        need = Counter(s1)\n",
    "        window = {}\n",
    "        valid = 0\n",
    "        left = 0\n",
    "        for right, c in enumerate(s2):\n",
    "            if c in need:\n",
    "                window[c] = window.get(c,0) + 1\n",
    "                if window[c] == need[c]:\n",
    "                    valid += 1\n",
    "            while right - left + 1 > len(s1):\n",
    "                d = s2[left]\n",
    "                if d in need:\n",
    "                    if window[d] == need[d]:\n",
    "                        valid -= 1\n",
    "                    window[d] -= 1\n",
    "                left += 1\n",
    "            if valid == len(need) and right - left + 1 == len(s1):\n",
    "                return True\n",
    "        return False\n",
    "\n",
    "s2 = input()\n",
    "s1 = input('target string')\n",
    "\n",
    "solution = Solution()\n",
    "print(solution.checkInclusion(s1, s2))"
   ]
  }
 ],
 "metadata": {
  "kernelspec": {
   "display_name": "Python [conda env:base] *",
   "language": "python",
   "name": "conda-base-py"
  },
  "language_info": {
   "codemirror_mode": {
    "name": "ipython",
    "version": 3
   },
   "file_extension": ".py",
   "mimetype": "text/x-python",
   "name": "python",
   "nbconvert_exporter": "python",
   "pygments_lexer": "ipython3",
   "version": "3.12.3"
  }
 },
 "nbformat": 4,
 "nbformat_minor": 5
}
