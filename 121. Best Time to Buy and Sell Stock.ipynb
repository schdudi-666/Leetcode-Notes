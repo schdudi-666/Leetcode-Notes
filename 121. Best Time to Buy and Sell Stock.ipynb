{
 "cells": [
  {
   "cell_type": "markdown",
   "id": "852bde06-28ba-4212-9021-093507594354",
   "metadata": {},
   "source": [
    "# 最佳购买股票时机"
   ]
  },
  {
   "cell_type": "markdown",
   "id": "bf78e46c-9140-41fa-ad05-dfabc6eaca12",
   "metadata": {},
   "source": [
    "### 思路"
   ]
  },
  {
   "cell_type": "markdown",
   "id": "31239ef1-e413-4c85-9563-dd5b70290f1a",
   "metadata": {},
   "source": [
    "本题给定一个数组 要求返回利润最大值 因此可以使用贪心算法的概念 维护一个当前profit和一个历史最低价格 每天先更新价格最低变量 然后检查当前能得到的最大利润 "
   ]
  },
  {
   "cell_type": "markdown",
   "id": "76563bdb-d7b2-49a4-805d-6ef6302d3e64",
   "metadata": {},
   "source": [
    "### 代码"
   ]
  },
  {
   "cell_type": "code",
   "execution_count": 9,
   "id": "b6ee2347-63b8-49f1-8177-b8b8315d4382",
   "metadata": {},
   "outputs": [
    {
     "name": "stdin",
     "output_type": "stream",
     "text": [
      "Give me some prices 9, 9, 9, 10, 5, 1\n"
     ]
    },
    {
     "name": "stdout",
     "output_type": "stream",
     "text": [
      "1\n"
     ]
    }
   ],
   "source": [
    "class Solution:\n",
    "    def maxProfit(self, prices):\n",
    "        min_price = 1000000\n",
    "        max_profit = 0\n",
    "        for price in prices:\n",
    "            min_price = min(min_price, price)\n",
    "            curr_profit = price - min_price\n",
    "            max_profit = max(max_profit, curr_profit)\n",
    "        return max_profit\n",
    "# input\n",
    "prices = input(\"Give me some prices\")\n",
    "\n",
    "prices = [int(x.strip()) for x in prices.split(',')]\n",
    "solution = Solution()\n",
    "print(solution.maxProfit(prices))"
   ]
  },
  {
   "cell_type": "markdown",
   "id": "47be72c1-fa66-417a-9b94-bcfe6c828c05",
   "metadata": {},
   "source": [
    "### 类似题目（53. 最大子数组和）"
   ]
  },
  {
   "cell_type": "markdown",
   "id": "1aa46ca8-2393-4c9e-86d4-cbee7701dc66",
   "metadata": {},
   "source": [
    "### 思路"
   ]
  },
  {
   "cell_type": "markdown",
   "id": "c7fc0ec3-323c-4e02-a9f5-89d9d1634fb6",
   "metadata": {},
   "source": [
    "这道题要求返回最大的子数组和，因此使用Kadane算法的概念，维护一个当前起点，一个最大和，每次遍历一个数值的时候，先比较出好的起点（当前数好 还是当前数加之前数好？），然后比较最大值。"
   ]
  },
  {
   "cell_type": "markdown",
   "id": "05ac0090-25a6-40b5-8b2c-9ec3ec06ae3a",
   "metadata": {},
   "source": [
    "### 代码"
   ]
  },
  {
   "cell_type": "code",
   "execution_count": 15,
   "id": "b39fc104-db47-4c0c-8f97-78eba1e4e254",
   "metadata": {},
   "outputs": [
    {
     "name": "stdin",
     "output_type": "stream",
     "text": [
      "input an array 1, 2, -20, 3, -1\n"
     ]
    },
    {
     "name": "stdout",
     "output_type": "stream",
     "text": [
      "3\n"
     ]
    }
   ],
   "source": [
    "class Solution:\n",
    "    def maxSubArray(self, nums):\n",
    "        current = nums[0]\n",
    "        max_sum = nums[0]\n",
    "        for num in nums[1:]:\n",
    "            current = max(num, current + num)\n",
    "            max_sum = max(current, max_sum)\n",
    "        return max_sum\n",
    "# Input\n",
    "nums = input(\"input an array\")\n",
    "\n",
    "nums = [int(x.strip()) for x in nums.split(',')]\n",
    "solution = Solution()\n",
    "print(solution.maxSubArray(nums))"
   ]
  },
  {
   "cell_type": "code",
   "execution_count": null,
   "id": "2ca4430b-09b0-430d-bbbc-c21179cb0c17",
   "metadata": {},
   "outputs": [],
   "source": []
  }
 ],
 "metadata": {
  "kernelspec": {
   "display_name": "Python [conda env:base] *",
   "language": "python",
   "name": "conda-base-py"
  },
  "language_info": {
   "codemirror_mode": {
    "name": "ipython",
    "version": 3
   },
   "file_extension": ".py",
   "mimetype": "text/x-python",
   "name": "python",
   "nbconvert_exporter": "python",
   "pygments_lexer": "ipython3",
   "version": "3.12.3"
  }
 },
 "nbformat": 4,
 "nbformat_minor": 5
}
