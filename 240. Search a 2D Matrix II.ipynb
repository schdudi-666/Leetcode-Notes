{
 "cells": [
  {
   "cell_type": "markdown",
   "id": "36a51b88-fab8-468f-ba2e-34361dea267b",
   "metadata": {},
   "source": [
    "# 在2D矩阵中搜索2"
   ]
  },
  {
   "cell_type": "markdown",
   "id": "231022cb-9b82-4a71-b066-c52b2b9509bf",
   "metadata": {},
   "source": [
    "### 思路"
   ]
  },
  {
   "cell_type": "markdown",
   "id": "5a699810-070e-4e76-bd59-9e039df6d72d",
   "metadata": {},
   "source": [
    "本题的思路很简单 类似题目先观察从哪里开始可以排除一行或一列 然后设置边界即可"
   ]
  },
  {
   "cell_type": "markdown",
   "id": "6a1ce26d-d768-422a-9a32-fa6403572cef",
   "metadata": {},
   "source": [
    "### 代码"
   ]
  },
  {
   "cell_type": "code",
   "execution_count": 7,
   "id": "8bfb95ac-b962-45b6-b7a3-96ed46311398",
   "metadata": {},
   "outputs": [],
   "source": [
    "class Solution:\n",
    "    def searchMatrix(self, matrix, target):\n",
    "        if not matrix or not matrix[0]:\n",
    "            return False\n",
    "        m = len(matrix)\n",
    "        n = len(matrix[0])\n",
    "        row = 0\n",
    "        col = n - 1\n",
    "        while row < m and col >= 0:\n",
    "            if matrix[row][col] == target:\n",
    "                return True\n",
    "            elif matrix[row][col] > target:\n",
    "                col -= 1\n",
    "            else:\n",
    "                row += 1\n",
    "        return False"
   ]
  },
  {
   "cell_type": "code",
   "execution_count": 11,
   "id": "75e87449-f12c-45a2-a776-786282e65d9a",
   "metadata": {},
   "outputs": [
    {
     "name": "stdout",
     "output_type": "stream",
     "text": [
      "True\n",
      "False\n"
     ]
    }
   ],
   "source": [
    "matrix = [\n",
    "    [1, 4, 7, 11, 15],\n",
    "    [2, 5, 8, 12, 19],\n",
    "    [3, 6, 9, 16, 22],\n",
    "    [10, 13, 14, 17, 24],\n",
    "    [18, 21, 23, 26, 30]\n",
    "]\n",
    "\n",
    "sol = Solution()\n",
    "print(sol.searchMatrix(matrix, 5))   # ✅ True\n",
    "print(sol.searchMatrix(matrix, 20))  # ❌ False"
   ]
  },
  {
   "cell_type": "markdown",
   "id": "58586ed2-4759-4cf3-b92b-07a0915d2e67",
   "metadata": {},
   "source": [
    "### 类似题目（74. 在2D矩阵中搜索）"
   ]
  },
  {
   "cell_type": "markdown",
   "id": "bc12804b-a3ef-4b57-9081-5904a796c42c",
   "metadata": {},
   "source": [
    "### 思路"
   ]
  },
  {
   "cell_type": "markdown",
   "id": "1ae03dfc-e83c-4e63-81cf-89255d46eeeb",
   "metadata": {},
   "source": [
    "本题因为是完全有序矩阵 所以可以使用二分查找的思想 row = mid // n , col = mid % n"
   ]
  },
  {
   "cell_type": "markdown",
   "id": "7b8d4482-6fe1-4dee-b852-c766313a97cf",
   "metadata": {},
   "source": [
    "### 代码"
   ]
  },
  {
   "cell_type": "code",
   "execution_count": 17,
   "id": "c0fe2c8c-0e7f-404d-8803-03e20f901ce3",
   "metadata": {},
   "outputs": [],
   "source": [
    "class Solution:\n",
    "    def searchMatrix(self, matrix, target):\n",
    "        m = len(matrix)\n",
    "        n = len(matrix[0])\n",
    "        left = 0\n",
    "        right = m * n - 1\n",
    "        while left <= right:\n",
    "            mid = (left + right) // 2\n",
    "            row = mid // n\n",
    "            col = mid % n\n",
    "            if matrix[row][col] == target:\n",
    "                return True\n",
    "            elif matrix[row][col] > target:\n",
    "                right = mid - 1\n",
    "            else:\n",
    "                left = mid + 1\n",
    "        return False"
   ]
  },
  {
   "cell_type": "code",
   "execution_count": 19,
   "id": "c19759b1-e5ac-4a88-a399-b52350d4cb7c",
   "metadata": {},
   "outputs": [
    {
     "name": "stdout",
     "output_type": "stream",
     "text": [
      "True\n",
      "False\n",
      "True\n"
     ]
    }
   ],
   "source": [
    "matrix = [\n",
    "    [1, 3, 5, 7],\n",
    "    [10, 11, 16, 20],\n",
    "    [23, 30, 34, 60]\n",
    "]\n",
    "\n",
    "sol = Solution()\n",
    "print(sol.searchMatrix(matrix, 3))   # ✅ True\n",
    "print(sol.searchMatrix(matrix, 13))  # ❌ False\n",
    "print(sol.searchMatrix(matrix, 60))  # ✅ True"
   ]
  }
 ],
 "metadata": {
  "kernelspec": {
   "display_name": "Python [conda env:base] *",
   "language": "python",
   "name": "conda-base-py"
  },
  "language_info": {
   "codemirror_mode": {
    "name": "ipython",
    "version": 3
   },
   "file_extension": ".py",
   "mimetype": "text/x-python",
   "name": "python",
   "nbconvert_exporter": "python",
   "pygments_lexer": "ipython3",
   "version": "3.12.3"
  }
 },
 "nbformat": 4,
 "nbformat_minor": 5
}
