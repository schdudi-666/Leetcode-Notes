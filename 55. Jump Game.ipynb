{
 "cells": [
  {
   "cell_type": "markdown",
   "id": "5804cbc3-f1a7-4fc7-bf66-243b143d9009",
   "metadata": {},
   "source": [
    "# 跳跃游戏"
   ]
  },
  {
   "cell_type": "markdown",
   "id": "5e7dc691-8be7-4239-b191-b67b46392ee8",
   "metadata": {},
   "source": [
    "### 思路"
   ]
  },
  {
   "cell_type": "markdown",
   "id": "de15984e-1aaa-48ab-813c-fc002f24e77e",
   "metadata": {},
   "source": [
    "本题的思路是维护一个最远距离 当前的最远距离应当是之前最远距离和现在这步的index+数值本身的最大值 每次循环先判断是否无法到达这个位置 如果能到达则更新最远距离 最后再判断能否提前结束"
   ]
  },
  {
   "cell_type": "markdown",
   "id": "16b9292f-88ae-4b5a-8132-0c843a976c6b",
   "metadata": {},
   "source": [
    "### 代码"
   ]
  },
  {
   "cell_type": "code",
   "execution_count": 5,
   "id": "f419db5b-e7a3-4b0d-abd2-6e913efc7528",
   "metadata": {},
   "outputs": [
    {
     "name": "stdin",
     "output_type": "stream",
     "text": [
      " 2, 3, 1, 1, 4\n"
     ]
    },
    {
     "name": "stdout",
     "output_type": "stream",
     "text": [
      "True\n"
     ]
    }
   ],
   "source": [
    "class Solution:\n",
    "    def canJump(self, nums):\n",
    "        farthest = 0\n",
    "        for i in range(len(nums)):\n",
    "            if i > farthest:\n",
    "                return False\n",
    "            farthest = max(nums[i] + i, farthest)\n",
    "            if farthest >= len(nums) - 1:\n",
    "                return True\n",
    "        return True\n",
    "\n",
    "nums = input()\n",
    "\n",
    "nums = [int(x.strip()) for x in nums.split(',')]\n",
    "solution = Solution()\n",
    "print(solution.canJump(nums))"
   ]
  },
  {
   "cell_type": "markdown",
   "id": "860b892e-f83e-47cd-8c41-3f5104c4b824",
   "metadata": {},
   "source": [
    "### 类似题目（45. 跳跃游戏2）"
   ]
  },
  {
   "cell_type": "markdown",
   "id": "758dd7a7-fe64-4fe0-b882-f47f600ac43d",
   "metadata": {},
   "source": [
    "### 思路"
   ]
  },
  {
   "cell_type": "markdown",
   "id": "a8e4009e-21a4-4f5a-994b-7fc52868241f",
   "metadata": {},
   "source": [
    "本题和上题类似 但是要决定跳的步数 记住正常走不算步数 只有走到边界后的走 或者跳一下才算走"
   ]
  },
  {
   "cell_type": "markdown",
   "id": "42ad3d34-492b-4fb7-80f1-b3318245b077",
   "metadata": {},
   "source": [
    "### 代码"
   ]
  },
  {
   "cell_type": "code",
   "execution_count": 14,
   "id": "a9196a4e-5049-4cc5-99d9-600016517d51",
   "metadata": {},
   "outputs": [
    {
     "name": "stdin",
     "output_type": "stream",
     "text": [
      " 2, 3, 1, 1, 4\n"
     ]
    },
    {
     "name": "stdout",
     "output_type": "stream",
     "text": [
      "2\n"
     ]
    }
   ],
   "source": [
    "class Solution:\n",
    "    def jump(self, nums):\n",
    "        farthest = 0\n",
    "        curr_step = 0\n",
    "        curr_end = 0\n",
    "        for i in range(len(nums) - 1):\n",
    "            if i > farthest:\n",
    "                return False\n",
    "            farthest = max(i + nums[i], farthest)\n",
    "            if i == curr_end:\n",
    "                curr_step += 1\n",
    "                curr_end = farthest\n",
    "        return curr_step\n",
    "\n",
    "nums = input()\n",
    "\n",
    "nums = [int(x.strip()) for x in nums.split(',')]\n",
    "solution = Solution()\n",
    "print(solution.jump(nums))"
   ]
  }
 ],
 "metadata": {
  "kernelspec": {
   "display_name": "Python [conda env:base] *",
   "language": "python",
   "name": "conda-base-py"
  },
  "language_info": {
   "codemirror_mode": {
    "name": "ipython",
    "version": 3
   },
   "file_extension": ".py",
   "mimetype": "text/x-python",
   "name": "python",
   "nbconvert_exporter": "python",
   "pygments_lexer": "ipython3",
   "version": "3.12.3"
  }
 },
 "nbformat": 4,
 "nbformat_minor": 5
}
