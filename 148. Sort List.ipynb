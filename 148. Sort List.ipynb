{
 "cells": [
  {
   "cell_type": "markdown",
   "id": "b18d0c3a-d556-45fc-8386-9559c9bd8665",
   "metadata": {},
   "source": [
    "# 排序链表"
   ]
  },
  {
   "cell_type": "markdown",
   "id": "c0e20b43-d6ee-4482-9aa1-8c5c6dfc6cf7",
   "metadata": {},
   "source": [
    "### 思路"
   ]
  },
  {
   "cell_type": "markdown",
   "id": "00a17a6a-fd2a-45b2-9a03-d43bb60cf00e",
   "metadata": {},
   "source": [
    "本题引入了迭代的思想 核心是先分解左右链表 用中点的思想 然后再对左右的链表进行迭代 最后返回组合两个链表的函数结果即可"
   ]
  },
  {
   "cell_type": "markdown",
   "id": "544d0412-71bd-4f44-83a7-f9f91327b00a",
   "metadata": {},
   "source": [
    "### 代码"
   ]
  },
  {
   "cell_type": "code",
   "execution_count": 5,
   "id": "768ef9a4-81d9-4c79-9bd0-00df1b7761a8",
   "metadata": {},
   "outputs": [
    {
     "name": "stdin",
     "output_type": "stream",
     "text": [
      " 0, 3, 8, 7, 6\n"
     ]
    },
    {
     "name": "stdout",
     "output_type": "stream",
     "text": [
      "[0, 3, 6, 7, 8]\n"
     ]
    }
   ],
   "source": [
    "from typing import Optional\n",
    "\n",
    "class ListNode:\n",
    "     def __init__(self, val=0, next=None):\n",
    "         self.val = val\n",
    "         self.next = next\n",
    "\n",
    "def build_linked_list(nums):\n",
    "    if not nums: \n",
    "        return None\n",
    "    head = ListNode(nums[0])\n",
    "    cur = head\n",
    "    for x in nums[1:]:\n",
    "        cur.next = ListNode(x)\n",
    "        cur = cur.next\n",
    "    return head\n",
    "\n",
    "def to_list(head):\n",
    "    out = []\n",
    "    while head:\n",
    "        out.append(head.val)\n",
    "        head = head.next\n",
    "    return out\n",
    "\n",
    "def mergeSort(list1, list2):\n",
    "    dummy = ListNode(0)\n",
    "    curr = dummy\n",
    "    while list1 and list2:\n",
    "        if list1.val < list2.val:\n",
    "            curr.next = list1\n",
    "            list1 = list1.next\n",
    "        else:\n",
    "            curr.next = list2\n",
    "            list2 = list2.next\n",
    "        curr = curr.next\n",
    "    curr.next = list1 if list1 else list2\n",
    "    return dummy.next\n",
    "\n",
    "class Solution:\n",
    "    def sortList(self, head: Optional[ListNode]) -> Optional[ListNode]:\n",
    "        if not head or not head.next:\n",
    "            return head\n",
    "        slow, fast = head, head.next\n",
    "        while fast and fast.next:  \n",
    "            fast = fast.next.next\n",
    "            slow = slow.next\n",
    "        mid = slow.next\n",
    "        slow.next = None\n",
    "        left = self.sortList(head)\n",
    "        right = self.sortList(mid)\n",
    "\n",
    "        return mergeSort(left, right)\n",
    "\n",
    "head = input()\n",
    "head = [int(x.strip()) for x in head.split(',')]\n",
    "head = build_linked_list(head)\n",
    "res = Solution().sortList(head)\n",
    "print(to_list(res))"
   ]
  },
  {
   "cell_type": "markdown",
   "id": "470ca79d-dc57-460c-9681-e0efadd92801",
   "metadata": {},
   "source": [
    "### 类似题目（23. 组合多个排序后的链表）"
   ]
  },
  {
   "cell_type": "markdown",
   "id": "f7499cd2-d598-4e53-b4fb-d04eddfb85a4",
   "metadata": {},
   "source": [
    "### 思路"
   ]
  },
  {
   "cell_type": "markdown",
   "id": "ca3b30b8-155f-4e64-af08-7a2ea710c671",
   "metadata": {},
   "source": [
    "本题的思路大概有两种 一种是堆排序法 但是在本题中思路过于复杂 因此我们使用分治法 轮流排序"
   ]
  },
  {
   "cell_type": "markdown",
   "id": "9bae4d96-97c3-4728-8522-748199e4f66e",
   "metadata": {},
   "source": [
    "### 代码"
   ]
  },
  {
   "cell_type": "code",
   "execution_count": 17,
   "id": "52df95ac-9064-4202-8631-0786c908d956",
   "metadata": {},
   "outputs": [
    {
     "name": "stdout",
     "output_type": "stream",
     "text": [
      "[1, 1, 2, 3, 4, 4, 5, 6, 9, 10]\n"
     ]
    }
   ],
   "source": [
    "class ListNode:\n",
    "    def __init__(self, val=0, next=None):\n",
    "        self.val = val\n",
    "        self.next = next\n",
    "\n",
    "    def __repr__(self):\n",
    "        return f\"{self.val} -> {self.next}\"\n",
    "\n",
    "def build_list(arr):\n",
    "    dummy = ListNode(0)\n",
    "    curr = dummy\n",
    "    for x in arr:\n",
    "        curr.next = ListNode(x)\n",
    "        curr = curr.next\n",
    "    return dummy.next\n",
    "\n",
    "def list_to_array(node):\n",
    "    res = []\n",
    "    while node:\n",
    "        res.append(node.val)\n",
    "        node = node.next\n",
    "    return res\n",
    "\n",
    "class Solution:\n",
    "    def mergeTwoLists(self, list1: ListNode, list2: ListNode) -> ListNode:\n",
    "        dummy = curr = ListNode(0)\n",
    "        while list1 and list2:\n",
    "            if list1.val < list2.val:\n",
    "                curr.next = list1\n",
    "                list1 = list1.next\n",
    "            else:\n",
    "                curr.next = list2\n",
    "                list2 = list2.next\n",
    "            curr = curr.next\n",
    "        curr.next = list1 if list1 else list2\n",
    "        return dummy.next\n",
    "\n",
    "    def mergeKLists(self, lists):\n",
    "        while len(lists) > 1:\n",
    "            merged = []\n",
    "            for i in range(0, len(lists), 2):\n",
    "                l1 = lists[i]\n",
    "                l2 = lists[i+1] if i+1 < len(lists) else None\n",
    "                merged.append(self.mergeTwoLists(l1, l2))\n",
    "            lists = merged\n",
    "        return lists[0] if lists else None\n",
    "\n",
    "\n",
    "lists_input = [[1,4,5], [1,3,4], [2,6], [9, 10]]\n",
    "\n",
    "lists = [build_list(arr) for arr in lists_input]\n",
    "\n",
    "sol = Solution()\n",
    "merged_head = sol.mergeKLists(lists)\n",
    "\n",
    "print(list_to_array(merged_head))"
   ]
  },
  {
   "cell_type": "code",
   "execution_count": null,
   "id": "01744800-55c0-4e56-8b6a-aaff698057b5",
   "metadata": {},
   "outputs": [],
   "source": []
  }
 ],
 "metadata": {
  "kernelspec": {
   "display_name": "Python [conda env:base] *",
   "language": "python",
   "name": "conda-base-py"
  },
  "language_info": {
   "codemirror_mode": {
    "name": "ipython",
    "version": 3
   },
   "file_extension": ".py",
   "mimetype": "text/x-python",
   "name": "python",
   "nbconvert_exporter": "python",
   "pygments_lexer": "ipython3",
   "version": "3.12.3"
  }
 },
 "nbformat": 4,
 "nbformat_minor": 5
}
