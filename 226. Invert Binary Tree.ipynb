{
 "cells": [
  {
   "cell_type": "markdown",
   "id": "9a1946e6-647a-4fe0-b44f-fe6e6a389f33",
   "metadata": {},
   "source": [
    "# 翻转二叉树"
   ]
  },
  {
   "cell_type": "markdown",
   "id": "6028d191-0425-484b-a408-a8cb86fd6c77",
   "metadata": {},
   "source": [
    "### 基础"
   ]
  },
  {
   "cell_type": "markdown",
   "id": "dc871483-7ba8-42aa-b762-3ba57d45aacd",
   "metadata": {},
   "source": [
    "### BFS vs DFS 全面对比表\n",
    "\n",
    "| 分类 | BFS（Breadth-First Search） | DFS（Depth-First Search） |\n",
    "|------|------------------------------|----------------------------|\n",
    "| **中文名** | 广度优先搜索 | 深度优先搜索 |\n",
    "| **核心思想** | 一层一层地向外扩展，先访问近处 | 一条路走到黑，深入到底再回溯 |\n",
    "| **使用数据结构** | 队列（Queue）<br>先进先出 | 栈（Stack）或递归调用栈<br>后进先出 |\n",
    "| **访问顺序** | 按“层”访问：根 → 第一层 → 第二层 → ... | 按“深度”访问：根 → 左 → 右 → 回溯 |\n",
    "| **常见实现** | 使用 `deque` 队列迭代实现 | 使用递归函数或手动栈实现 |\n",
    "| **时间复杂度** | O(V + E)（访问所有节点和边） | O(V + E) |\n",
    "| **空间复杂度** | O(W)，W 为最大层宽 | O(H)，H 为树高或最大递归深度 |\n",
    "| **适合的结构** | 矮而宽的树或图（例如 B+ 树） | 高而窄的树（例如 二叉搜索树） |\n",
    "| **是否天然分层** | ✅ 天然有层级结构（可直接得最短距离） | ❌ 需显式记录层信息（通过参数） |\n",
    "| **是否天然求最短路径** | ✅ 可以直接求最短路径 | ❌ 需额外判断路径最优性 |\n",
    "| **是否可能栈溢出** | ❌ 不会（迭代方式） | ⚠️ 可能（递归太深时） |\n",
    "| **遍历结果特征** | 从中心向外扩散，像波纹 | 从根一路深入，像钻洞 |\n",
    "| **典型用途（树）** | 层序遍历、最小深度、按层打印 | 最大深度、路径搜索、对称性判断 |\n",
    "| **典型用途（图 / 矩阵）** | 最短路径、最小步数、感染扩散 | 连通性、形状探索、区域计数 |\n",
    "| **控制变量方式** | 通过队列控制访问层级 | 通过递归栈控制访问深度 |\n",
    "| **遍历示意（以二叉树为例）** | `1 → 2 → 3 → 4 → 5 → 6` | `1 → 2 → 4 → 5 → 3 → 6` |\n",
    "| **比喻理解** | 水波从中心向外扩散 | 探险家沿路径一直钻到底 |\n",
    "| **优势总结** | 找最短路径快，层次结构清晰 | 空间更省，递归实现自然 |\n",
    "| **缺点总结** | 队列可能很大（宽度爆炸） | 深度太大时可能递归溢出 |"
   ]
  },
  {
   "cell_type": "markdown",
   "id": "67cd10c9-b641-439e-917f-418ef3eede79",
   "metadata": {},
   "source": [
    "### 思路"
   ]
  },
  {
   "cell_type": "markdown",
   "id": "8fee995a-1c59-4a0f-b2f3-bf2c2201b0b2",
   "metadata": {},
   "source": [
    "本题的思路依旧分为BFS和DFS，DFS思想上先反转左右的子树 然后再交换，而BFS则一层层地交换每个节点的左右子树"
   ]
  },
  {
   "cell_type": "markdown",
   "id": "008f3da5-aa45-4e21-a72f-da48f3dc901a",
   "metadata": {},
   "source": [
    "### 代码"
   ]
  },
  {
   "cell_type": "code",
   "execution_count": 5,
   "id": "de8a97f7-be40-4a3b-bb7d-f3414dd151f9",
   "metadata": {},
   "outputs": [
    {
     "name": "stdout",
     "output_type": "stream",
     "text": [
      "原树： [[4], [2, 7], [1, 3, 6, 9]]\n",
      "BFS 翻转后： [[4], [7, 2], [9, 6, 3, 1]]\n",
      "DFS 翻转后： [[4], [7, 2], [9, 6, 3, 1]]\n"
     ]
    }
   ],
   "source": [
    "from collections import deque\n",
    "\n",
    "class TreeNode:\n",
    "    def __init__(self, val=0, left=None, right=None):\n",
    "        self.val = val\n",
    "        self.left = left\n",
    "        self.right = right\n",
    "\n",
    "\n",
    "# ---------- 方法1：BFS ----------\n",
    "class SolutionBFS:\n",
    "    def invertTree(self, root: TreeNode) -> TreeNode:\n",
    "        if not root:\n",
    "            return None\n",
    "        q = deque([root])\n",
    "        while q:\n",
    "            node = q.popleft()\n",
    "            node.left, node.right = node.right, node.left\n",
    "            if node.left:\n",
    "                q.append(node.left)\n",
    "            if node.right:\n",
    "                q.append(node.right)\n",
    "        return root\n",
    "\n",
    "\n",
    "# ---------- 方法2：DFS ----------\n",
    "class SolutionDFS:\n",
    "    def invertTree(self, root: TreeNode) -> TreeNode:\n",
    "        if not root:\n",
    "            return None\n",
    "        root.left, root.right = root.right, root.left\n",
    "        self.invertTree(root.left)\n",
    "        self.invertTree(root.right)\n",
    "        return root\n",
    "\n",
    "# 原树结构：\n",
    "#        4\n",
    "#      /   \\\n",
    "#     2     7\n",
    "#    / \\   / \\\n",
    "#   1  3  6  9\n",
    "root = TreeNode(4)\n",
    "root.left = TreeNode(2, TreeNode(1), TreeNode(3))\n",
    "root.right = TreeNode(7, TreeNode(6), TreeNode(9))\n",
    "\n",
    "def level_order(root):\n",
    "    if not root:\n",
    "        return []\n",
    "    q = deque([root])\n",
    "    res = []\n",
    "    while q:\n",
    "        level = []\n",
    "        for _ in range(len(q)):\n",
    "            node = q.popleft()\n",
    "            level.append(node.val)\n",
    "            if node.left:\n",
    "                q.append(node.left)\n",
    "            if node.right:\n",
    "                q.append(node.right)\n",
    "        res.append(level)\n",
    "    return res\n",
    "\n",
    "bfs_solver = SolutionBFS()\n",
    "dfs_solver = SolutionDFS()\n",
    "\n",
    "import copy\n",
    "root_bfs = copy.deepcopy(root)\n",
    "root_dfs = copy.deepcopy(root)\n",
    "\n",
    "print(\"原树：\", level_order(root))\n",
    "print(\"BFS 翻转后：\", level_order(bfs_solver.invertTree(root_bfs)))\n",
    "print(\"DFS 翻转后：\", level_order(dfs_solver.invertTree(root_dfs)))"
   ]
  },
  {
   "cell_type": "markdown",
   "id": "b11a9e09-fc2d-4225-a1c5-10c80b8a2053",
   "metadata": {},
   "source": [
    "### 类似问题（617. 合并两个二叉树）"
   ]
  },
  {
   "cell_type": "markdown",
   "id": "eaad523e-591a-42dd-9222-32001216caee",
   "metadata": {},
   "source": [
    "### 思路"
   ]
  },
  {
   "cell_type": "markdown",
   "id": "8df4b163-1678-4558-accf-661f48058614",
   "metadata": {},
   "source": [
    "本题的思路可分为DFS和BFS，DFS每次递归实例先判断两树节点是否为空"
   ]
  },
  {
   "cell_type": "markdown",
   "id": "6ce85dd9-eba9-4a66-b535-5febf30f4f93",
   "metadata": {},
   "source": [
    "### 代码"
   ]
  },
  {
   "cell_type": "code",
   "execution_count": 16,
   "id": "c60b4af2-f7e7-432c-8bfe-4b7e2fbaef44",
   "metadata": {},
   "outputs": [
    {
     "name": "stdout",
     "output_type": "stream",
     "text": [
      "DFS 合并结果: [[3], [4, 5], [5, 4, 7]]\n",
      "BFS 合并结果: [[3], [4, 5], [5, 4, 7]]\n"
     ]
    }
   ],
   "source": [
    "from collections import deque\n",
    "from typing import Optional, List\n",
    "\n",
    "class TreeNode:\n",
    "    def __init__(self, val=0, left=None, right=None):\n",
    "        self.val = val\n",
    "        self.left = left\n",
    "        self.right = right\n",
    "\n",
    "def build_tree(values: List[Optional[int]]) -> Optional[TreeNode]:\n",
    "    if not values:\n",
    "        return None\n",
    "    root = TreeNode(values[0])\n",
    "    q = deque([root])\n",
    "    i = 1\n",
    "    while q and i < len(values):\n",
    "        node = q.popleft()\n",
    "        if i < len(values) and values[i] is not None:\n",
    "            node.left = TreeNode(values[i])\n",
    "            q.append(node.left)\n",
    "        i += 1\n",
    "        if i < len(values) and values[i] is not None:\n",
    "            node.right = TreeNode(values[i])\n",
    "            q.append(node.right)\n",
    "        i += 1\n",
    "    return root\n",
    "\n",
    "def level_order(root: Optional[TreeNode]) -> List[List[int]]:\n",
    "    if not root:\n",
    "        return []\n",
    "    q = deque([root])\n",
    "    res = []\n",
    "    while q:\n",
    "        level = []\n",
    "        for _ in range(len(q)):\n",
    "            node = q.popleft()\n",
    "            level.append(node.val)\n",
    "            if node.left:\n",
    "                q.append(node.left)\n",
    "            if node.right:\n",
    "                q.append(node.right)\n",
    "        res.append(level)\n",
    "    return res\n",
    "\n",
    "class SolutionDFS:\n",
    "    def mergeTrees(self, root1: Optional[TreeNode], root2: Optional[TreeNode]) -> Optional[TreeNode]:\n",
    "        if not root1:\n",
    "            return root2\n",
    "        if not root2:\n",
    "            return root1\n",
    "        root1.val += root2.val\n",
    "        root1.left = self.mergeTrees(root1.left, root2.left)\n",
    "        root1.right = self.mergeTrees(root1.right, root2.right)\n",
    "        return root1\n",
    "\n",
    "class SolutionBFS:\n",
    "    def mergeTrees(self, root1: Optional[TreeNode], root2: Optional[TreeNode]) -> Optional[TreeNode]:\n",
    "        if not root1:\n",
    "            return root2\n",
    "        if not root2:\n",
    "            return root1\n",
    "        q = deque([(root1, root2)])\n",
    "        while q:\n",
    "            r1, r2 = q.popleft()\n",
    "            if not (r1 and r2):\n",
    "                continue\n",
    "            r1.val += r2.val\n",
    "            if r2.left:\n",
    "                if not r1.left:\n",
    "                    r1.left = r2.left\n",
    "                else:\n",
    "                    q.append((r1.left, r2.left))\n",
    "            if r2.right:\n",
    "                if not r1.right:\n",
    "                    r1.right = r2.right\n",
    "                else:\n",
    "                    q.append((r1.right, r2.right))\n",
    "        return root1\n",
    "\n",
    "t1 = build_tree([1, 3, 2, 5])\n",
    "t2 = build_tree([2, 1, 3, None, 4, None, 7])\n",
    "\n",
    "dfs_result = SolutionDFS().mergeTrees(build_tree([1,3,2,5]), build_tree([2,1,3,None,4,None,7]))\n",
    "bfs_result = SolutionBFS().mergeTrees(build_tree([1,3,2,5]), build_tree([2,1,3,None,4,None,7]))\n",
    "\n",
    "print(\"DFS 合并结果:\", level_order(dfs_result))\n",
    "print(\"BFS 合并结果:\", level_order(bfs_result))"
   ]
  },
  {
   "cell_type": "code",
   "execution_count": null,
   "id": "bcd5d153-2bb6-4129-82c8-70b6d8079593",
   "metadata": {},
   "outputs": [],
   "source": []
  }
 ],
 "metadata": {
  "kernelspec": {
   "display_name": "Python [conda env:base] *",
   "language": "python",
   "name": "conda-base-py"
  },
  "language_info": {
   "codemirror_mode": {
    "name": "ipython",
    "version": 3
   },
   "file_extension": ".py",
   "mimetype": "text/x-python",
   "name": "python",
   "nbconvert_exporter": "python",
   "pygments_lexer": "ipython3",
   "version": "3.12.3"
  }
 },
 "nbformat": 4,
 "nbformat_minor": 5
}
