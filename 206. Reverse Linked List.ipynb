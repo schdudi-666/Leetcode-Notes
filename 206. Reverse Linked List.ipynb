{
 "cells": [
  {
   "cell_type": "markdown",
   "id": "e5f33d34-9c6a-41c8-ad79-f1120720824f",
   "metadata": {},
   "source": [
    "# 反转链表"
   ]
  },
  {
   "cell_type": "markdown",
   "id": "cc44d568-9956-4396-a590-729d1ea0fa10",
   "metadata": {},
   "source": [
    "### 思路"
   ]
  },
  {
   "cell_type": "markdown",
   "id": "e741a4d4-9da2-4754-8a08-b51b33e87997",
   "metadata": {},
   "source": [
    "本题为链表入门基础题 链表是一个不同于数组的结构 他维护的是一个指针 指向链表的第一个值 因此如果我们要反转链表 我们要分四步走：\n",
    "- 保存原链表 也就是用一个新建指针指向原链表的下一个值\n",
    "- 让当前指针的下一个位置指向前一个位置\n",
    "- 让前一个位置往后走一步\n",
    "- 让当前位置指向原链表的下一个值 也就是第一步时保存的位置 下一次循环时就可以从这里开始"
   ]
  },
  {
   "cell_type": "markdown",
   "id": "601ff524-dddb-4b5a-8bba-b7cb78d142dd",
   "metadata": {},
   "source": [
    "### 代码"
   ]
  },
  {
   "cell_type": "code",
   "execution_count": 17,
   "id": "0634ab78-aa56-4ddb-a654-472e490cadb6",
   "metadata": {},
   "outputs": [
    {
     "name": "stdin",
     "output_type": "stream",
     "text": [
      " 1, 2, 3, 4, 5\n"
     ]
    },
    {
     "name": "stdout",
     "output_type": "stream",
     "text": [
      "[5, 4, 3, 2, 1]\n"
     ]
    }
   ],
   "source": [
    "from typing import Optional\n",
    "\n",
    "class ListNode:\n",
    "     def __init__(self, val=0, next=None):\n",
    "         self.val = val\n",
    "         self.next = next\n",
    "\n",
    "def build_linked_list(nums):\n",
    "    if not nums: \n",
    "        return None\n",
    "    head = ListNode(nums[0])\n",
    "    cur = head\n",
    "    for x in nums[1:]:\n",
    "        cur.next = ListNode(x)\n",
    "        cur = cur.next\n",
    "    return head\n",
    "\n",
    "def to_list(head):\n",
    "    out = []\n",
    "    while head:\n",
    "        out.append(head.val)\n",
    "        head = head.next\n",
    "    return out\n",
    "\n",
    "class Solution:\n",
    "    def reverseList(self, head: Optional[ListNode]) -> Optional[ListNode]:\n",
    "        prev = None\n",
    "        curr = head\n",
    "        while curr:\n",
    "            next_node = curr.next\n",
    "            curr.next = prev\n",
    "            prev = curr\n",
    "            curr = next_node\n",
    "        return prev\n",
    "\n",
    "head = input()\n",
    "head = [int(x.strip()) for x in head.split(',')]\n",
    "head = build_linked_list(head)\n",
    "res = Solution().reverseList(head)\n",
    "print(to_list(res))"
   ]
  },
  {
   "cell_type": "markdown",
   "id": "d20b4a05-3175-4a10-b292-79d86f2c5eec",
   "metadata": {},
   "source": [
    "### 类似题目（92. 反转链表2）"
   ]
  },
  {
   "cell_type": "markdown",
   "id": "889bce05-dc8b-43dd-abf8-d6948942df28",
   "metadata": {},
   "source": [
    "### 思路"
   ]
  },
  {
   "cell_type": "markdown",
   "id": "005b09df-8059-4b8c-9f7e-37d4d1757985",
   "metadata": {},
   "source": [
    "与上一题类似 总体上分三步走 先找到左边的反转起点 然后反转直到right的部分 最后把反转后的结果前后都接上"
   ]
  },
  {
   "cell_type": "markdown",
   "id": "cb404aca-bbe3-4ef7-8c1d-2c2f46576014",
   "metadata": {},
   "source": [
    "### 代码"
   ]
  },
  {
   "cell_type": "code",
   "execution_count": 15,
   "id": "56d59319-a034-456a-ad0f-ce8fbb24a7ba",
   "metadata": {},
   "outputs": [
    {
     "name": "stdin",
     "output_type": "stream",
     "text": [
      " 1, 2, 3, 4, 5, 6, 7, 8, 9, 10, 11\n",
      "left 5\n",
      "right 9\n"
     ]
    },
    {
     "name": "stdout",
     "output_type": "stream",
     "text": [
      "[1, 2, 3, 4, 9, 8, 7, 6, 5, 10, 11]\n"
     ]
    }
   ],
   "source": [
    "class Solution:\n",
    "    def reverseBetween(self, head: Optional[ListNode], left: int, right: int) -> Optional[ListNode]:\n",
    "        dummy = ListNode(0, head)\n",
    "        curr = dummy\n",
    "        for i in range(left - 1):\n",
    "            curr = curr.next\n",
    "        left_prev = curr\n",
    "        start = left_prev.next\n",
    "\n",
    "        prev = None\n",
    "        curr = start\n",
    "        for i in range(right - left + 1):\n",
    "            next_node = curr.next\n",
    "            curr.next = prev\n",
    "            prev = curr\n",
    "            curr = next_node\n",
    "\n",
    "        left_prev.next = prev\n",
    "        start.next = curr\n",
    "        return dummy.next \n",
    "\n",
    "head = input()\n",
    "left = int(input(\"left\"))\n",
    "right = int(input(\"right\"))\n",
    "head = [int(x.strip()) for x in head.split(',')]\n",
    "head = build_linked_list(head)\n",
    "res = Solution().reverseBetween(head, left, right)\n",
    "print(to_list(res))"
   ]
  }
 ],
 "metadata": {
  "kernelspec": {
   "display_name": "Python [conda env:base] *",
   "language": "python",
   "name": "conda-base-py"
  },
  "language_info": {
   "codemirror_mode": {
    "name": "ipython",
    "version": 3
   },
   "file_extension": ".py",
   "mimetype": "text/x-python",
   "name": "python",
   "nbconvert_exporter": "python",
   "pygments_lexer": "ipython3",
   "version": "3.12.3"
  }
 },
 "nbformat": 4,
 "nbformat_minor": 5
}
